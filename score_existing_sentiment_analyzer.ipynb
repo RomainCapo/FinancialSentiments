{
 "cells": [
  {
   "cell_type": "markdown",
   "metadata": {},
   "source": [
    "# Project P3\n",
    "\n",
    "`Auteur` : Romain Capocasale (INF2dlm-a)\n",
    "\n",
    "`Date` : 01.10.2019\n",
    "\n",
    "`Version de python` : 3.7.1"
   ]
  },
  {
   "cell_type": "markdown",
   "metadata": {},
   "source": [
    "# Importation"
   ]
  },
  {
   "cell_type": "code",
   "execution_count": 1,
   "metadata": {},
   "outputs": [],
   "source": [
    "%matplotlib inline\n",
    "from matplotlib import pyplot as plt\n",
    "\n",
    "import pandas as pd\n",
    "import numpy as np\n",
    "\n",
    "from vaderSentiment.vaderSentiment import SentimentIntensityAnalyzer\n",
    "from textblob import TextBlob\n",
    "\n",
    "from sklearn.model_selection import train_test_split\n",
    "from sklearn import metrics\n",
    "from sklearn.pipeline import Pipeline\n",
    "from sklearn.feature_extraction.text import CountVectorizer\n",
    "from sklearn.feature_extraction.text import TfidfTransformer\n",
    "from sklearn.svm import SVR\n",
    "from sklearn.base import BaseEstimator, TransformerMixin\n",
    "from sklearn.linear_model import LinearRegression\n",
    "from sklearn.ensemble import RandomForestRegressor\n",
    "from sklearn.model_selection import GridSearchCV, RandomizedSearchCV\n",
    "\n",
    "import string\n",
    "from spacy.lang.en.stop_words import STOP_WORDS\n",
    "from spacy.lang.en import English\n",
    "import en_core_web_sm\n",
    "import spacy\n",
    "import dill as pickle"
   ]
  },
  {
   "cell_type": "markdown",
   "metadata": {},
   "source": [
    "# Chragement du jeu de données"
   ]
  },
  {
   "cell_type": "code",
   "execution_count": 2,
   "metadata": {},
   "outputs": [],
   "source": [
    "dataset = pd.read_json('dataset/financialData.json')"
   ]
  },
  {
   "cell_type": "markdown",
   "metadata": {},
   "source": [
    "# Analyse du jeu de données"
   ]
  },
  {
   "cell_type": "code",
   "execution_count": 3,
   "metadata": {},
   "outputs": [
    {
     "data": {
      "text/html": [
       "<div>\n",
       "<style scoped>\n",
       "    .dataframe tbody tr th:only-of-type {\n",
       "        vertical-align: middle;\n",
       "    }\n",
       "\n",
       "    .dataframe tbody tr th {\n",
       "        vertical-align: top;\n",
       "    }\n",
       "\n",
       "    .dataframe thead th {\n",
       "        text-align: right;\n",
       "    }\n",
       "</style>\n",
       "<table border=\"1\" class=\"dataframe\">\n",
       "  <thead>\n",
       "    <tr style=\"text-align: right;\">\n",
       "      <th></th>\n",
       "      <th>sentiment</th>\n",
       "      <th>title</th>\n",
       "    </tr>\n",
       "  </thead>\n",
       "  <tbody>\n",
       "    <tr>\n",
       "      <th>0</th>\n",
       "      <td>0.366</td>\n",
       "      <td>watching for bounce tomorrow</td>\n",
       "    </tr>\n",
       "    <tr>\n",
       "      <th>1</th>\n",
       "      <td>0.638</td>\n",
       "      <td>record number of passengers served in 2015</td>\n",
       "    </tr>\n",
       "    <tr>\n",
       "      <th>2</th>\n",
       "      <td>-0.494</td>\n",
       "      <td>out $NFLX -.35</td>\n",
       "    </tr>\n",
       "    <tr>\n",
       "      <th>3</th>\n",
       "      <td>0.460</td>\n",
       "      <td>Looking for a strong bounce Lunchtime rally co...</td>\n",
       "    </tr>\n",
       "    <tr>\n",
       "      <th>4</th>\n",
       "      <td>0.403</td>\n",
       "      <td>Very intrigued with the technology and growth ...</td>\n",
       "    </tr>\n",
       "  </tbody>\n",
       "</table>\n",
       "</div>"
      ],
      "text/plain": [
       "   sentiment                                              title\n",
       "0      0.366                      watching for bounce tomorrow \n",
       "1      0.638        record number of passengers served in 2015 \n",
       "2     -0.494                                    out $NFLX -.35 \n",
       "3      0.460  Looking for a strong bounce Lunchtime rally co...\n",
       "4      0.403  Very intrigued with the technology and growth ..."
      ]
     },
     "execution_count": 3,
     "metadata": {},
     "output_type": "execute_result"
    }
   ],
   "source": [
    "dataset.head()"
   ]
  },
  {
   "cell_type": "code",
   "execution_count": 4,
   "metadata": {},
   "outputs": [
    {
     "name": "stdout",
     "output_type": "stream",
     "text": [
      "<class 'pandas.core.frame.DataFrame'>\n",
      "RangeIndex: 2866 entries, 0 to 2865\n",
      "Data columns (total 2 columns):\n",
      "sentiment    2866 non-null float64\n",
      "title        2866 non-null object\n",
      "dtypes: float64(1), object(1)\n",
      "memory usage: 44.9+ KB\n"
     ]
    }
   ],
   "source": [
    "dataset.info()"
   ]
  },
  {
   "cell_type": "code",
   "execution_count": 5,
   "metadata": {},
   "outputs": [
    {
     "data": {
      "text/html": [
       "<div>\n",
       "<style scoped>\n",
       "    .dataframe tbody tr th:only-of-type {\n",
       "        vertical-align: middle;\n",
       "    }\n",
       "\n",
       "    .dataframe tbody tr th {\n",
       "        vertical-align: top;\n",
       "    }\n",
       "\n",
       "    .dataframe thead th {\n",
       "        text-align: right;\n",
       "    }\n",
       "</style>\n",
       "<table border=\"1\" class=\"dataframe\">\n",
       "  <thead>\n",
       "    <tr style=\"text-align: right;\">\n",
       "      <th></th>\n",
       "      <th>sentiment</th>\n",
       "    </tr>\n",
       "  </thead>\n",
       "  <tbody>\n",
       "    <tr>\n",
       "      <th>count</th>\n",
       "      <td>2866.000000</td>\n",
       "    </tr>\n",
       "    <tr>\n",
       "      <th>mean</th>\n",
       "      <td>0.079841</td>\n",
       "    </tr>\n",
       "    <tr>\n",
       "      <th>std</th>\n",
       "      <td>0.391033</td>\n",
       "    </tr>\n",
       "    <tr>\n",
       "      <th>min</th>\n",
       "      <td>-1.000000</td>\n",
       "    </tr>\n",
       "    <tr>\n",
       "      <th>25%</th>\n",
       "      <td>-0.285000</td>\n",
       "    </tr>\n",
       "    <tr>\n",
       "      <th>50%</th>\n",
       "      <td>0.206000</td>\n",
       "    </tr>\n",
       "    <tr>\n",
       "      <th>75%</th>\n",
       "      <td>0.387000</td>\n",
       "    </tr>\n",
       "    <tr>\n",
       "      <th>max</th>\n",
       "      <td>1.000000</td>\n",
       "    </tr>\n",
       "  </tbody>\n",
       "</table>\n",
       "</div>"
      ],
      "text/plain": [
       "         sentiment\n",
       "count  2866.000000\n",
       "mean      0.079841\n",
       "std       0.391033\n",
       "min      -1.000000\n",
       "25%      -0.285000\n",
       "50%       0.206000\n",
       "75%       0.387000\n",
       "max       1.000000"
      ]
     },
     "execution_count": 5,
     "metadata": {},
     "output_type": "execute_result"
    }
   ],
   "source": [
    "dataset.describe()"
   ]
  },
  {
   "cell_type": "markdown",
   "metadata": {},
   "source": [
    "Le jeu de données contient 2 colonnes :\n",
    "    - sentiment : le sentiment de la pharse, -1 pour positif et 1 pour positif\n",
    "    - title : la phrase en question"
   ]
  },
  {
   "cell_type": "markdown",
   "metadata": {},
   "source": [
    "# Répartition des classes"
   ]
  },
  {
   "cell_type": "code",
   "execution_count": 6,
   "metadata": {},
   "outputs": [
    {
     "name": "stdout",
     "output_type": "stream",
     "text": [
      "Number of data : 2866\n",
      "Number of positive data : 1756 (61.27%)\n",
      "Number of negative data : 1045 (36.462%)\n",
      "Number of neutral data : 65 (2.268%)\n",
      "Ratio positive/negative : 1.68\n"
     ]
    }
   ],
   "source": [
    "nb_pos, nb_neg, nb_ntr = len([sent for sent in dataset.sentiment if sent > 0]), len([sent for sent in dataset.sentiment if sent < 0]), len([sent for sent in dataset.sentiment if sent == 0])\n",
    "tot = len(dataset)\n",
    "print(\"Number of data : {}\".format(tot))\n",
    "print(\"Number of positive data : {} ({}%)\".format(nb_pos, round( nb_pos/tot*100, 3)))\n",
    "print(\"Number of negative data : {} ({}%)\".format(nb_neg, round( nb_neg/tot*100, 3)))\n",
    "print(\"Number of neutral data : {} ({}%)\".format(nb_ntr, round( nb_ntr/tot*100, 3)))\n",
    "print(\"Ratio positive/negative : {}\".format(round(nb_pos/nb_neg, 3)))"
   ]
  },
  {
   "cell_type": "code",
   "execution_count": 7,
   "metadata": {},
   "outputs": [
    {
     "data": {
      "text/plain": [
       "array([[<matplotlib.axes._subplots.AxesSubplot object at 0x000001612B38C748>]],\n",
       "      dtype=object)"
      ]
     },
     "execution_count": 7,
     "metadata": {},
     "output_type": "execute_result"
    },
    {
     "data": {
      "image/png": "[encoded data removed]",
      "text/plain": [
       "<Figure size 432x288 with 1 Axes>"
      ]
     },
     "metadata": {
      "needs_background": "light"
     },
     "output_type": "display_data"
    }
   ],
   "source": [
    "dataset.hist(bins=50)"
   ]
  },
  {
   "cell_type": "markdown",
   "metadata": {},
   "source": [
    "On remarque qu'il y a beaucoup plus de phrase avec un sentiment positif que négatif. On remarque égalemne sur le graphe 2 pics, un pour les sentiments négatifs aux alentours de -0.40 et un pour les sentiment négatifs"
   ]
  },
  {
   "cell_type": "markdown",
   "metadata": {},
   "source": [
    "# Nombre de mot moyen par phrase"
   ]
  },
  {
   "cell_type": "code",
   "execution_count": 8,
   "metadata": {},
   "outputs": [],
   "source": [
    "def average_word_by_sentence(sentences):\n",
    "    nb_total_word = 0\n",
    "    for row in sentences:\n",
    "        nb_total_word += len(row.split())\n",
    "    return round(nb_total_word / len(sentences), 3)"
   ]
  },
  {
   "cell_type": "code",
   "execution_count": 9,
   "metadata": {},
   "outputs": [
    {
     "name": "stdout",
     "output_type": "stream",
     "text": [
      "Average of word by sentence : 7.515\n"
     ]
    }
   ],
   "source": [
    "print(\"Average of word by sentence : {}\".format(average_word_by_sentence(dataset['title'])) )"
   ]
  },
  {
   "cell_type": "code",
   "execution_count": 10,
   "metadata": {},
   "outputs": [
    {
     "data": {
      "text/plain": [
       "Text(0, 0.5, 'Number of sentence')"
      ]
     },
     "execution_count": 10,
     "metadata": {},
     "output_type": "execute_result"
    },
    {
     "data": {
      "image/png": "[encoded data removed]",
      "text/plain": [
       "<Figure size 432x288 with 1 Axes>"
      ]
     },
     "metadata": {
      "needs_background": "light"
     },
     "output_type": "display_data"
    }
   ],
   "source": [
    "num_word_by_sentence = [len(x.split()) for x in dataset['title']]#count the number of word for each sentences\n",
    "\n",
    "plt.hist(num_word_by_sentence, bins=25)\n",
    "plt.title('Number of word by sentence', fontsize=20)\n",
    "plt.xlabel('Number of word', fontsize=14)\n",
    "plt.ylabel('Number of sentence', fontsize=14)"
   ]
  },
  {
   "cell_type": "markdown",
   "metadata": {},
   "source": [
    "On remarque que la moyenne de nombre de mot par phrase est de **7.515** et on peut voir sur le graphe la répartirion du nombre de mot par phrase."
   ]
  },
  {
   "cell_type": "markdown",
   "metadata": {},
   "source": [
    "# Récupération des valeurs x et y"
   ]
  },
  {
   "cell_type": "code",
   "execution_count": 3,
   "metadata": {},
   "outputs": [],
   "source": [
    "X = dataset['title']\n",
    "y = dataset['sentiment']"
   ]
  },
  {
   "cell_type": "markdown",
   "metadata": {},
   "source": [
    "# Séparation du jeu d'entrainement et jeu de test \n",
    "Je n'utilise pas la classe StratifiedShuffleSplit qui assure une répartition équitable entre le nombre de phrase positive et négative dans le jeu de test et le jeu d'entrainement car étant donné qu'il y a beaucoup plus de phrase positive que négative on perderait une grande partie du jeu de donnée.\n",
    "Le jeu d'entrainement est séparé en 2 parties, La première partie est le jeu d'entrainement qui sera utilisé pour la création du modèle d'analyse de sentiment. Le jeu de test sera lui utilisé pour tester la qualité des modèles évalués."
   ]
  },
  {
   "cell_type": "code",
   "execution_count": 4,
   "metadata": {},
   "outputs": [],
   "source": [
    "X_train, X_test, y_train, y_test = train_test_split(X, y, test_size=0.33, random_state=42)"
   ]
  },
  {
   "cell_type": "markdown",
   "metadata": {},
   "source": [
    "# Definition des méthode de calcul de score\n",
    "La méthode print_scores() permet de calculer la RMSE, la MAE et la précision à partir des vrai étiquettes et des étiquettes prédites. Il est également possible d'indiquer le seuil désiré, le seuil permet de definir pour une prédiction si elle doit considéré come positive ou négative. La méthode regression_score_to_classification() permet de transformer les étiquettes du format régression au format classification. Les étiquettes de -1 à seuil sont mise à 0 et celles de seuil à 1 sont mise à 1."
   ]
  },
  {
   "cell_type": "code",
   "execution_count": 5,
   "metadata": {},
   "outputs": [],
   "source": [
    "def regression_score_to_classification(labels, threshold):\n",
    "    '''Set to 0 regression prediction between -1 and thresold, set to 1 regression preiction between thresold and 1\n",
    "    Allow to pass from regression prediction to classification prediction\n",
    "    \n",
    "    labels -- list of regression score\n",
    "    thresold -- thresold\n",
    "    \n",
    "    return -- list of labels either 0 or 1\n",
    "    '''\n",
    "    y_clf = []\n",
    "    for y in labels:\n",
    "        if y <= threshold:\n",
    "            y_clf.append(0)\n",
    "        elif y > threshold:\n",
    "            y_clf.append(1)\n",
    "    return np.array(y_clf)\n",
    "        \n",
    "\n",
    "def print_scores(name, y_test, y_pred, threshold=0, show_classification_report=False):\n",
    "    '''Display the RMSE, MAE and accuracy for a model\n",
    "    \n",
    "    name -- name of the model\n",
    "    y_test -- true data\n",
    "    y_pred -- predicted data \n",
    "    threshold=0 -- threshold\n",
    "    show_classification_report=False -- display the score with sklearn.metrics.classification_report function\n",
    "    \n",
    "    '''\n",
    "    print(\"RMSE for {} : {}\".format(name, np.sqrt(metrics.mean_squared_error(y_test, y_pred))))\n",
    "    print(\"MAE for {} : {}\".format(name, metrics.mean_absolute_error(y_test, y_pred)))\n",
    "    \n",
    "    y_test_clf = regression_score_to_classification(y_test, threshold)\n",
    "    y_pred_clf = regression_score_to_classification(y_pred, threshold)\n",
    "    print(\"Accuracy for {} : {}\".format(name, metrics.accuracy_score(y_test_clf, y_pred_clf)))\n",
    "    if show_classification_report:\n",
    "        print(metrics.classification_report(y_test_clf, y_pred_clf))"
   ]
  },
  {
   "cell_type": "markdown",
   "metadata": {},
   "source": [
    "# Score de textblob et VADER\n",
    "Nous allons comparé le score de l'analyseur de sentiment de VADER(nltk) et textblob sur le jeu d'entrainement. Il est à noté que les phrases ne sont pas prétraité avant d'être envoyé aux analyseur de sentiment. En effet, ces 2 analyseur posséde leur propre méthode de prétraitement de texte. Les scores obtenus ici seront utilisé comme score de référence pour l'évaluation des futures modèles. Le but des futures modèles est de battre ces scores."
   ]
  },
  {
   "cell_type": "code",
   "execution_count": 57,
   "metadata": {},
   "outputs": [
    {
     "name": "stdout",
     "output_type": "stream",
     "text": [
      "RMSE for textblob : 0.3946489568269569\n",
      "MAE for textblob : 0.3349477944641503\n",
      "Accuracy for textblob : 0.5243128964059197\n"
     ]
    }
   ],
   "source": [
    "y_pred_textblob = []\n",
    "\n",
    "for x in X_test:\n",
    "    blob_analyser = TextBlob(x)\n",
    "    y_pred_textblob.append(blob_analyser.polarity)\n",
    "    \n",
    "y_pred_textblob = np.array(y_pred_textblob)\n",
    "print_scores('textblob', y_test, y_pred_textblob)"
   ]
  },
  {
   "cell_type": "code",
   "execution_count": 59,
   "metadata": {},
   "outputs": [
    {
     "name": "stdout",
     "output_type": "stream",
     "text": [
      "RMSE for VADER : 0.410972061994435\n",
      "MAE for VADER : 0.33345084566596195\n",
      "Accuracy for VADER : 0.5412262156448203\n"
     ]
    }
   ],
   "source": [
    "vader_analyser = SentimentIntensityAnalyzer()\n",
    "\n",
    "y_pred_vader = []\n",
    "for x in X_test:\n",
    "    y_pred_vader.append(vader_analyser.polarity_scores(x)['compound'])\n",
    "\n",
    "y_pred_vader = np.array(y_pred_vader)\n",
    "print_scores('VADER', y_test, y_pred_vader)"
   ]
  },
  {
   "cell_type": "markdown",
   "metadata": {},
   "source": [
    "On constate que les résultats obtenus sont plutot muavais. I est alors intéressant de créer un modèle dans le but d'obtenir de meilleurs résultats."
   ]
  },
  {
   "cell_type": "markdown",
   "metadata": {},
   "source": [
    "# Traitement du texte\n",
    "Le traitement du texte est effectué avec la librairie spacy. Dans un premier temps, on créé une classe héritant de BaseEstimator et de TransformerMixin. Le fait d'heriter de ces 2 classes permettera d'inclure cette classe dans le pipeline sklearn. Différent paramétres pour le prétraitement du texte sont défini dans le constructeur. Le principale avantage de cette méthode est qu'elle se combine avec l'utilisation de la classe GridSearchCV() qui permet de chercher les meilleurs hyper-parametrès pour un modèle. La classe doit implémenter la méthode fit() qui permet d'effectuer une estimation dans notre cas elle retournera self comme la classe n'effectue aucune estimation. La seconde méthode est transform() qui permet de transformer le texte, donc dans notre cas de prétaiter le texte. Le pipeline s'occupe d'appeler automatiquement les bonnes méthodes.\n",
    "\n",
    "Pour le prétraitement, différentes processus sont effectués sur la phrase:\n",
    " * **Tokenisation** : consiste à découper la phrase en mot.\n",
    " * **Suppression des ``stop word``** : suppresion des mots comme ``the``, ``are``, etc. Ce paramétre est configurable via le constructeur\n",
    " * **Tagging et suppression de certains mots tagués** : le tagging consiste à detecter le type du mot comme par exemple ``nom``, ``adjectif``, ``verbe``, etc. Par la suite, il faut supprimer le type de mot que l'on ne veut pas garder dans la phrase. Actuellement, les verbes, adverbes, nom et adjectifs sont conservés. Ce paramétre est configurable via le constructeur.\n",
    " * **Taille du mot** : consiste à garder que les mots d'une certaines taille. Ce paramétre est configurable via le constructeur.\n",
    " * **Suppresion de la ponctuation** : suppresion des caractère comme ``!``, ``?``, etc.\n",
    " * **Lemmatisation** : consiste à ne garder que la racine des mots dans le but de réduire la taille du dictionnaire. Par exemple, les mots comme ``runs``, ``running`` seront transformer en ``run``."
   ]
  },
  {
   "cell_type": "code",
   "execution_count": 6,
   "metadata": {},
   "outputs": [],
   "source": [
    "nlp = spacy.load('en')\n",
    "class TextProcessor(BaseEstimator, TransformerMixin):\n",
    "    '''Class use in pipeline to processing the text'''\n",
    "    def __init__(self, remove_stop_word=False, keep_only_good_word=True, min_word_size=2):\n",
    "        '''Constructor of TextProcessor\n",
    "        \n",
    "        remove_stop_word=False -- remove stop word in the sentence\n",
    "        keep_only_good_word=True -- keep only the verb, adverb, noun and adjectiv otherwise keep all the word type\n",
    "        min_word_size=2 -- remove all the word smaller that min_word_size, -1 to ignore this param\n",
    "        '''\n",
    "        self.remove_stop_word = remove_stop_word\n",
    "        self.keep_only_good_word = keep_only_good_word\n",
    "        self.min_word_size = min_word_size\n",
    "        self.good_words = ['VERB', 'ADV', 'NOUN', 'ADJ']\n",
    "        \n",
    "        self.punctuations = string.punctuation\n",
    "        \n",
    "    def spacy_text_processing(self, sentence):\n",
    "        '''Process the sentence, Cut the sentence in word, according to the parameters : deletes the stop word, \n",
    "        keeps only or not the verbs, adjectives, noun and adverb, deletes the words below a certain size, \n",
    "        removes the punctuation, and keeps only the roots of the word.\n",
    "        \n",
    "        sentence -- sentence to transform\n",
    "        '''\n",
    "        final_sentence = []\n",
    "        for word in nlp(sentence):\n",
    "            if self.remove_stop_word:\n",
    "                if word.is_stop:\n",
    "                    continue\n",
    "            \n",
    "            if self.keep_only_good_word:\n",
    "                if word.pos_ not in self.good_words:\n",
    "                    continue\n",
    "                    \n",
    "            if self.min_word_size!=-1:\n",
    "                if len(word.text) < self.min_word_size:\n",
    "                    continue\n",
    "                    \n",
    "            if word.text not in self.punctuations:\n",
    "                final_sentence.append(word.lemma_)\n",
    "        return final_sentence\n",
    "        \n",
    "    def transform(self, X, y=None):\n",
    "        '''Transform the text, call by the pipeline\n",
    "        \n",
    "        X -- data\n",
    "        y=None -- labels of the data\n",
    "        '''\n",
    "        X_transformed = []\n",
    "        for sentence in X:\n",
    "            X_transformed.append(' '.join(self.spacy_text_processing(sentence)))\n",
    "        return X_transformed\n",
    "    \n",
    "    def fit(self, X, y=None):\n",
    "        '''Use for estimation\n",
    "        \n",
    "        X -- data\n",
    "        y=None -- labels of the data\n",
    "        '''\n",
    "        return self"
   ]
  },
  {
   "cell_type": "markdown",
   "metadata": {},
   "source": [
    "# Création des pipelines et entrainement des modeles\n",
    "Un pipeline est créé pour chaque type de modèle. Trois types de modèles ont été selectionné : \n",
    " * la régression linéaire\n",
    " * la machine à vecteur de support \n",
    " * la Foret aléatoire\n",
    " \n",
    "Le pipeline commence par prétraité le texte avec la classe TextProcessor() créé précedemment, puis transformer la phrase en vecteur, effectuer la transformation Tfidf et pour finir l'ajout du modèle en question.\n",
    " \n",
    "Pour finir les différents pipelines sont entrainés avec les données d'entrainements."
   ]
  },
  {
   "cell_type": "code",
   "execution_count": 8,
   "metadata": {},
   "outputs": [
    {
     "name": "stderr",
     "output_type": "stream",
     "text": [
      "C:\\ProgramData\\Anaconda3\\lib\\site-packages\\sklearn\\svm\\base.py:193: FutureWarning: The default value of gamma will change from 'auto' to 'scale' in version 0.22 to account better for unscaled features. Set gamma explicitly to 'auto' or 'scale' to avoid this warning.\n",
      "  \"avoid this warning.\", FutureWarning)\n",
      "C:\\ProgramData\\Anaconda3\\lib\\site-packages\\sklearn\\ensemble\\forest.py:245: FutureWarning: The default value of n_estimators will change from 10 in version 0.20 to 100 in 0.22.\n",
      "  \"10 in version 0.20 to 100 in 0.22.\", FutureWarning)\n"
     ]
    },
    {
     "data": {
      "text/plain": [
       "Pipeline(memory=None,\n",
       "         steps=[('text_processing',\n",
       "                 TextProcessor(keep_only_good_word=True, min_word_size=2,\n",
       "                               remove_stop_word=False)),\n",
       "                ('vectorizer',\n",
       "                 CountVectorizer(analyzer='word', binary=False,\n",
       "                                 decode_error='strict',\n",
       "                                 dtype=<class 'numpy.int64'>, encoding='utf-8',\n",
       "                                 input='content', lowercase=True, max_df=1.0,\n",
       "                                 max_features=None, min_df=1,\n",
       "                                 ngram_range=(1, 1), preprocesso...\n",
       "                                  sublinear_tf=False, use_idf=True)),\n",
       "                ('rfr',\n",
       "                 RandomForestRegressor(bootstrap=True, criterion='mse',\n",
       "                                       max_depth=None, max_features='auto',\n",
       "                                       max_leaf_nodes=None,\n",
       "                                       min_impurity_decrease=0.0,\n",
       "                                       min_impurity_split=None,\n",
       "                                       min_samples_leaf=1, min_samples_split=2,\n",
       "                                       min_weight_fraction_leaf=0.0,\n",
       "                                       n_estimators=10, n_jobs=None,\n",
       "                                       oob_score=False, random_state=None,\n",
       "                                       verbose=0, warm_start=False))],\n",
       "         verbose=False)"
      ]
     },
     "execution_count": 8,
     "metadata": {},
     "output_type": "execute_result"
    }
   ],
   "source": [
    "lr_model = Pipeline([('text_processing', TextProcessor()),\n",
    "                    ('vectorizer', CountVectorizer()),\n",
    "                    ('tfidf', TfidfTransformer()),\n",
    "                    ('lr', LinearRegression())])\n",
    "\n",
    "svr_model = Pipeline([('text_processing', TextProcessor()),\n",
    "                    ('vectorizer', CountVectorizer()),\n",
    "                    ('tfidf', TfidfTransformer()),\n",
    "                    ('svr', SVR(kernel='poly'))])\n",
    "\n",
    "rfr_model = Pipeline([('text_processing', TextProcessor()),\n",
    "                    ('vectorizer', CountVectorizer()),\n",
    "                    ('tfidf', TfidfTransformer()),\n",
    "                    ('rfr', RandomForestRegressor())])\n",
    "\n",
    "lr_model.fit(X_train, y_train)\n",
    "svr_model.fit(X_train, y_train)\n",
    "rfr_model.fit(X_train, y_train)"
   ]
  },
  {
   "cell_type": "markdown",
   "metadata": {},
   "source": [
    "# Evaluation des modèles\n",
    "Le score des modèles est calculé avec le jeu de test. On remarque que pour la MAE et la RMSE seul le modèle Random Forest Regressor obtient de meilleurs résultats que les analyseurs preccedents. On peut également constaté qu'au niveau de la précision (Accuracy en anglais) tous les modèles ont un meilleur score que les analyseurs préceddent et que la Random Forest Regressor obtient presque une précision de 80%.\n",
    "Il faudrait maintenant entrainé ces modèles avec une techinque comme la GridSearchCV() afin d'optimiser les hyper-parametres et d'obtenir encore de meilleurs résultats."
   ]
  },
  {
   "cell_type": "code",
   "execution_count": 16,
   "metadata": {},
   "outputs": [
    {
     "name": "stdout",
     "output_type": "stream",
     "text": [
      "RMSE for Linear regression : 0.507525533756625\n",
      "MAE for Linear regression : 0.34263749604820276\n",
      "Accuracy for Linear regression : 0.7124735729386892\n",
      "\n",
      "\n",
      "RMSE for Support Vector Regression : 0.4026153740288686\n",
      "MAE for Support Vector Regression : 0.32564693434181574\n",
      "Accuracy for Support Vector Regression : 0.6173361522198731\n",
      "\n",
      "\n",
      "RMSE for Random forest regressor : 0.3051924807251932\n",
      "MAE for Random forest regressor : 0.22171353937922397\n",
      "Accuracy for Random forest regressor : 0.7843551797040169\n"
     ]
    }
   ],
   "source": [
    "y_pred_lr = lr_model.predict(X_test)\n",
    "print_scores('Linear regression', y_test, y_pred_lr)\n",
    "print(\"\\n\")\n",
    "y_pred_svr = svr_model.predict(X_test)\n",
    "print_scores('Support Vector Regression', y_test, y_pred_svr)\n",
    "print(\"\\n\")\n",
    "y_pred_rfr = rfr_model.predict(X_test)\n",
    "print_scores('Random forest regressor', y_test, y_pred_rfr)"
   ]
  },
  {
   "cell_type": "markdown",
   "metadata": {},
   "source": [
    "# Recherche par quadriallage\n",
    "Dans le but d'améliorer encore la performance des modèles, il est possible d'effectuer une recherche par quadriallage  pour trouver les meilleures hyperparamètres. Les parametrès à tester se trouve dans le dictionnaire. La clé corresponds au nom du paramètre à tester et la valeur correponds au différentes valeurs que peuvnent prendre les hyperparamètres. "
   ]
  },
  {
   "cell_type": "code",
   "execution_count": 10,
   "metadata": {},
   "outputs": [
    {
     "name": "stdout",
     "output_type": "stream",
     "text": [
      "Fitting 3 folds for each of 30 candidates, totalling 90 fits\n"
     ]
    },
    {
     "name": "stderr",
     "output_type": "stream",
     "text": [
      "[Parallel(n_jobs=-1)]: Using backend LokyBackend with 4 concurrent workers.\n"
     ]
    },
    {
     "ename": "PicklingError",
     "evalue": "Could not pickle the task to send it to the workers.",
     "output_type": "error",
     "traceback": [
      "\u001b[1;31m---------------------------------------------------------------------------\u001b[0m",
      "\u001b[1;31m_RemoteTraceback\u001b[0m                          Traceback (most recent call last)",
      "\u001b[1;31m_RemoteTraceback\u001b[0m: \n\"\"\"\nTraceback (most recent call last):\n  File \"C:\\ProgramData\\Anaconda3\\lib\\site-packages\\joblib\\externals\\loky\\backend\\queues.py\", line 150, in _feed\n    obj_ = dumps(obj, reducers=reducers)\n  File \"C:\\ProgramData\\Anaconda3\\lib\\site-packages\\joblib\\externals\\loky\\backend\\reduction.py\", line 243, in dumps\n    dump(obj, buf, reducers=reducers, protocol=protocol)\n  File \"C:\\ProgramData\\Anaconda3\\lib\\site-packages\\joblib\\externals\\loky\\backend\\reduction.py\", line 236, in dump\n    _LokyPickler(file, reducers=reducers, protocol=protocol).dump(obj)\n  File \"C:\\ProgramData\\Anaconda3\\lib\\site-packages\\joblib\\externals\\cloudpickle\\cloudpickle.py\", line 267, in dump\n    return Pickler.dump(self, obj)\n  File \"C:\\ProgramData\\Anaconda3\\lib\\pickle.py\", line 437, in dump\n    self.save(obj)\n  File \"C:\\ProgramData\\Anaconda3\\lib\\pickle.py\", line 549, in save\n    self.save_reduce(obj=obj, *rv)\n  File \"C:\\ProgramData\\Anaconda3\\lib\\pickle.py\", line 662, in save_reduce\n    save(state)\n  File \"C:\\ProgramData\\Anaconda3\\lib\\pickle.py\", line 504, in save\n    f(self, obj) # Call unbound method with explicit self\n  File \"C:\\ProgramData\\Anaconda3\\lib\\pickle.py\", line 859, in save_dict\n    self._batch_setitems(obj.items())\n  File \"C:\\ProgramData\\Anaconda3\\lib\\pickle.py\", line 885, in _batch_setitems\n    save(v)\n  File \"C:\\ProgramData\\Anaconda3\\lib\\pickle.py\", line 549, in save\n    self.save_reduce(obj=obj, *rv)\n  File \"C:\\ProgramData\\Anaconda3\\lib\\pickle.py\", line 662, in save_reduce\n    save(state)\n  File \"C:\\ProgramData\\Anaconda3\\lib\\pickle.py\", line 504, in save\n    f(self, obj) # Call unbound method with explicit self\n  File \"C:\\ProgramData\\Anaconda3\\lib\\pickle.py\", line 859, in save_dict\n    self._batch_setitems(obj.items())\n  File \"C:\\ProgramData\\Anaconda3\\lib\\pickle.py\", line 890, in _batch_setitems\n    save(v)\n  File \"C:\\ProgramData\\Anaconda3\\lib\\pickle.py\", line 549, in save\n    self.save_reduce(obj=obj, *rv)\n  File \"C:\\ProgramData\\Anaconda3\\lib\\pickle.py\", line 662, in save_reduce\n    save(state)\n  File \"C:\\ProgramData\\Anaconda3\\lib\\pickle.py\", line 504, in save\n    f(self, obj) # Call unbound method with explicit self\n  File \"C:\\ProgramData\\Anaconda3\\lib\\pickle.py\", line 859, in save_dict\n    self._batch_setitems(obj.items())\n  File \"C:\\ProgramData\\Anaconda3\\lib\\pickle.py\", line 885, in _batch_setitems\n    save(v)\n  File \"C:\\ProgramData\\Anaconda3\\lib\\pickle.py\", line 504, in save\n    f(self, obj) # Call unbound method with explicit self\n  File \"C:\\ProgramData\\Anaconda3\\lib\\pickle.py\", line 819, in save_list\n    self._batch_appends(obj)\n  File \"C:\\ProgramData\\Anaconda3\\lib\\pickle.py\", line 846, in _batch_appends\n    save(tmp[0])\n  File \"C:\\ProgramData\\Anaconda3\\lib\\pickle.py\", line 504, in save\n    f(self, obj) # Call unbound method with explicit self\n  File \"C:\\ProgramData\\Anaconda3\\lib\\pickle.py\", line 774, in save_tuple\n    save(element)\n  File \"C:\\ProgramData\\Anaconda3\\lib\\pickle.py\", line 504, in save\n    f(self, obj) # Call unbound method with explicit self\n  File \"C:\\ProgramData\\Anaconda3\\lib\\pickle.py\", line 774, in save_tuple\n    save(element)\n  File \"C:\\ProgramData\\Anaconda3\\lib\\pickle.py\", line 549, in save\n    self.save_reduce(obj=obj, *rv)\n  File \"C:\\ProgramData\\Anaconda3\\lib\\pickle.py\", line 662, in save_reduce\n    save(state)\n  File \"C:\\ProgramData\\Anaconda3\\lib\\pickle.py\", line 504, in save\n    f(self, obj) # Call unbound method with explicit self\n  File \"C:\\ProgramData\\Anaconda3\\lib\\pickle.py\", line 859, in save_dict\n    self._batch_setitems(obj.items())\n  File \"C:\\ProgramData\\Anaconda3\\lib\\pickle.py\", line 885, in _batch_setitems\n    save(v)\n  File \"C:\\ProgramData\\Anaconda3\\lib\\pickle.py\", line 504, in save\n    f(self, obj) # Call unbound method with explicit self\n  File \"C:\\ProgramData\\Anaconda3\\lib\\pickle.py\", line 819, in save_list\n    self._batch_appends(obj)\n  File \"C:\\ProgramData\\Anaconda3\\lib\\pickle.py\", line 843, in _batch_appends\n    save(x)\n  File \"C:\\ProgramData\\Anaconda3\\lib\\pickle.py\", line 504, in save\n    f(self, obj) # Call unbound method with explicit self\n  File \"C:\\ProgramData\\Anaconda3\\lib\\pickle.py\", line 774, in save_tuple\n    save(element)\n  File \"C:\\ProgramData\\Anaconda3\\lib\\pickle.py\", line 549, in save\n    self.save_reduce(obj=obj, *rv)\n  File \"C:\\ProgramData\\Anaconda3\\lib\\pickle.py\", line 633, in save_reduce\n    save(cls)\n  File \"C:\\ProgramData\\Anaconda3\\lib\\pickle.py\", line 504, in save\n    f(self, obj) # Call unbound method with explicit self\n  File \"C:\\ProgramData\\Anaconda3\\lib\\site-packages\\joblib\\externals\\cloudpickle\\cloudpickle.py\", line 693, in save_global\n    return self.save_dynamic_class(obj)\n  File \"C:\\ProgramData\\Anaconda3\\lib\\site-packages\\joblib\\externals\\cloudpickle\\cloudpickle.py\", line 532, in save_dynamic_class\n    save(clsdict)\n  File \"C:\\ProgramData\\Anaconda3\\lib\\pickle.py\", line 504, in save\n    f(self, obj) # Call unbound method with explicit self\n  File \"C:\\ProgramData\\Anaconda3\\lib\\pickle.py\", line 859, in save_dict\n    self._batch_setitems(obj.items())\n  File \"C:\\ProgramData\\Anaconda3\\lib\\pickle.py\", line 885, in _batch_setitems\n    save(v)\n  File \"C:\\ProgramData\\Anaconda3\\lib\\pickle.py\", line 504, in save\n    f(self, obj) # Call unbound method with explicit self\n  File \"C:\\ProgramData\\Anaconda3\\lib\\site-packages\\joblib\\externals\\cloudpickle\\cloudpickle.py\", line 395, in save_function\n    self.save_function_tuple(obj)\n  File \"C:\\ProgramData\\Anaconda3\\lib\\site-packages\\joblib\\externals\\cloudpickle\\cloudpickle.py\", line 594, in save_function_tuple\n    save(state)\n  File \"C:\\ProgramData\\Anaconda3\\lib\\pickle.py\", line 504, in save\n    f(self, obj) # Call unbound method with explicit self\n  File \"C:\\ProgramData\\Anaconda3\\lib\\pickle.py\", line 859, in save_dict\n    self._batch_setitems(obj.items())\n  File \"C:\\ProgramData\\Anaconda3\\lib\\pickle.py\", line 885, in _batch_setitems\n    save(v)\n  File \"C:\\ProgramData\\Anaconda3\\lib\\pickle.py\", line 504, in save\n    f(self, obj) # Call unbound method with explicit self\n  File \"C:\\ProgramData\\Anaconda3\\lib\\pickle.py\", line 859, in save_dict\n    self._batch_setitems(obj.items())\n  File \"C:\\ProgramData\\Anaconda3\\lib\\pickle.py\", line 890, in _batch_setitems\n    save(v)\n  File \"C:\\ProgramData\\Anaconda3\\lib\\pickle.py\", line 549, in save\n    self.save_reduce(obj=obj, *rv)\n  File \"C:\\ProgramData\\Anaconda3\\lib\\pickle.py\", line 662, in save_reduce\n    save(state)\n  File \"C:\\ProgramData\\Anaconda3\\lib\\pickle.py\", line 504, in save\n    f(self, obj) # Call unbound method with explicit self\n  File \"C:\\ProgramData\\Anaconda3\\lib\\pickle.py\", line 859, in save_dict\n    self._batch_setitems(obj.items())\n  File \"C:\\ProgramData\\Anaconda3\\lib\\pickle.py\", line 885, in _batch_setitems\n    save(v)\n  File \"C:\\ProgramData\\Anaconda3\\lib\\pickle.py\", line 549, in save\n    self.save_reduce(obj=obj, *rv)\n  File \"C:\\ProgramData\\Anaconda3\\lib\\pickle.py\", line 662, in save_reduce\n    save(state)\n  File \"C:\\ProgramData\\Anaconda3\\lib\\pickle.py\", line 504, in save\n    f(self, obj) # Call unbound method with explicit self\n  File \"C:\\ProgramData\\Anaconda3\\lib\\pickle.py\", line 789, in save_tuple\n    save(element)\n  File \"C:\\ProgramData\\Anaconda3\\lib\\pickle.py\", line 524, in save\n    rv = reduce(self.proto)\n  File \"stringsource\", line 2, in preshed.maps.PreshMap.__reduce_cython__\nTypeError: self.c_map cannot be converted to a Python object for pickling\n\"\"\"",
      "\nThe above exception was the direct cause of the following exception:\n",
      "\u001b[1;31mPicklingError\u001b[0m                             Traceback (most recent call last)",
      "\u001b[1;32m<ipython-input-10-af130d963af9>\u001b[0m in \u001b[0;36m<module>\u001b[1;34m\u001b[0m\n\u001b[0;32m     15\u001b[0m \u001b[1;33m\u001b[0m\u001b[0m\n\u001b[0;32m     16\u001b[0m \u001b[0mrandom_search_rfr\u001b[0m \u001b[1;33m=\u001b[0m \u001b[0mRandomizedSearchCV\u001b[0m\u001b[1;33m(\u001b[0m\u001b[0mrfr_grid_model\u001b[0m\u001b[1;33m,\u001b[0m \u001b[0mparam_grid_rfr\u001b[0m\u001b[1;33m,\u001b[0m\u001b[0mscoring\u001b[0m\u001b[1;33m=\u001b[0m\u001b[1;34m'neg_mean_absolute_error'\u001b[0m\u001b[1;33m,\u001b[0m  \u001b[0mn_iter\u001b[0m\u001b[1;33m=\u001b[0m\u001b[1;36m30\u001b[0m\u001b[1;33m,\u001b[0m \u001b[0mverbose\u001b[0m\u001b[1;33m=\u001b[0m\u001b[1;36m3\u001b[0m\u001b[1;33m,\u001b[0m \u001b[0mn_jobs\u001b[0m\u001b[1;33m=\u001b[0m\u001b[1;33m-\u001b[0m\u001b[1;36m1\u001b[0m\u001b[1;33m)\u001b[0m\u001b[1;33m\u001b[0m\u001b[1;33m\u001b[0m\u001b[0m\n\u001b[1;32m---> 17\u001b[1;33m \u001b[0mrandom_search_rfr\u001b[0m\u001b[1;33m.\u001b[0m\u001b[0mfit\u001b[0m\u001b[1;33m(\u001b[0m\u001b[0mX_train\u001b[0m\u001b[1;33m,\u001b[0m \u001b[0my_train\u001b[0m\u001b[1;33m)\u001b[0m\u001b[1;33m\u001b[0m\u001b[1;33m\u001b[0m\u001b[0m\n\u001b[0m",
      "\u001b[1;32mC:\\ProgramData\\Anaconda3\\lib\\site-packages\\sklearn\\model_selection\\_search.py\u001b[0m in \u001b[0;36mfit\u001b[1;34m(self, X, y, groups, **fit_params)\u001b[0m\n\u001b[0;32m    686\u001b[0m                 \u001b[1;32mreturn\u001b[0m \u001b[0mresults\u001b[0m\u001b[1;33m\u001b[0m\u001b[1;33m\u001b[0m\u001b[0m\n\u001b[0;32m    687\u001b[0m \u001b[1;33m\u001b[0m\u001b[0m\n\u001b[1;32m--> 688\u001b[1;33m             \u001b[0mself\u001b[0m\u001b[1;33m.\u001b[0m\u001b[0m_run_search\u001b[0m\u001b[1;33m(\u001b[0m\u001b[0mevaluate_candidates\u001b[0m\u001b[1;33m)\u001b[0m\u001b[1;33m\u001b[0m\u001b[1;33m\u001b[0m\u001b[0m\n\u001b[0m\u001b[0;32m    689\u001b[0m \u001b[1;33m\u001b[0m\u001b[0m\n\u001b[0;32m    690\u001b[0m         \u001b[1;31m# For multi-metric evaluation, store the best_index_, best_params_ and\u001b[0m\u001b[1;33m\u001b[0m\u001b[1;33m\u001b[0m\u001b[1;33m\u001b[0m\u001b[0m\n",
      "\u001b[1;32mC:\\ProgramData\\Anaconda3\\lib\\site-packages\\sklearn\\model_selection\\_search.py\u001b[0m in \u001b[0;36m_run_search\u001b[1;34m(self, evaluate_candidates)\u001b[0m\n\u001b[0;32m   1467\u001b[0m         evaluate_candidates(ParameterSampler(\n\u001b[0;32m   1468\u001b[0m             \u001b[0mself\u001b[0m\u001b[1;33m.\u001b[0m\u001b[0mparam_distributions\u001b[0m\u001b[1;33m,\u001b[0m \u001b[0mself\u001b[0m\u001b[1;33m.\u001b[0m\u001b[0mn_iter\u001b[0m\u001b[1;33m,\u001b[0m\u001b[1;33m\u001b[0m\u001b[1;33m\u001b[0m\u001b[0m\n\u001b[1;32m-> 1469\u001b[1;33m             random_state=self.random_state))\n\u001b[0m",
      "\u001b[1;32mC:\\ProgramData\\Anaconda3\\lib\\site-packages\\sklearn\\model_selection\\_search.py\u001b[0m in \u001b[0;36mevaluate_candidates\u001b[1;34m(candidate_params)\u001b[0m\n\u001b[0;32m    665\u001b[0m                                \u001b[1;32mfor\u001b[0m \u001b[0mparameters\u001b[0m\u001b[1;33m,\u001b[0m \u001b[1;33m(\u001b[0m\u001b[0mtrain\u001b[0m\u001b[1;33m,\u001b[0m \u001b[0mtest\u001b[0m\u001b[1;33m)\u001b[0m\u001b[1;33m\u001b[0m\u001b[1;33m\u001b[0m\u001b[0m\n\u001b[0;32m    666\u001b[0m                                in product(candidate_params,\n\u001b[1;32m--> 667\u001b[1;33m                                           cv.split(X, y, groups)))\n\u001b[0m\u001b[0;32m    668\u001b[0m \u001b[1;33m\u001b[0m\u001b[0m\n\u001b[0;32m    669\u001b[0m                 \u001b[1;32mif\u001b[0m \u001b[0mlen\u001b[0m\u001b[1;33m(\u001b[0m\u001b[0mout\u001b[0m\u001b[1;33m)\u001b[0m \u001b[1;33m<\u001b[0m \u001b[1;36m1\u001b[0m\u001b[1;33m:\u001b[0m\u001b[1;33m\u001b[0m\u001b[1;33m\u001b[0m\u001b[0m\n",
      "\u001b[1;32mC:\\ProgramData\\Anaconda3\\lib\\site-packages\\joblib\\parallel.py\u001b[0m in \u001b[0;36m__call__\u001b[1;34m(self, iterable)\u001b[0m\n\u001b[0;32m    932\u001b[0m \u001b[1;33m\u001b[0m\u001b[0m\n\u001b[0;32m    933\u001b[0m             \u001b[1;32mwith\u001b[0m \u001b[0mself\u001b[0m\u001b[1;33m.\u001b[0m\u001b[0m_backend\u001b[0m\u001b[1;33m.\u001b[0m\u001b[0mretrieval_context\u001b[0m\u001b[1;33m(\u001b[0m\u001b[1;33m)\u001b[0m\u001b[1;33m:\u001b[0m\u001b[1;33m\u001b[0m\u001b[1;33m\u001b[0m\u001b[0m\n\u001b[1;32m--> 934\u001b[1;33m                 \u001b[0mself\u001b[0m\u001b[1;33m.\u001b[0m\u001b[0mretrieve\u001b[0m\u001b[1;33m(\u001b[0m\u001b[1;33m)\u001b[0m\u001b[1;33m\u001b[0m\u001b[1;33m\u001b[0m\u001b[0m\n\u001b[0m\u001b[0;32m    935\u001b[0m             \u001b[1;31m# Make sure that we get a last message telling us we are done\u001b[0m\u001b[1;33m\u001b[0m\u001b[1;33m\u001b[0m\u001b[1;33m\u001b[0m\u001b[0m\n\u001b[0;32m    936\u001b[0m             \u001b[0melapsed_time\u001b[0m \u001b[1;33m=\u001b[0m \u001b[0mtime\u001b[0m\u001b[1;33m.\u001b[0m\u001b[0mtime\u001b[0m\u001b[1;33m(\u001b[0m\u001b[1;33m)\u001b[0m \u001b[1;33m-\u001b[0m \u001b[0mself\u001b[0m\u001b[1;33m.\u001b[0m\u001b[0m_start_time\u001b[0m\u001b[1;33m\u001b[0m\u001b[1;33m\u001b[0m\u001b[0m\n",
      "\u001b[1;32mC:\\ProgramData\\Anaconda3\\lib\\site-packages\\joblib\\parallel.py\u001b[0m in \u001b[0;36mretrieve\u001b[1;34m(self)\u001b[0m\n\u001b[0;32m    831\u001b[0m             \u001b[1;32mtry\u001b[0m\u001b[1;33m:\u001b[0m\u001b[1;33m\u001b[0m\u001b[1;33m\u001b[0m\u001b[0m\n\u001b[0;32m    832\u001b[0m                 \u001b[1;32mif\u001b[0m \u001b[0mgetattr\u001b[0m\u001b[1;33m(\u001b[0m\u001b[0mself\u001b[0m\u001b[1;33m.\u001b[0m\u001b[0m_backend\u001b[0m\u001b[1;33m,\u001b[0m \u001b[1;34m'supports_timeout'\u001b[0m\u001b[1;33m,\u001b[0m \u001b[1;32mFalse\u001b[0m\u001b[1;33m)\u001b[0m\u001b[1;33m:\u001b[0m\u001b[1;33m\u001b[0m\u001b[1;33m\u001b[0m\u001b[0m\n\u001b[1;32m--> 833\u001b[1;33m                     \u001b[0mself\u001b[0m\u001b[1;33m.\u001b[0m\u001b[0m_output\u001b[0m\u001b[1;33m.\u001b[0m\u001b[0mextend\u001b[0m\u001b[1;33m(\u001b[0m\u001b[0mjob\u001b[0m\u001b[1;33m.\u001b[0m\u001b[0mget\u001b[0m\u001b[1;33m(\u001b[0m\u001b[0mtimeout\u001b[0m\u001b[1;33m=\u001b[0m\u001b[0mself\u001b[0m\u001b[1;33m.\u001b[0m\u001b[0mtimeout\u001b[0m\u001b[1;33m)\u001b[0m\u001b[1;33m)\u001b[0m\u001b[1;33m\u001b[0m\u001b[1;33m\u001b[0m\u001b[0m\n\u001b[0m\u001b[0;32m    834\u001b[0m                 \u001b[1;32melse\u001b[0m\u001b[1;33m:\u001b[0m\u001b[1;33m\u001b[0m\u001b[1;33m\u001b[0m\u001b[0m\n\u001b[0;32m    835\u001b[0m                     \u001b[0mself\u001b[0m\u001b[1;33m.\u001b[0m\u001b[0m_output\u001b[0m\u001b[1;33m.\u001b[0m\u001b[0mextend\u001b[0m\u001b[1;33m(\u001b[0m\u001b[0mjob\u001b[0m\u001b[1;33m.\u001b[0m\u001b[0mget\u001b[0m\u001b[1;33m(\u001b[0m\u001b[1;33m)\u001b[0m\u001b[1;33m)\u001b[0m\u001b[1;33m\u001b[0m\u001b[1;33m\u001b[0m\u001b[0m\n",
      "\u001b[1;32mC:\\ProgramData\\Anaconda3\\lib\\site-packages\\joblib\\_parallel_backends.py\u001b[0m in \u001b[0;36mwrap_future_result\u001b[1;34m(future, timeout)\u001b[0m\n\u001b[0;32m    519\u001b[0m         AsyncResults.get from multiprocessing.\"\"\"\n\u001b[0;32m    520\u001b[0m         \u001b[1;32mtry\u001b[0m\u001b[1;33m:\u001b[0m\u001b[1;33m\u001b[0m\u001b[1;33m\u001b[0m\u001b[0m\n\u001b[1;32m--> 521\u001b[1;33m             \u001b[1;32mreturn\u001b[0m \u001b[0mfuture\u001b[0m\u001b[1;33m.\u001b[0m\u001b[0mresult\u001b[0m\u001b[1;33m(\u001b[0m\u001b[0mtimeout\u001b[0m\u001b[1;33m=\u001b[0m\u001b[0mtimeout\u001b[0m\u001b[1;33m)\u001b[0m\u001b[1;33m\u001b[0m\u001b[1;33m\u001b[0m\u001b[0m\n\u001b[0m\u001b[0;32m    522\u001b[0m         \u001b[1;32mexcept\u001b[0m \u001b[0mLokyTimeoutError\u001b[0m\u001b[1;33m:\u001b[0m\u001b[1;33m\u001b[0m\u001b[1;33m\u001b[0m\u001b[0m\n\u001b[0;32m    523\u001b[0m             \u001b[1;32mraise\u001b[0m \u001b[0mTimeoutError\u001b[0m\u001b[1;33m(\u001b[0m\u001b[1;33m)\u001b[0m\u001b[1;33m\u001b[0m\u001b[1;33m\u001b[0m\u001b[0m\n",
      "\u001b[1;32mC:\\ProgramData\\Anaconda3\\lib\\concurrent\\futures\\_base.py\u001b[0m in \u001b[0;36mresult\u001b[1;34m(self, timeout)\u001b[0m\n\u001b[0;32m    433\u001b[0m                 \u001b[1;32mraise\u001b[0m \u001b[0mCancelledError\u001b[0m\u001b[1;33m(\u001b[0m\u001b[1;33m)\u001b[0m\u001b[1;33m\u001b[0m\u001b[1;33m\u001b[0m\u001b[0m\n\u001b[0;32m    434\u001b[0m             \u001b[1;32melif\u001b[0m \u001b[0mself\u001b[0m\u001b[1;33m.\u001b[0m\u001b[0m_state\u001b[0m \u001b[1;33m==\u001b[0m \u001b[0mFINISHED\u001b[0m\u001b[1;33m:\u001b[0m\u001b[1;33m\u001b[0m\u001b[1;33m\u001b[0m\u001b[0m\n\u001b[1;32m--> 435\u001b[1;33m                 \u001b[1;32mreturn\u001b[0m \u001b[0mself\u001b[0m\u001b[1;33m.\u001b[0m\u001b[0m__get_result\u001b[0m\u001b[1;33m(\u001b[0m\u001b[1;33m)\u001b[0m\u001b[1;33m\u001b[0m\u001b[1;33m\u001b[0m\u001b[0m\n\u001b[0m\u001b[0;32m    436\u001b[0m             \u001b[1;32melse\u001b[0m\u001b[1;33m:\u001b[0m\u001b[1;33m\u001b[0m\u001b[1;33m\u001b[0m\u001b[0m\n\u001b[0;32m    437\u001b[0m                 \u001b[1;32mraise\u001b[0m \u001b[0mTimeoutError\u001b[0m\u001b[1;33m(\u001b[0m\u001b[1;33m)\u001b[0m\u001b[1;33m\u001b[0m\u001b[1;33m\u001b[0m\u001b[0m\n",
      "\u001b[1;32mC:\\ProgramData\\Anaconda3\\lib\\concurrent\\futures\\_base.py\u001b[0m in \u001b[0;36m__get_result\u001b[1;34m(self)\u001b[0m\n\u001b[0;32m    382\u001b[0m     \u001b[1;32mdef\u001b[0m \u001b[0m__get_result\u001b[0m\u001b[1;33m(\u001b[0m\u001b[0mself\u001b[0m\u001b[1;33m)\u001b[0m\u001b[1;33m:\u001b[0m\u001b[1;33m\u001b[0m\u001b[1;33m\u001b[0m\u001b[0m\n\u001b[0;32m    383\u001b[0m         \u001b[1;32mif\u001b[0m \u001b[0mself\u001b[0m\u001b[1;33m.\u001b[0m\u001b[0m_exception\u001b[0m\u001b[1;33m:\u001b[0m\u001b[1;33m\u001b[0m\u001b[1;33m\u001b[0m\u001b[0m\n\u001b[1;32m--> 384\u001b[1;33m             \u001b[1;32mraise\u001b[0m \u001b[0mself\u001b[0m\u001b[1;33m.\u001b[0m\u001b[0m_exception\u001b[0m\u001b[1;33m\u001b[0m\u001b[1;33m\u001b[0m\u001b[0m\n\u001b[0m\u001b[0;32m    385\u001b[0m         \u001b[1;32melse\u001b[0m\u001b[1;33m:\u001b[0m\u001b[1;33m\u001b[0m\u001b[1;33m\u001b[0m\u001b[0m\n\u001b[0;32m    386\u001b[0m             \u001b[1;32mreturn\u001b[0m \u001b[0mself\u001b[0m\u001b[1;33m.\u001b[0m\u001b[0m_result\u001b[0m\u001b[1;33m\u001b[0m\u001b[1;33m\u001b[0m\u001b[0m\n",
      "\u001b[1;31mPicklingError\u001b[0m: Could not pickle the task to send it to the workers."
     ]
    }
   ],
   "source": [
    "param_grid_rfr = {\n",
    "    'text_processing__keep_only_good_word':(True, False), \n",
    "    'text_processing__remove_stop_word': (True, False),\n",
    "    'text_processing__min_word_size' : [-1, 2,3,4,5],\n",
    "    'tfidf__use_idf' : (True, False),\n",
    "    'rfr__n_estimators' : [3,10,30],\n",
    "    'rfr__max_features' : [2,4,6,8],\n",
    "    'rfr__bootstrap' : (True, False)\n",
    "}\n",
    "\n",
    "rfr_grid_model = Pipeline([('text_processing', TextProcessor()),\n",
    "                    ('vectorizer', CountVectorizer()),\n",
    "                    ('tfidf', TfidfTransformer()),\n",
    "                    ('rfr', RandomForestRegressor())])\n",
    "\n",
    "random_search_rfr = RandomizedSearchCV(rfr_grid_model, param_grid_rfr,scoring='neg_mean_absolute_error',  n_iter=30, verbose=3, n_jobs=-1)\n",
    "random_search_rfr.fit(X_train, y_train)"
   ]
  },
  {
   "cell_type": "code",
   "execution_count": 24,
   "metadata": {},
   "outputs": [
    {
     "data": {
      "text/plain": [
       "{'tfidf__use_idf': False,\n",
       " 'text_processing__remove_stop_word': False,\n",
       " 'text_processing__min_word_size': 4,\n",
       " 'text_processing__keep_only_good_word': False,\n",
       " 'rfr__n_estimators': 10,\n",
       " 'rfr__max_features': 8,\n",
       " 'rfr__bootstrap': False}"
      ]
     },
     "execution_count": 24,
     "metadata": {},
     "output_type": "execute_result"
    }
   ],
   "source": [
    "random_search_rfr.best_params_"
   ]
  },
  {
   "cell_type": "markdown",
   "metadata": {},
   "source": [
    "On peut voir ci dessus les meilleurs paramètres à utiliser pour maximiser les performances de notre modèle. Ci-dessous on peut voir chaque combinaison de valeurs testé avec le score obtenu."
   ]
  },
  {
   "cell_type": "code",
   "execution_count": 25,
   "metadata": {},
   "outputs": [
    {
     "name": "stdout",
     "output_type": "stream",
     "text": [
      "0.2590588727618 {'tfidf__use_idf': False, 'text_processing__remove_stop_word': True, 'text_processing__min_word_size': -1, 'text_processing__keep_only_good_word': True, 'rfr__n_estimators': 10, 'rfr__max_features': 4, 'rfr__bootstrap': True}\n",
      "0.2497169053269151 {'tfidf__use_idf': False, 'text_processing__remove_stop_word': True, 'text_processing__min_word_size': 4, 'text_processing__keep_only_good_word': True, 'rfr__n_estimators': 30, 'rfr__max_features': 6, 'rfr__bootstrap': False}\n",
      "0.2536001050468287 {'tfidf__use_idf': False, 'text_processing__remove_stop_word': False, 'text_processing__min_word_size': 4, 'text_processing__keep_only_good_word': False, 'rfr__n_estimators': 10, 'rfr__max_features': 8, 'rfr__bootstrap': True}\n",
      "0.2781702663581134 {'tfidf__use_idf': False, 'text_processing__remove_stop_word': False, 'text_processing__min_word_size': -1, 'text_processing__keep_only_good_word': True, 'rfr__n_estimators': 3, 'rfr__max_features': 2, 'rfr__bootstrap': True}\n",
      "0.24680139165988285 {'tfidf__use_idf': True, 'text_processing__remove_stop_word': False, 'text_processing__min_word_size': -1, 'text_processing__keep_only_good_word': True, 'rfr__n_estimators': 30, 'rfr__max_features': 4, 'rfr__bootstrap': False}\n",
      "0.2484757383771889 {'tfidf__use_idf': False, 'text_processing__remove_stop_word': True, 'text_processing__min_word_size': 2, 'text_processing__keep_only_good_word': False, 'rfr__n_estimators': 30, 'rfr__max_features': 6, 'rfr__bootstrap': True}\n",
      "0.25438565138613317 {'tfidf__use_idf': True, 'text_processing__remove_stop_word': True, 'text_processing__min_word_size': 2, 'text_processing__keep_only_good_word': False, 'rfr__n_estimators': 3, 'rfr__max_features': 6, 'rfr__bootstrap': False}\n",
      "0.26977789841950206 {'tfidf__use_idf': False, 'text_processing__remove_stop_word': False, 'text_processing__min_word_size': -1, 'text_processing__keep_only_good_word': True, 'rfr__n_estimators': 3, 'rfr__max_features': 2, 'rfr__bootstrap': False}\n",
      "0.24171547126605578 {'tfidf__use_idf': False, 'text_processing__remove_stop_word': False, 'text_processing__min_word_size': 4, 'text_processing__keep_only_good_word': False, 'rfr__n_estimators': 10, 'rfr__max_features': 8, 'rfr__bootstrap': False}\n",
      "0.2643204091138146 {'tfidf__use_idf': False, 'text_processing__remove_stop_word': False, 'text_processing__min_word_size': 5, 'text_processing__keep_only_good_word': False, 'rfr__n_estimators': 30, 'rfr__max_features': 2, 'rfr__bootstrap': True}\n"
     ]
    }
   ],
   "source": [
    "cvres = random_search_rfr.cv_results_\n",
    "for mean_score, params in zip(cvres[\"mean_test_score\"], cvres['params']):\n",
    "    print(-mean_score, params)"
   ]
  },
  {
   "cell_type": "markdown",
   "metadata": {},
   "source": [
    "## Calcul des scores pour la recherche par quadrillage\n",
    "Même si le score ``MAE`` à déja été lors de la recherche par quadrillage, il est intéressant de calculer les autres scores. On peut voir que les résultats s'améliorent à peine plus qu'a l'étape d'avant."
   ]
  },
  {
   "cell_type": "code",
   "execution_count": 26,
   "metadata": {},
   "outputs": [
    {
     "name": "stdout",
     "output_type": "stream",
     "text": [
      "RMSE for Random forest regressor : 0.2924582119510245\n",
      "MAE for Random forest regressor : 0.2029450322807975\n",
      "Accuracy for Random forest regressor : 0.7970401691331924\n"
     ]
    }
   ],
   "source": [
    "y_pred_rfr_grid = random_search_rfr.predict(X_test)\n",
    "print_scores('Random forest regressor', y_test, y_pred_rfr_grid)"
   ]
  },
  {
   "cell_type": "code",
   "execution_count": null,
   "metadata": {},
   "outputs": [],
   "source": [
    "param_grid_svr = {\n",
    "        'tfidf__use_idf' : (True, False),\n",
    "        'svr__kernel': ('linear', 'rbf', 'poly', 'sigmoid'),\n",
    "        'svr__gamma': np.logspace(-9, 3, 13),\n",
    "        'svr__C': np.logspace(-2, 10, 13),\n",
    "} \n",
    "tp = TextProcessor(remove_stop_word=False, keep_only_good_word=False, min_word_size=4)\n",
    "X_train_processed = tp.fit_transform(X_train)\n",
    "\n",
    "svr_grid_model = Pipeline([\n",
    "                           ('vectorizer', CountVectorizer()),\n",
    "                    ('tfidf', TfidfTransformer()),\n",
    "                    ('svr', SVR())])\n",
    "\n",
    "grid_search_svr = GridSearchCV(svr_grid_model, param_grid_svr,scoring='neg_mean_absolute_error', verbose=1, n_jobs=-1)\n",
    "grid_search_svr.fit(X_train_processed, y_train)\n"
   ]
  },
  {
   "cell_type": "code",
   "execution_count": null,
   "metadata": {},
   "outputs": [],
   "source": [
    "import sklearn.externals.joblib.externals.loky.backend."
   ]
  }
 ],
 "metadata": {
  "kernelspec": {
   "display_name": "Python 3",
   "language": "python",
   "name": "python3"
  },
  "language_info": {
   "codemirror_mode": {
    "name": "ipython",
    "version": 3
   },
   "file_extension": ".py",
   "mimetype": "text/x-python",
   "name": "python",
   "nbconvert_exporter": "python",
   "pygments_lexer": "ipython3",
   "version": "3.7.4"
  }
 },
 "nbformat": 4,
 "nbformat_minor": 2
}
