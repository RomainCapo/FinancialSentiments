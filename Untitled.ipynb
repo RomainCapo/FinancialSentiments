{
 "cells": [
  {
   "cell_type": "code",
   "execution_count": 1,
   "metadata": {},
   "outputs": [],
   "source": [
    "import pandas as pd\n",
    "import numpy as np\n",
    "import re"
   ]
  },
  {
   "cell_type": "code",
   "execution_count": 10,
   "metadata": {},
   "outputs": [],
   "source": [
    "dataset = pd.read_csv('dataset/tweets_dataset/tweets.csv', encoding = 'ISO-8859-1')"
   ]
  },
  {
   "cell_type": "code",
   "execution_count": 11,
   "metadata": {},
   "outputs": [
    {
     "data": {
      "text/plain": [
       "1600498"
      ]
     },
     "execution_count": 11,
     "metadata": {},
     "output_type": "execute_result"
    }
   ],
   "source": [
    "len(dataset)"
   ]
  },
  {
   "cell_type": "code",
   "execution_count": 12,
   "metadata": {},
   "outputs": [],
   "source": [
    "dataset = dataset.drop(columns=['tweet_id', 'date', 'query', 'user'], axis=1)"
   ]
  },
  {
   "cell_type": "code",
   "execution_count": 37,
   "metadata": {},
   "outputs": [
    {
     "data": {
      "text/plain": [
       "'\\\\beur\\\\b|\\\\beuro\\\\b|\\\\b€\\\\b|\\\\beuropezar\\\\b|\\\\brand\\\\b|\\\\bjpy\\\\b|\\\\byen\\\\b|\\\\bjapancnh\\\\b|\\\\byuan\\\\b|\\\\brenminbi\\\\b|\\\\bchinarub\\\\b|\\\\bruble\\\\b|\\\\brussiausd\\\\b|\\\\bdollar\\\\b|\\\\b\\\\$\\\\b|\\\\busa\\\\b|\\\\bunited statenzd\\\\b|\\\\bnz\\\\$\\\\b|\\\\bnew-zelandaud\\\\b|\\\\ba\\\\$\\\\b|\\\\bau\\\\$\\\\b|\\\\baustraliachf\\\\b|\\\\bfranc\\\\b|\\\\b swissgbp\\\\b|\\\\bpound\\\\b|\\\\bsterling\\\\b|\\\\b\\\\£\\\\b|\\\\bgrowth\\\\b|\\\\bfiscal\\\\b|\\\\bpolicy\\\\b|\\\\bmonetary\\\\b|\\\\bpopulism\\\\b|\\\\btrade\\\\b|\\\\bwar\\\\b|\\\\bbrexit\\\\b|\\\\brisk-off\\\\b|\\\\brisk off\\\\b|\\\\binflation\\\\b|\\\\btrump\\\\b|\\\\bdonald\\\\b|\\\\bfinance\\\\b|\\\\bforex\\\\b'"
      ]
     },
     "execution_count": 37,
     "metadata": {},
     "output_type": "execute_result"
    }
   ],
   "source": [
    "topics = ['eur', 'euro', '€', 'europe'\n",
    "          'zar', 'rand', \n",
    "          'jpy', 'yen', 'japan'\n",
    "          'cnh', 'yuan', 'renminbi', 'china'\n",
    "          'rub', 'ruble', 'russia'\n",
    "          'usd', 'dollar', '\\$', 'usa', 'united state'\n",
    "          'nzd', 'nz\\$', 'new-zeland'\n",
    "          'aud', 'a\\$', 'au\\$', 'australia'\n",
    "          'chf', 'franc', ' swiss'\n",
    "          'gbp', 'pound', 'sterling', '\\£',\n",
    "          'growth',\n",
    "          'fiscal', 'policy', 'monetary',\n",
    "          'populism',\n",
    "          'trade', 'war',\n",
    "          'brexit',\n",
    "          'risk-off', 'risk off',\n",
    "          'inflation',\n",
    "          'trump', 'donald',\n",
    "          'finance', 'forex']\n",
    "\n",
    "string_regex = \"\"\n",
    "\n",
    "for topic in topics:\n",
    "    string_regex+='\\\\b'+topic+'\\\\b|'\n",
    "     \n",
    "string_regex = string_regex[:-1]\n",
    "string_regex"
   ]
  },
  {
   "cell_type": "code",
   "execution_count": 38,
   "metadata": {},
   "outputs": [
    {
     "data": {
      "text/plain": [
       "4189"
      ]
     },
     "execution_count": 38,
     "metadata": {},
     "output_type": "execute_result"
    }
   ],
   "source": [
    "regex = re.compile(string_regex)\n",
    "financial_tweets = []\n",
    "for tweet in dataset.text:\n",
    "    if regex.findall(tweet.lower()):\n",
    "        \n",
    "        financial_tweets.append(tweet)\n",
    "len(financial_tweets)        "
   ]
  },
  {
   "cell_type": "code",
   "execution_count": 40,
   "metadata": {},
   "outputs": [
    {
     "data": {
      "text/plain": [
       "['@andywana Not sure what they are, only that they are PoS! As much as I want to, I dont think can trade away company assets sorry andy! ',\n",
       " \"wheat bread from the dollar store just doesn't toast nicely  going over my taxes and calling it an early night\",\n",
       " \"@cloudpimps d'oh! At least you're getting a decent exchange rate at the moment, sterling is still getting flogged \",\n",
       " '@Amelia_Torode Have fun shopping ... but bear in mind the horrible forex truth  http://bit.ly/kHBN  ',\n",
       " \"boycotting work: on facebook's fashion war. \",\n",
       " 'Ugh. Back to 40 dollar fill ups at the pump ',\n",
       " \"Doesn't like how much UK postal prices have just gone up. Now costs 20p more to mail a Black Velvet to USA/ROTW &amp; 10p UK. \",\n",
       " 'i just did the sweetest ol boy, he was 88 and telling me about when he was in the war ',\n",
       " 'moving on to managerial finance... nicht gut ',\n",
       " \"Good morning at work  don't wanna be there fuckit another day another dollar!!!\",\n",
       " '@allaboutenergy Do you happen to have this song in your collection? http://www.amazon.com/I-Am/dp/B001CQ6578   I cannot buy it, USA only ',\n",
       " \"@pennylane316 Yeah, I know they are touring in USA soon, but I couldn't go, it's during the week in Philly \",\n",
       " \"I couldn't be less prepared for my 11 AM finance exam...  And I can't seem to make myself do anything about it \",\n",
       " 'Man what a ruff day! Dow is down 129 points.  dollar is up thank god LOL best news all day lol',\n",
       " \"@KegWorks Thanks. I've seen this list but It's only for USA, nothing for Canada \",\n",
       " 'Another day another half dollar... ',\n",
       " 'I hate finance subject... they make me feel woozy!! ',\n",
       " \"@RyanSeacrest Doesn't work for those from outside USA (or at least for Europel)  Hope it's good.\",\n",
       " \"reeeeeeeeeealy wants some Mickey D's dollar menu cheeseburger. I'm huuuuuuuuunnnnnngggggrrrrryyyyy \",\n",
       " '@Robinae24 yeah its 05:45 here and am still awake and not even in work, it seems the USA comes out to play about now ',\n",
       " '@OhhMegg no wonder  &amp; PLUS did you know that sterling can SING?! ive been stalking youtube for videos of him. i have a thing for singers.',\n",
       " '@therealTiffany cute profile pic. but you cute sterling out ',\n",
       " 'I hate ppl. I hate ppl who tear down trees. I hate ppl who tear down trees for unnecessary construction. Decades of growth, gone. Ughh. ',\n",
       " 'Missing my family in the USA ',\n",
       " 'UFC 97 is gonna to be spectacular! Wish I could be in Montreal right now... ugh, stupid exams...           WAR Silva!! WAR Shogun!!',\n",
       " '@ohsoretro can I trade your day for mine?  Today is working, coffee coffee coffee, working, boring poli sci reading  oh and more coffee',\n",
       " \"@Janiece65 I take back my smugness at your snow.  I'd trade.  Our wasps are waking up.  \",\n",
       " \"SO I guess there's a war for the 1st non celeb to have a million followers.. LET'S DO IT!! HA HA... I NEED TO TRY TO GET 100 FIRST \",\n",
       " \"@nathanfillion She &amp; Morena are in Orlando.  Panel was 12-1 pm. So, if one upping her in your con prank war was the plan, it's too late \"]"
      ]
     },
     "execution_count": 40,
     "metadata": {},
     "output_type": "execute_result"
    }
   ],
   "source": [
    "financial_tweets[1:30]"
   ]
  },
  {
   "cell_type": "code",
   "execution_count": 43,
   "metadata": {},
   "outputs": [
    {
     "data": {
      "text/plain": [
       "['growth']"
      ]
     },
     "execution_count": 43,
     "metadata": {},
     "output_type": "execute_result"
    }
   ],
   "source": [
    "re.findall(regex, 'I hate ppl. I hate ppl who tear down trees. I hate ppl who tear down trees for unnecessary construction. Decades of growth, gone. Ughh. '.lower())"
   ]
  },
  {
   "cell_type": "code",
   "execution_count": null,
   "metadata": {},
   "outputs": [],
   "source": []
  }
 ],
 "metadata": {
  "kernelspec": {
   "display_name": "Python 3",
   "language": "python",
   "name": "python3"
  },
  "language_info": {
   "codemirror_mode": {
    "name": "ipython",
    "version": 3
   },
   "file_extension": ".py",
   "mimetype": "text/x-python",
   "name": "python",
   "nbconvert_exporter": "python",
   "pygments_lexer": "ipython3",
   "version": "3.7.1"
  }
 },
 "nbformat": 4,
 "nbformat_minor": 2
}
