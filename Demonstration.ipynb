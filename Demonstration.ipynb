{
 "cells": [
  {
   "cell_type": "markdown",
   "metadata": {},
   "source": [
    "# Demonstration\n",
    "## Importation du modèle"
   ]
  },
  {
   "cell_type": "code",
   "execution_count": 1,
   "metadata": {},
   "outputs": [],
   "source": [
    "from joblib import dump, load\n",
    "from tools.TextProcessor import TextProcessor\n",
    "from sklearn.feature_extraction.text import TfidfVectorizer"
   ]
  },
  {
   "cell_type": "markdown",
   "metadata": {},
   "source": [
    "## Phrases initiales"
   ]
  },
  {
   "cell_type": "code",
   "execution_count": 13,
   "metadata": {},
   "outputs": [
    {
     "name": "stdout",
     "output_type": "stream",
     "text": [
      "Apple to Cut 6500 Jobs as Profit Drops\n",
      "\n",
      "\n",
      "Very nice breakout on a very nice stock !\n",
      "\n",
      "\n"
     ]
    }
   ],
   "source": [
    "sentences = [\"Apple to Cut 6500 Jobs as Profit Drops\", \"Very nice breakout on a very nice stock !\"]\n",
    "for s in sentences:\n",
    "    print(s)\n",
    "    print(\"\\n\")"
   ]
  },
  {
   "cell_type": "markdown",
   "metadata": {},
   "source": [
    "## Prétraitement des phrases"
   ]
  },
  {
   "cell_type": "code",
   "execution_count": 14,
   "metadata": {},
   "outputs": [
    {
     "name": "stdout",
     "output_type": "stream",
     "text": [
      "apple cut 6500 jobs profit drop\n",
      "\n",
      "\n",
      "nice breakout nice stock\n",
      "\n",
      "\n"
     ]
    }
   ],
   "source": [
    "preprocessed_sentences = TextProcessor(keep_only_good_word=False, remove_stop_word=True).fit_transform(sentences)\n",
    "for s in preprocessed_sentences:\n",
    "    print(s)\n",
    "    print(\"\\n\")"
   ]
  },
  {
   "cell_type": "markdown",
   "metadata": {},
   "source": [
    "## Représentation des phrases en nombre"
   ]
  },
  {
   "cell_type": "code",
   "execution_count": 18,
   "metadata": {},
   "outputs": [
    {
     "name": "stdout",
     "output_type": "stream",
     "text": [
      "  (0, 4)\t0.408248290463863\n",
      "  (0, 7)\t0.408248290463863\n",
      "  (0, 5)\t0.408248290463863\n",
      "  (0, 0)\t0.408248290463863\n",
      "  (0, 3)\t0.408248290463863\n",
      "  (0, 1)\t0.408248290463863\n",
      "  (1, 8)\t0.408248290463863\n",
      "  (1, 2)\t0.408248290463863\n",
      "  (1, 6)\t0.816496580927726\n"
     ]
    }
   ],
   "source": [
    "print(TfidfVectorizer().fit_transform(preprocessed_sentences))"
   ]
  },
  {
   "cell_type": "markdown",
   "metadata": {},
   "source": [
    "## Prédicitons"
   ]
  },
  {
   "cell_type": "code",
   "execution_count": 15,
   "metadata": {},
   "outputs": [
    {
     "data": {
      "text/plain": [
       "array([-0.1933995 ,  0.15821833])"
      ]
     },
     "execution_count": 15,
     "metadata": {},
     "output_type": "execute_result"
    }
   ],
   "source": [
    "model = load('saved_model/headlines_dataset_tfidf.joblib')\n",
    "model.predict(preprocessed_sentences)"
   ]
  }
 ],
 "metadata": {
  "kernelspec": {
   "display_name": "Python 3",
   "language": "python",
   "name": "python3"
  },
  "language_info": {
   "codemirror_mode": {
    "name": "ipython",
    "version": 3
   },
   "file_extension": ".py",
   "mimetype": "text/x-python",
   "name": "python",
   "nbconvert_exporter": "python",
   "pygments_lexer": "ipython3",
   "version": "3.7.4"
  }
 },
 "nbformat": 4,
 "nbformat_minor": 2
}
