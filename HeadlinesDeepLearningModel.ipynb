{
 "cells": [
  {
   "cell_type": "markdown",
   "metadata": {},
   "source": [
    "# Projet P3\n",
    "## HeadlinesDeepLearningModel\n",
    "Ce notebook retrace les différentes étapes de création des modèles de deep learning avec le jeu de données des titres d'articles financiers\n",
    "\n",
    "`Auteur` : Romain Capocasale (INF3dlm-a)\n",
    "\n",
    "`Date` : 01.10.2019\n",
    "\n",
    "`Version de python` : 3.7.1\n",
    "\n",
    "`Description` : Notebook python avec les techniques de DeepLearning"
   ]
  },
  {
   "cell_type": "markdown",
   "metadata": {},
   "source": [
    "# Importation"
   ]
  },
  {
   "cell_type": "code",
   "execution_count": null,
   "metadata": {},
   "outputs": [],
   "source": [
    "%matplotlib inline\n",
    "\n",
    "import re\n",
    "import os\n",
    "import string\n",
    "import pandas as pd\n",
    "import numpy as np\n",
    "import matplotlib.pyplot as plt\n",
    "import spacy\n",
    "from spacy.lang.en.stop_words import STOP_WORDS\n",
    "from spacy.lang.en import English\n",
    "import en_core_web_sm\n",
    "import gensim\n",
    "from gensim.utils import simple_preprocess\n",
    "\n",
    "from sklearn.base import BaseEstimator, TransformerMixin\n",
    "from sklearn.metrics import confusion_matrix\n",
    "from sklearn.model_selection import StratifiedShuffleSplit\n",
    "from sklearn.model_selection import train_test_split\n",
    "\n",
    "from tensorflow.python.keras.preprocessing.text import Tokenizer\n",
    "from tensorflow.python.keras.preprocessing.sequence import pad_sequences\n",
    "from keras.models import Sequential\n",
    "from keras.layers import Dense, Embedding, LSTM, GRU\n",
    "from keras.layers.embeddings import Embedding\n",
    "from keras.layers.convolutional import Conv1D\n",
    "from keras.layers.pooling import GlobalMaxPool1D\n",
    "from keras.layers import Flatten\n",
    "from keras.initializers import Constant"
   ]
  },
  {
   "cell_type": "markdown",
   "metadata": {},
   "source": [
    "# Chragement du jeu de données"
   ]
  },
  {
   "cell_type": "code",
   "execution_count": null,
   "metadata": {},
   "outputs": [],
   "source": [
    "dataset = pd.read_json('dataset/headlines_dataset/financialData.json')"
   ]
  },
  {
   "cell_type": "markdown",
   "metadata": {},
   "source": [
    "# Suppression des phrases avec un sentiment entre -0.1 et 0.1\n",
    "Les phrases avec un sentiment compris entre -0.1 et 0.1 influence en mal la précision. En effet, si le système prédit un sentiment de 0.05 pour une phrase alors que son sentiment réel et de -0.05 la prédiction sera considéré come fausse. Alors qu'en réalité l'erreur commise est toute petite (0.10).\n",
    "On voit que l'on perd 283 phrase a cause de ce processus."
   ]
  },
  {
   "cell_type": "code",
   "execution_count": 3,
   "metadata": {},
   "outputs": [
    {
     "name": "stdout",
     "output_type": "stream",
     "text": [
      "size before : 2866\n",
      "size after : 2583\n"
     ]
    }
   ],
   "source": [
    "print(\"size before : {}\".format(len(dataset)))\n",
    "dataset.drop(dataset[(dataset.sentiment >= -0.1) & (dataset.sentiment <= 0.1)].index, inplace=True)\n",
    "print(\"size after : {}\".format(len(dataset)))"
   ]
  },
  {
   "cell_type": "markdown",
   "metadata": {},
   "source": [
    "# Séparation des observations et des étiquettes\n",
    "Le sentiment est une valeur continue comprise entre -1 et 1. On transforme cette intervale continue en 2 valeurs discrete 0 et 1. Le modèle sera entrainé comme un classificateur, 0 pour une phrase négative et 1 pour une phrase positive."
   ]
  },
  {
   "cell_type": "code",
   "execution_count": 4,
   "metadata": {},
   "outputs": [],
   "source": [
    "X = np.array(dataset['title'])\n",
    "y = np.array([1 if s >= 0 else 0 for s in dataset['sentiment']])\n",
    "\n",
    "X_train, X_test, y_train, y_test = train_test_split(X, y, test_size=0.2, random_state=42)"
   ]
  },
  {
   "cell_type": "markdown",
   "metadata": {},
   "source": [
    "# Traitement du texte\n",
    "Le traitement du texte est effectué avec Gensim"
   ]
  },
  {
   "cell_type": "code",
   "execution_count": 5,
   "metadata": {},
   "outputs": [],
   "source": [
    "X_train_preprocessed = [' '.join(simple_preprocess(sentence)) for sentence in X_train ]\n",
    "X_test_preprocessed = [' '.join(simple_preprocess(sentence)) for sentence in X_test ]"
   ]
  },
  {
   "cell_type": "markdown",
   "metadata": {},
   "source": [
    "# Word embedding\n",
    "Ici on attribut à chacun des mots du jeu de données un indice. Chaque mot est alors représenté dans une phrase par son indice. Comme il faut que toutes les données envoyées au modèle soient de la même taille, il faut calculer la taille de la plus longue des phrases du jeu de données. Toutes les phrases envoyées au modèle devront faire cette taille. Les mots manquants sont comblés pas l’indice 0. "
   ]
  },
  {
   "cell_type": "code",
   "execution_count": 7,
   "metadata": {},
   "outputs": [],
   "source": [
    "tokenizer_obj =  Tokenizer()\n",
    "\n",
    "total_headlines = X_train_preprocessed + X_test_preprocessed\n",
    "tokenizer_obj.fit_on_texts(total_headlines)\n",
    "\n",
    "max_length = max([len(s.split()) for s in total_headlines])\n",
    "\n",
    "vocab_size = len(tokenizer_obj.word_index) + 1\n",
    "\n",
    "X_train_tokens = tokenizer_obj.texts_to_sequences(X_train_preprocessed)\n",
    "X_test_tokens = tokenizer_obj.texts_to_sequences(X_test_preprocessed)\n",
    "\n",
    "X_train_pad = pad_sequences(X_train_tokens, maxlen=max_length, padding='post')\n",
    "X_test_pad = pad_sequences(X_test_tokens, maxlen=max_length, padding='post')"
   ]
  },
  {
   "cell_type": "markdown",
   "metadata": {},
   "source": [
    "# Création du réseau de neuronne\n",
    "Réseau de neuronne de type LSTM inspiré du tutorial : https://towardsdatascience.com/machine-learning-word-embedding-sentiment-classification-using-keras-b83c28087456"
   ]
  },
  {
   "cell_type": "code",
   "execution_count": 8,
   "metadata": {},
   "outputs": [],
   "source": [
    "EMBEDDING_DIM = 32\n",
    "model = Sequential()\n",
    "model.add(Embedding(vocab_size, EMBEDDING_DIM, input_length=max_length))\n",
    "model.add(LSTM(16))\n",
    "model.add(Dense(1, activation='sigmoid'))\n",
    "\n",
    "model.compile(loss='binary_crossentropy', optimizer='adam', metrics=['accuracy'])"
   ]
  },
  {
   "cell_type": "code",
   "execution_count": 9,
   "metadata": {},
   "outputs": [
    {
     "name": "stdout",
     "output_type": "stream",
     "text": [
      "Model: \"sequential_1\"\n",
      "_________________________________________________________________\n",
      "Layer (type)                 Output Shape              Param #   \n",
      "=================================================================\n",
      "embedding_1 (Embedding)      (None, 22, 32)            120512    \n",
      "_________________________________________________________________\n",
      "lstm_1 (LSTM)                (None, 16)                3136      \n",
      "_________________________________________________________________\n",
      "dense_1 (Dense)              (None, 1)                 17        \n",
      "=================================================================\n",
      "Total params: 123,665\n",
      "Trainable params: 123,665\n",
      "Non-trainable params: 0\n",
      "_________________________________________________________________\n"
     ]
    }
   ],
   "source": [
    "model.summary()"
   ]
  },
  {
   "cell_type": "markdown",
   "metadata": {},
   "source": [
    "# Entrainement du modèle\n",
    "Le modèle est entrainé avec des echantillons de 256 données, avec 25 epochs"
   ]
  },
  {
   "cell_type": "code",
   "execution_count": 10,
   "metadata": {},
   "outputs": [
    {
     "name": "stderr",
     "output_type": "stream",
     "text": [
      "C:\\ProgramData\\Anaconda3\\lib\\site-packages\\tensorflow_core\\python\\framework\\indexed_slices.py:424: UserWarning: Converting sparse IndexedSlices to a dense Tensor of unknown shape. This may consume a large amount of memory.\n",
      "  \"Converting sparse IndexedSlices to a dense Tensor of unknown shape. \"\n"
     ]
    },
    {
     "name": "stdout",
     "output_type": "stream",
     "text": [
      "Train on 2066 samples, validate on 517 samples\n",
      "Epoch 1/20\n",
      " - 1s - loss: 0.6735 - accuracy: 0.6200 - val_loss: 0.6559 - val_accuracy: 0.6344\n",
      "Epoch 2/20\n",
      " - 0s - loss: 0.6563 - accuracy: 0.6288 - val_loss: 0.6495 - val_accuracy: 0.6344\n",
      "Epoch 3/20\n",
      " - 0s - loss: 0.5686 - accuracy: 0.6646 - val_loss: 0.5057 - val_accuracy: 0.7872\n",
      "Epoch 4/20\n",
      " - 0s - loss: 0.2866 - accuracy: 0.9269 - val_loss: 0.5430 - val_accuracy: 0.7872\n",
      "Epoch 5/20\n",
      " - 0s - loss: 0.1658 - accuracy: 0.9642 - val_loss: 0.5891 - val_accuracy: 0.7814\n",
      "Epoch 6/20\n",
      " - 0s - loss: 0.1253 - accuracy: 0.9710 - val_loss: 0.5945 - val_accuracy: 0.7872\n",
      "Epoch 7/20\n",
      " - 0s - loss: 0.0933 - accuracy: 0.9797 - val_loss: 0.6443 - val_accuracy: 0.7892\n",
      "Epoch 8/20\n",
      " - 0s - loss: 0.0842 - accuracy: 0.9811 - val_loss: 0.6895 - val_accuracy: 0.7950\n",
      "Epoch 9/20\n",
      " - 0s - loss: 0.0791 - accuracy: 0.9821 - val_loss: 0.7235 - val_accuracy: 0.7950\n",
      "Epoch 10/20\n",
      " - 0s - loss: 0.0617 - accuracy: 0.9864 - val_loss: 0.7400 - val_accuracy: 0.7872\n",
      "Epoch 11/20\n",
      " - 0s - loss: 0.0541 - accuracy: 0.9894 - val_loss: 0.7496 - val_accuracy: 0.7795\n",
      "Epoch 12/20\n",
      " - 0s - loss: 0.0540 - accuracy: 0.9894 - val_loss: 0.7628 - val_accuracy: 0.7911\n",
      "Epoch 13/20\n",
      " - 0s - loss: 0.0515 - accuracy: 0.9898 - val_loss: 0.7537 - val_accuracy: 0.7872\n",
      "Epoch 14/20\n",
      " - 0s - loss: 0.0511 - accuracy: 0.9903 - val_loss: 0.7202 - val_accuracy: 0.7892\n",
      "Epoch 15/20\n",
      " - 0s - loss: 0.0488 - accuracy: 0.9908 - val_loss: 0.7303 - val_accuracy: 0.7930\n",
      "Epoch 16/20\n",
      " - 0s - loss: 0.0740 - accuracy: 0.9826 - val_loss: 0.8166 - val_accuracy: 0.7911\n",
      "Epoch 17/20\n",
      " - 0s - loss: 0.0547 - accuracy: 0.9884 - val_loss: 0.7970 - val_accuracy: 0.7834\n",
      "Epoch 18/20\n",
      " - 0s - loss: 0.0529 - accuracy: 0.9860 - val_loss: 0.7492 - val_accuracy: 0.7853\n",
      "Epoch 19/20\n",
      " - 0s - loss: 0.0553 - accuracy: 0.9855 - val_loss: 0.8097 - val_accuracy: 0.7834\n",
      "Epoch 20/20\n",
      " - 0s - loss: 0.0437 - accuracy: 0.9884 - val_loss: 0.7393 - val_accuracy: 0.7737\n"
     ]
    }
   ],
   "source": [
    "history = model.fit(X_train_pad, y_train, batch_size=64, epochs=20, verbose=2, validation_data=(X_test_pad, y_test))"
   ]
  },
  {
   "cell_type": "markdown",
   "metadata": {},
   "source": [
    "# Evaluation du modèle\n",
    "On remarque que la précison sur le jeu d'entrainement est de 96 % et de 79 % sur le jeu de test. On peut donc déduire que le modéle surévalue. On peut également remarquer que la perte augemente sur le jeu de test alors qu'elle devait diminuer."
   ]
  },
  {
   "cell_type": "code",
   "execution_count": 11,
   "metadata": {},
   "outputs": [
    {
     "data": {
      "image/png": "[encoded data removed]",
      "text/plain": [
       "<Figure size 432x288 with 1 Axes>"
      ]
     },
     "metadata": {
      "needs_background": "light"
     },
     "output_type": "display_data"
    },
    {
     "data": {
      "image/png": "[encoded data removed]",
      "text/plain": [
       "<Figure size 432x288 with 1 Axes>"
      ]
     },
     "metadata": {
      "needs_background": "light"
     },
     "output_type": "display_data"
    },
    {
     "name": "stdout",
     "output_type": "stream",
     "text": [
      "Training Accuracy: 0.9918\n",
      "Testing Accuracy:  0.7737\n"
     ]
    }
   ],
   "source": [
    "plt.plot(history.history['accuracy'])\n",
    "plt.plot(history.history['val_accuracy'])\n",
    "\n",
    "plt.title('model accuracy')\n",
    "plt.ylabel('accuracy')\n",
    "plt.xlabel('epoch')\n",
    "plt.legend(['train','test'], loc = 'upper left')\n",
    "plt.show()\n",
    "\n",
    "plt.plot(history.history['loss'])\n",
    "plt.plot(history.history['val_loss'])\n",
    "\n",
    "plt.title('model loss')\n",
    "plt.ylabel('loss')\n",
    "plt.xlabel('epoch')\n",
    "plt.legend(['train','test'], loc = 'upper left')\n",
    "plt.show()\n",
    "\n",
    "loss, accuracy = model.evaluate(X_train_pad, y_train, verbose=False)\n",
    "print(\"Training Accuracy: {:.4f}\".format(accuracy))\n",
    "loss, accuracy = model.evaluate(X_test_pad, y_test, verbose=False)\n",
    "print(\"Testing Accuracy:  {:.4f}\".format(accuracy))"
   ]
  },
  {
   "cell_type": "markdown",
   "metadata": {},
   "source": [
    "## Matrice de confusion\n",
    "On peut voir que 132 phrases néagtaive on été correctement prédite, 49 phrase négative ont été incorectement prédite, 59 phrases psotive ont été incorectement prédite et 277 positive ont été corectment prédite."
   ]
  },
  {
   "cell_type": "code",
   "execution_count": 12,
   "metadata": {},
   "outputs": [
    {
     "data": {
      "text/plain": [
       "array([[130,  58],\n",
       "       [ 59, 270]], dtype=int64)"
      ]
     },
     "execution_count": 12,
     "metadata": {},
     "output_type": "execute_result"
    }
   ],
   "source": [
    "y_pred = model.predict_classes(X_test_pad)\n",
    "confusion_matrix(y_pred ,y_test)"
   ]
  },
  {
   "cell_type": "markdown",
   "metadata": {},
   "source": [
    "# Affichage des phrases incorrectement prédite\n",
    "la méthode `getModelError` retourne une liste des phrasesfaux postive et faux négative"
   ]
  },
  {
   "cell_type": "code",
   "execution_count": 47,
   "metadata": {},
   "outputs": [],
   "source": [
    "def getModelError(y_pred, y_test, X_test):\n",
    "    '''\n",
    "    This method return false positive sentence and false negative sentence\n",
    "\n",
    "    y_pred -- predicted value\n",
    "    y_test -- true test value\n",
    "    X_test -- test sentence\n",
    "    '''\n",
    "    X_test_list = X_test.tolist()\n",
    "    falsePositiveSentence = []\n",
    "    falseNegativeSentence = []\n",
    "    for i in range(0,len(y_pred)):\n",
    "        if y_test[i] == 1 and y_pred[i] == 0:\n",
    "            falsePositiveSentence.append(X_test_list[i])\n",
    "        elif y_test[i] == 0 and y_pred[i] == 1:\n",
    "            falseNegativeSentence.append(X_test_list[i])\n",
    "    return (falsePositiveSentence, falseNegativeSentence)"
   ]
  },
  {
   "cell_type": "code",
   "execution_count": 48,
   "metadata": {},
   "outputs": [],
   "source": [
    "falsePositive, falseNegative = getModelError(y_pred, y_test, X_test)"
   ]
  },
  {
   "cell_type": "code",
   "execution_count": 49,
   "metadata": {},
   "outputs": [
    {
     "name": "stdout",
     "output_type": "stream",
     "text": [
      "['watch $TSLA > 34.5 ', 'UPDATE 3-Stifel to buy former Lehman brokerage from Barclays', 'Eli Lilly & Co. (LLY) Has Broken Out To A New High On AstraZeneca Collaboration', 'UK MORNING BRIEFING: Sky And Hargreaves Lansdown Bookend FTSE 100', \"Britain's FTSE steadies below record high, BHP gains\", 'short didnt work out ', '$FCX +3.53% ', 'Institutions seem to like this class of stocks ', 'CompaniesUnilever sales lifted by ice cream in soft economy', 'hanging tough in down market due to analyst upgrades Up almost 3% ', 'magically bought at under a dollar ', 'starting to show some relative strength ', 'European shares fall on Chinese import data, SABMiller soars', '$SPY up only 0.6% Still holding ', 'UPDATE: CIB, Legal & General Sell Egyptian Life Joint Venture To AXA', 'may be ripe for a #takeover targe ', 'UPDATE 3-Stifel to buy former Lehman brokerage from Barclays', 'Tesco boss urges rethink on minimum wage and business rates', \"UPDATE 1-Britain's Tullow says makes new oil find in Kenya\", 'GLOBAL MARKETS-Stocks gain on Royal Dutch Shell bid, oil slumps', 'L&G fund arm, Nikko Asset Management sign bond fund distribution deal', 'Daily Mail And General Trust eyeing Yahoo! ', 'Institutions seem to like this class of stocks ', 'support 212.93 no support to 209.45 ', 'master class on how to conquer mobile astonishing turned their fortunes around ', 'RBI surprises Street; Sensex pares gains after hitting mount 30k', 'Short Squeeze Ready To Upside w Crossing Important Technical Level ', 'ooks like nice risk/reward for starting to initiate a position looks like nice risk/reward for starting to initiate a position ', 'Barclays signs on to Apple Pay ', 'Earnings will drive stock prices ', 'News FeedFTSE 100 movers: LSE surges as ICE says mulling offer; Ashtead and Barclays tank', 'peachy prospects ', \"Britain's FTSE steadies, supported by Dixons Carphone\", 'UPDATE 1-EU regulator backs approval for GSK injectable asthma drug', 'EU drops Shell, BP, Statoil from ethanol benchmark investigation', 'looks really interesting on drop grabbed some options and stock enough tme before earnings to grow the stock growth all sectors ', 'Companies Thetrainline.com announces arrival of London IPO', 'earnings were good ', 'EU drops Shell, BP, Statoil from ethanol benchmark investigation', '$TPLM Triangle #Petroleum 9.80+3% 2M Expanding Caliber ', \"isn't going anywhere buying \", 'not selling before ', 'BP wins right to appeal some Gulf spill damages claims', 'Worldpay readies for Ã‚Â£6bn London float', 'EU drops Shell, BP, Statoil from ethanol benchmark investigation', 'RBS invites pitches for broker role ahead of privatisation - sources']\n"
     ]
    }
   ],
   "source": [
    "print(falsePositive)"
   ]
  },
  {
   "cell_type": "markdown",
   "metadata": {},
   "source": [
    "# Word2vec\n",
    "Word2vec consiste à rapprocher les mots semblables proche dans un espace de plusieurs dimension. J'ai téléchargé sur le site de glove un fichier contenant une matrice avec des valeurs précalculé pour plusieurs mots de la langues anglaises. Le code ci-dessous récupére cette matrice stocké dans le fichier `glove/glove.50d.txt` et garde seulement les mots présents dans notre jeu de données. "
   ]
  },
  {
   "cell_type": "code",
   "execution_count": 13,
   "metadata": {},
   "outputs": [],
   "source": [
    "def create_embedding_matrix(filepath, word_index, embedding_dim):\n",
    "    '''Create the emedding matrix from the Glove file\n",
    "    filepath -- filepath to the Glove vector file\n",
    "    word_index -- tokenzizer object that contain the word index in the dataset\n",
    "    embedding_dim -- dimension of the final vector\n",
    "    return -- emedebbing matrix with the index and their vector\n",
    "    '''\n",
    "    vocab_size = len(word_index) + 1  \n",
    "    embedding_matrix = np.zeros((vocab_size, embedding_dim))\n",
    "\n",
    "    with open(filepath,encoding='utf8') as f:\n",
    "        for line in f:\n",
    "            word, *vector = line.split()\n",
    "            if word in word_index:\n",
    "                idx = word_index[word] \n",
    "                embedding_matrix[idx] = np.array(\n",
    "                    vector, dtype=np.float32)[:embedding_dim]\n",
    "\n",
    "    return embedding_matrix"
   ]
  },
  {
   "cell_type": "code",
   "execution_count": 14,
   "metadata": {},
   "outputs": [],
   "source": [
    "embedding_matrix = create_embedding_matrix('word2vec/glove/glove.6B.50d.txt', tokenizer_obj.word_index, EMBEDDING_DIM)"
   ]
  },
  {
   "cell_type": "code",
   "execution_count": 15,
   "metadata": {},
   "outputs": [
    {
     "name": "stdout",
     "output_type": "stream",
     "text": [
      "Percentage of the word of the dataset present in the matrix : 94.29102496016995 % \n"
     ]
    }
   ],
   "source": [
    "nonzero_elements = np.count_nonzero(np.count_nonzero(embedding_matrix, axis=1))\n",
    "print(\"Percentage of the word of the dataset present in the matrix : {} % \".format((nonzero_elements / vocab_size)*100))"
   ]
  },
  {
   "cell_type": "markdown",
   "metadata": {},
   "source": [
    "# Création du modèle\n",
    "Cette fois ci le modèle choisi est un réseau de neuronne récurrent inspiré du site : https://realpython.com/python-keras-text-classification/#what-is-a-word-embedding. La matrice de mot est également utilisé."
   ]
  },
  {
   "cell_type": "code",
   "execution_count": 16,
   "metadata": {},
   "outputs": [],
   "source": [
    "model = Sequential()\n",
    "model.add(Embedding(vocab_size, EMBEDDING_DIM, input_length=max_length, weights=[embedding_matrix]))\n",
    "model.add(GlobalMaxPool1D())\n",
    "model.add(Dense(10, activation='relu'))\n",
    "model.add(Dense(1, activation='sigmoid'))\n",
    "\n",
    "model.compile(loss='binary_crossentropy', optimizer='adam', metrics=['accuracy'])"
   ]
  },
  {
   "cell_type": "code",
   "execution_count": 17,
   "metadata": {},
   "outputs": [
    {
     "name": "stdout",
     "output_type": "stream",
     "text": [
      "Train on 2066 samples, validate on 517 samples\n",
      "Epoch 1/20\n",
      " - 0s - loss: 0.6945 - accuracy: 0.5692 - val_loss: 0.6865 - val_accuracy: 0.5764\n",
      "Epoch 2/20\n",
      " - 0s - loss: 0.6699 - accuracy: 0.5958 - val_loss: 0.6727 - val_accuracy: 0.5899\n",
      "Epoch 3/20\n",
      " - 0s - loss: 0.6519 - accuracy: 0.6191 - val_loss: 0.6625 - val_accuracy: 0.6093\n",
      "Epoch 4/20\n",
      " - 0s - loss: 0.6375 - accuracy: 0.6355 - val_loss: 0.6553 - val_accuracy: 0.6209\n",
      "Epoch 5/20\n",
      " - 0s - loss: 0.6243 - accuracy: 0.6660 - val_loss: 0.6435 - val_accuracy: 0.6383\n",
      "Epoch 6/20\n",
      " - 0s - loss: 0.6053 - accuracy: 0.6834 - val_loss: 0.6344 - val_accuracy: 0.6460\n",
      "Epoch 7/20\n",
      " - 0s - loss: 0.5865 - accuracy: 0.6970 - val_loss: 0.6249 - val_accuracy: 0.6538\n",
      "Epoch 8/20\n",
      " - 0s - loss: 0.5645 - accuracy: 0.7241 - val_loss: 0.6158 - val_accuracy: 0.6692\n",
      "Epoch 9/20\n",
      " - 0s - loss: 0.5381 - accuracy: 0.7473 - val_loss: 0.6015 - val_accuracy: 0.6886\n",
      "Epoch 10/20\n",
      " - 0s - loss: 0.5074 - accuracy: 0.7677 - val_loss: 0.5872 - val_accuracy: 0.6963\n",
      "Epoch 11/20\n",
      " - 0s - loss: 0.4729 - accuracy: 0.7972 - val_loss: 0.5746 - val_accuracy: 0.7021\n",
      "Epoch 12/20\n",
      " - 0s - loss: 0.4399 - accuracy: 0.8175 - val_loss: 0.5619 - val_accuracy: 0.7118\n",
      "Epoch 13/20\n",
      " - 0s - loss: 0.4017 - accuracy: 0.8480 - val_loss: 0.5545 - val_accuracy: 0.7273\n",
      "Epoch 14/20\n",
      " - 0s - loss: 0.3691 - accuracy: 0.8558 - val_loss: 0.5496 - val_accuracy: 0.7369\n",
      "Epoch 15/20\n",
      " - 0s - loss: 0.3283 - accuracy: 0.8843 - val_loss: 0.5455 - val_accuracy: 0.7369\n",
      "Epoch 16/20\n",
      " - 0s - loss: 0.2945 - accuracy: 0.8945 - val_loss: 0.5420 - val_accuracy: 0.7485\n",
      "Epoch 17/20\n",
      " - 0s - loss: 0.2631 - accuracy: 0.9095 - val_loss: 0.5334 - val_accuracy: 0.7447\n",
      "Epoch 18/20\n",
      " - 0s - loss: 0.2357 - accuracy: 0.9201 - val_loss: 0.5335 - val_accuracy: 0.7505\n",
      "Epoch 19/20\n",
      " - 0s - loss: 0.2089 - accuracy: 0.9318 - val_loss: 0.5324 - val_accuracy: 0.7447\n",
      "Epoch 20/20\n",
      " - 0s - loss: 0.1863 - accuracy: 0.9477 - val_loss: 0.5409 - val_accuracy: 0.7544\n"
     ]
    }
   ],
   "source": [
    "history = model.fit(X_train_pad, y_train,epochs=20,verbose=2,validation_data=(X_test_pad, y_test),batch_size=64)"
   ]
  },
  {
   "cell_type": "code",
   "execution_count": 18,
   "metadata": {},
   "outputs": [
    {
     "data": {
      "image/png": "[encoded data removed]",
      "text/plain": [
       "<Figure size 432x288 with 1 Axes>"
      ]
     },
     "metadata": {
      "needs_background": "light"
     },
     "output_type": "display_data"
    },
    {
     "data": {
      "image/png": "[encoded data removed]",
      "text/plain": [
       "<Figure size 432x288 with 1 Axes>"
      ]
     },
     "metadata": {
      "needs_background": "light"
     },
     "output_type": "display_data"
    },
    {
     "name": "stdout",
     "output_type": "stream",
     "text": [
      "Training Accuracy: 0.9540\n",
      "Testing Accuracy:  0.7544\n"
     ]
    }
   ],
   "source": [
    "plt.plot(history.history['accuracy'])\n",
    "plt.plot(history.history['val_accuracy'])\n",
    "\n",
    "plt.title('model accuracy')\n",
    "plt.ylabel('accuracy')\n",
    "plt.xlabel('epoch')\n",
    "plt.legend(['train','test'], loc = 'upper left')\n",
    "plt.show()\n",
    "\n",
    "plt.plot(history.history['loss'])\n",
    "plt.plot(history.history['val_loss'])\n",
    "\n",
    "plt.title('model loss')\n",
    "plt.ylabel('loss')\n",
    "plt.xlabel('epoch')\n",
    "plt.legend(['train','test'], loc = 'upper left')\n",
    "plt.show()\n",
    "\n",
    "loss, accuracy = model.evaluate(X_train_pad, y_train, verbose=False)\n",
    "print(\"Training Accuracy: {:.4f}\".format(accuracy))\n",
    "loss, accuracy = model.evaluate(X_test_pad, y_test, verbose=False)\n",
    "print(\"Testing Accuracy:  {:.4f}\".format(accuracy))"
   ]
  }
 ],
 "metadata": {
  "kernelspec": {
   "display_name": "Python 3",
   "language": "python",
   "name": "python3"
  },
  "language_info": {
   "codemirror_mode": {
    "name": "ipython",
    "version": 3
   },
   "file_extension": ".py",
   "mimetype": "text/x-python",
   "name": "python",
   "nbconvert_exporter": "python",
   "pygments_lexer": "ipython3",
   "version": "3.7.4"
  }
 },
 "nbformat": 4,
 "nbformat_minor": 2
}
