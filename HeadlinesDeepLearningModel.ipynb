{
 "cells": [
  {
   "cell_type": "markdown",
   "metadata": {},
   "source": [
    "![arc-logo](admin/image/arc-logo.png)\n",
    "# Projet P3\n",
    "## HeadlinesDeepLearningModel\n",
    "Ce notebook retrace les différentes étapes de création des modèles de deep learning avec le jeu de données des titres d'articles financiers\n",
    "\n",
    "`Auteur` : Romain Capocasale (INF3dlm-a)\n",
    "\n",
    "`Superviseur` : Hatem Ghorbel\n",
    "\n",
    "`Date` : 24.01.2020"
   ]
  },
  {
   "cell_type": "markdown",
   "metadata": {},
   "source": [
    "# Importation"
   ]
  },
  {
   "cell_type": "code",
   "execution_count": 1,
   "metadata": {},
   "outputs": [
    {
     "name": "stderr",
     "output_type": "stream",
     "text": [
      "Using TensorFlow backend.\n"
     ]
    }
   ],
   "source": [
    "%matplotlib inline\n",
    "\n",
    "import pandas as pd\n",
    "import numpy as np\n",
    "import matplotlib.pyplot as plt\n",
    "import gensim\n",
    "from gensim.utils import simple_preprocess\n",
    "\n",
    "from sklearn.metrics import confusion_matrix\n",
    "from sklearn.model_selection import train_test_split\n",
    "\n",
    "from tensorflow.python.keras.preprocessing.text import Tokenizer\n",
    "from tensorflow.python.keras.preprocessing.sequence import pad_sequences\n",
    "from keras.models import Sequential\n",
    "from keras.layers import Dense, Embedding, LSTM, GRU\n",
    "from keras.layers.embeddings import Embedding\n",
    "from keras.layers.pooling import GlobalMaxPool1D\n",
    "from keras.initializers import Constant\n",
    "\n",
    "np.random.seed(42)# to make this notebook's output stable across runs"
   ]
  },
  {
   "cell_type": "markdown",
   "metadata": {},
   "source": [
    "# Chragement du jeu de données"
   ]
  },
  {
   "cell_type": "code",
   "execution_count": 2,
   "metadata": {},
   "outputs": [],
   "source": [
    "dataset = pd.read_json('dataset/headlines_dataset/financialData.json')"
   ]
  },
  {
   "cell_type": "markdown",
   "metadata": {},
   "source": [
    "# Suppression des phrases avec un sentiment entre -0.1 et 0.1\n",
    "Les phrases avec un sentiment compris entre -0.1 et 0.1 influence en mal la précision. En effet, si le système prédit un sentiment de 0.05 pour une phrase alors que son sentiment réel et de -0.05 la prédiction sera considéré come fausse. Alors qu'en réalité l'erreur commise est toute petite (0.10).\n",
    "On voit que l'on perd 283 phrase a cause de ce processus."
   ]
  },
  {
   "cell_type": "code",
   "execution_count": 3,
   "metadata": {},
   "outputs": [
    {
     "name": "stdout",
     "output_type": "stream",
     "text": [
      "size before : 2866\n",
      "size after : 2583\n"
     ]
    }
   ],
   "source": [
    "print(\"size before : {}\".format(len(dataset)))\n",
    "dataset.drop(dataset[(dataset.sentiment >= -0.1) & (dataset.sentiment <= 0.1)].index, inplace=True)\n",
    "print(\"size after : {}\".format(len(dataset)))"
   ]
  },
  {
   "cell_type": "markdown",
   "metadata": {},
   "source": [
    "# Séparation des observations et des étiquettes\n",
    "Le sentiment est une valeur continue comprise entre -1 et 1. On transforme cette intervale continue en 2 valeurs discrete 0 et 1. Le modèle sera entrainé comme un classificateur, 0 pour une phrase négative et 1 pour une phrase positive."
   ]
  },
  {
   "cell_type": "code",
   "execution_count": 4,
   "metadata": {},
   "outputs": [],
   "source": [
    "X = np.array(dataset['title'])\n",
    "y = np.array([1 if s >= 0 else 0 for s in dataset['sentiment']])\n",
    "\n",
    "X_train, X_test, y_train, y_test = train_test_split(X, y, test_size=0.2, random_state=42)"
   ]
  },
  {
   "cell_type": "markdown",
   "metadata": {},
   "source": [
    "# Traitement du texte\n",
    "Le traitement du texte est effectué avec Gensim"
   ]
  },
  {
   "cell_type": "code",
   "execution_count": 5,
   "metadata": {},
   "outputs": [],
   "source": [
    "X_train_preprocessed = [' '.join(simple_preprocess(sentence)) for sentence in X_train ]\n",
    "X_test_preprocessed = [' '.join(simple_preprocess(sentence)) for sentence in X_test ]"
   ]
  },
  {
   "cell_type": "markdown",
   "metadata": {},
   "source": [
    "# Word embedding\n",
    "Ici on attribut à chacun des mots du jeu de données un indice. Chaque mot est alors représenté dans une phrase par son indice. Comme il faut que toutes les données envoyées au modèle soient de la même taille, il faut calculer la taille de la plus longue des phrases du jeu de données. Toutes les phrases envoyées au modèle devront faire cette taille. Les mots manquants sont comblés pas l’indice 0. "
   ]
  },
  {
   "cell_type": "code",
   "execution_count": 6,
   "metadata": {},
   "outputs": [],
   "source": [
    "tokenizer_obj =  Tokenizer()\n",
    "\n",
    "total_headlines = X_train_preprocessed + X_test_preprocessed\n",
    "tokenizer_obj.fit_on_texts(total_headlines)\n",
    "\n",
    "max_length = max([len(s.split()) for s in total_headlines])\n",
    "\n",
    "vocab_size = len(tokenizer_obj.word_index) + 1\n",
    "\n",
    "X_train_tokens = tokenizer_obj.texts_to_sequences(X_train_preprocessed)\n",
    "X_test_tokens = tokenizer_obj.texts_to_sequences(X_test_preprocessed)\n",
    "\n",
    "X_train_pad = pad_sequences(X_train_tokens, maxlen=max_length, padding='post')\n",
    "X_test_pad = pad_sequences(X_test_tokens, maxlen=max_length, padding='post')"
   ]
  },
  {
   "cell_type": "markdown",
   "metadata": {},
   "source": [
    "# Création du réseau de neuronne\n",
    "Réseau de neuronne de type LSTM inspiré du tutorial : https://towardsdatascience.com/machine-learning-word-embedding-sentiment-classification-using-keras-b83c28087456"
   ]
  },
  {
   "cell_type": "code",
   "execution_count": 7,
   "metadata": {},
   "outputs": [],
   "source": [
    "EMBEDDING_DIM = 32\n",
    "model = Sequential()\n",
    "model.add(Embedding(vocab_size, EMBEDDING_DIM, input_length=max_length))\n",
    "model.add(LSTM(16))\n",
    "model.add(Dense(1, activation='sigmoid'))\n",
    "\n",
    "model.compile(loss='binary_crossentropy', optimizer='adam', metrics=['accuracy'])"
   ]
  },
  {
   "cell_type": "code",
   "execution_count": 8,
   "metadata": {},
   "outputs": [
    {
     "name": "stdout",
     "output_type": "stream",
     "text": [
      "Model: \"sequential_1\"\n",
      "_________________________________________________________________\n",
      "Layer (type)                 Output Shape              Param #   \n",
      "=================================================================\n",
      "embedding_1 (Embedding)      (None, 22, 32)            120512    \n",
      "_________________________________________________________________\n",
      "lstm_1 (LSTM)                (None, 16)                3136      \n",
      "_________________________________________________________________\n",
      "dense_1 (Dense)              (None, 1)                 17        \n",
      "=================================================================\n",
      "Total params: 123,665\n",
      "Trainable params: 123,665\n",
      "Non-trainable params: 0\n",
      "_________________________________________________________________\n"
     ]
    }
   ],
   "source": [
    "model.summary()"
   ]
  },
  {
   "cell_type": "markdown",
   "metadata": {},
   "source": [
    "# Entrainement du modèle\n",
    "Le modèle est entrainé avec des echantillons de 256 données, avec 25 epochs"
   ]
  },
  {
   "cell_type": "code",
   "execution_count": 9,
   "metadata": {},
   "outputs": [
    {
     "name": "stderr",
     "output_type": "stream",
     "text": [
      "C:\\ProgramData\\Anaconda3\\lib\\site-packages\\tensorflow_core\\python\\framework\\indexed_slices.py:424: UserWarning: Converting sparse IndexedSlices to a dense Tensor of unknown shape. This may consume a large amount of memory.\n",
      "  \"Converting sparse IndexedSlices to a dense Tensor of unknown shape. \"\n"
     ]
    },
    {
     "name": "stdout",
     "output_type": "stream",
     "text": [
      "Train on 2066 samples, validate on 517 samples\n",
      "Epoch 1/20\n",
      " - 1s - loss: 0.6722 - accuracy: 0.6288 - val_loss: 0.6552 - val_accuracy: 0.6344\n",
      "Epoch 2/20\n",
      " - 0s - loss: 0.6548 - accuracy: 0.6288 - val_loss: 0.6478 - val_accuracy: 0.6344\n",
      "Epoch 3/20\n",
      " - 0s - loss: 0.5540 - accuracy: 0.6912 - val_loss: 0.4985 - val_accuracy: 0.7969\n",
      "Epoch 4/20\n",
      " - 0s - loss: 0.3094 - accuracy: 0.9192 - val_loss: 0.5032 - val_accuracy: 0.7988\n",
      "Epoch 5/20\n",
      " - 0s - loss: 0.2042 - accuracy: 0.9569 - val_loss: 0.5547 - val_accuracy: 0.7969\n",
      "Epoch 6/20\n",
      " - 0s - loss: 0.1513 - accuracy: 0.9700 - val_loss: 0.5905 - val_accuracy: 0.7969\n",
      "Epoch 7/20\n",
      " - 0s - loss: 0.1253 - accuracy: 0.9729 - val_loss: 0.6327 - val_accuracy: 0.7950\n",
      "Epoch 8/20\n",
      " - 0s - loss: 0.0972 - accuracy: 0.9811 - val_loss: 0.6606 - val_accuracy: 0.7950\n",
      "Epoch 9/20\n",
      " - 0s - loss: 0.1004 - accuracy: 0.9782 - val_loss: 0.6667 - val_accuracy: 0.8008\n",
      "Epoch 10/20\n",
      " - 0s - loss: 0.0812 - accuracy: 0.9831 - val_loss: 0.6701 - val_accuracy: 0.8066\n",
      "Epoch 11/20\n",
      " - 0s - loss: 0.0668 - accuracy: 0.9879 - val_loss: 0.7276 - val_accuracy: 0.7911\n",
      "Epoch 12/20\n",
      " - 0s - loss: 0.0663 - accuracy: 0.9874 - val_loss: 0.7369 - val_accuracy: 0.7872\n",
      "Epoch 13/20\n",
      " - 0s - loss: 0.0593 - accuracy: 0.9889 - val_loss: 0.7248 - val_accuracy: 0.7892\n",
      "Epoch 14/20\n",
      " - 0s - loss: 0.0552 - accuracy: 0.9894 - val_loss: 0.7659 - val_accuracy: 0.7872\n",
      "Epoch 15/20\n",
      " - 0s - loss: 0.0527 - accuracy: 0.9903 - val_loss: 0.7607 - val_accuracy: 0.8008\n",
      "Epoch 16/20\n",
      " - 0s - loss: 0.0519 - accuracy: 0.9908 - val_loss: 0.7666 - val_accuracy: 0.7988\n",
      "Epoch 17/20\n",
      " - 0s - loss: 0.0506 - accuracy: 0.9908 - val_loss: 0.7748 - val_accuracy: 0.7969\n",
      "Epoch 18/20\n",
      " - 0s - loss: 0.0500 - accuracy: 0.9908 - val_loss: 0.7693 - val_accuracy: 0.8046\n",
      "Epoch 19/20\n",
      " - 0s - loss: 0.0502 - accuracy: 0.9903 - val_loss: 0.7449 - val_accuracy: 0.8066\n",
      "Epoch 20/20\n",
      " - 0s - loss: 0.0529 - accuracy: 0.9898 - val_loss: 0.7247 - val_accuracy: 0.8046\n"
     ]
    }
   ],
   "source": [
    "history = model.fit(X_train_pad, y_train, batch_size=64, epochs=20, verbose=2, validation_data=(X_test_pad, y_test))"
   ]
  },
  {
   "cell_type": "markdown",
   "metadata": {},
   "source": [
    "# Evaluation du modèle\n",
    "On remarque que la précison sur le jeu d'entrainement est de 99 % et de 79 % sur le jeu de test. On peut donc déduire que le modéle surévalue. On peut également remarquer que la perte augemente sur le jeu de test alors qu'elle devait diminuer."
   ]
  },
  {
   "cell_type": "code",
   "execution_count": 10,
   "metadata": {},
   "outputs": [
    {
     "data": {
      "image/png": "[encoded data removed]",
      "text/plain": [
       "<Figure size 432x288 with 1 Axes>"
      ]
     },
     "metadata": {
      "needs_background": "light"
     },
     "output_type": "display_data"
    },
    {
     "data": {
      "image/png": "[encoded data removed]",
      "text/plain": [
       "<Figure size 432x288 with 1 Axes>"
      ]
     },
     "metadata": {
      "needs_background": "light"
     },
     "output_type": "display_data"
    },
    {
     "name": "stdout",
     "output_type": "stream",
     "text": [
      "Training Accuracy: 0.9908\n",
      "Testing Accuracy:  0.8046\n"
     ]
    }
   ],
   "source": [
    "plt.plot(history.history['accuracy'])\n",
    "plt.plot(history.history['val_accuracy'])\n",
    "\n",
    "plt.title('model accuracy')\n",
    "plt.ylabel('accuracy')\n",
    "plt.xlabel('epoch')\n",
    "plt.legend(['train','test'], loc = 'upper left')\n",
    "plt.show()\n",
    "\n",
    "plt.plot(history.history['loss'])\n",
    "plt.plot(history.history['val_loss'])\n",
    "\n",
    "plt.title('model loss')\n",
    "plt.ylabel('loss')\n",
    "plt.xlabel('epoch')\n",
    "plt.legend(['train','test'], loc = 'upper left')\n",
    "plt.show()\n",
    "\n",
    "loss, accuracy = model.evaluate(X_train_pad, y_train, verbose=False)\n",
    "print(\"Training Accuracy: {:.4f}\".format(accuracy))\n",
    "loss, accuracy = model.evaluate(X_test_pad, y_test, verbose=False)\n",
    "print(\"Testing Accuracy:  {:.4f}\".format(accuracy))"
   ]
  },
  {
   "cell_type": "markdown",
   "metadata": {},
   "source": [
    "## Matrice de confusion\n",
    "On peut voir que 127 phrases néagtaive on été correctement prédite, 50 phrase négative ont été incorectement prédite, 62 phrases positive ont été incorectement prédite et 278 positive ont été corectment prédite."
   ]
  },
  {
   "cell_type": "code",
   "execution_count": 11,
   "metadata": {},
   "outputs": [
    {
     "data": {
      "text/plain": [
       "array([[143,  55],\n",
       "       [ 46, 273]], dtype=int64)"
      ]
     },
     "execution_count": 11,
     "metadata": {},
     "output_type": "execute_result"
    }
   ],
   "source": [
    "y_pred = model.predict_classes(X_test_pad)\n",
    "confusion_matrix(y_pred ,y_test)"
   ]
  },
  {
   "cell_type": "markdown",
   "metadata": {},
   "source": [
    "# Affichage des phrases incorrectement prédite\n",
    "la méthode `getModelError` retourne une liste des phrases faux postive et faux négative"
   ]
  },
  {
   "cell_type": "code",
   "execution_count": 12,
   "metadata": {},
   "outputs": [],
   "source": [
    "def getModelError(y_pred, y_test, X_test):\n",
    "    '''\n",
    "    This method return false positive sentence and false negative sentence\n",
    "\n",
    "    y_pred -- predicted value\n",
    "    y_test -- true test value\n",
    "    X_test -- test sentence\n",
    "    '''\n",
    "    X_test_list = X_test.tolist()\n",
    "    falsePositiveSentence = []\n",
    "    falseNegativeSentence = []\n",
    "    for i in range(0,len(y_pred)):\n",
    "        if y_test[i] == 1 and y_pred[i] == 0:\n",
    "            falsePositiveSentence.append(X_test_list[i])\n",
    "        elif y_test[i] == 0 and y_pred[i] == 1:\n",
    "            falseNegativeSentence.append(X_test_list[i])\n",
    "    return (falsePositiveSentence, falseNegativeSentence)"
   ]
  },
  {
   "cell_type": "code",
   "execution_count": 13,
   "metadata": {},
   "outputs": [],
   "source": [
    "falsePositive, falseNegative = getModelError(y_pred, y_test, X_test)"
   ]
  },
  {
   "cell_type": "code",
   "execution_count": 14,
   "metadata": {},
   "outputs": [
    {
     "name": "stdout",
     "output_type": "stream",
     "text": [
      "['UPDATE 3-Stifel to buy former Lehman brokerage from Barclays', 'Eli Lilly & Co. (LLY) Has Broken Out To A New High On AstraZeneca Collaboration', 'UK MORNING BRIEFING: Sky And Hargreaves Lansdown Bookend FTSE 100', \"Britain's FTSE steadies below record high, BHP gains\", 'lets see 14+ today ', 'short didnt work out ', '$FCX +3.53% ', 'weakness could be opportunity Good to sell Nov Put for re-entry ', 'Institutions seem to like this class of stocks ', 'CompaniesUnilever sales lifted by ice cream in soft economy', 'hanging tough in down market due to analyst upgrades Up almost 3% ', 'magically bought at under a dollar ', 'starting to show some relative strength ', 'European shares fall on Chinese import data, SABMiller soars', \"ITV strike: Broadcaster's revenue soars but staff walkout for a piece of the action\", 'UPDATE: CIB, Legal & General Sell Egyptian Life Joint Venture To AXA', 'may be ripe for a #takeover targe ', 'UPDATE 3-Stifel to buy former Lehman brokerage from Barclays', 'Tesco boss urges rethink on minimum wage and business rates', \"UPDATE 1-Britain's Tullow says makes new oil find in Kenya\", 'Morrisons escapes FTSE relegation', 'Cisco-Synata deal is a game-changer $CSCO ', 'Daily Mail And General Trust eyeing Yahoo! ', 'Institutions seem to like this class of stocks ', 'master class on how to conquer mobile astonishing turned their fortunes around ', 'Omg OMG so excited!!!! ', 'RBI surprises Street; Sensex pares gains after hitting mount 30k', 'Associated British Foods helps FTSE to rebound', 'Short Squeeze Ready To Upside w Crossing Important Technical Level ', 'Going to be EPIC ', 'ooks like nice risk/reward for starting to initiate a position looks like nice risk/reward for starting to initiate a position ', 'Barclays signs on to Apple Pay ', \"UPDATE 2-Pricey beers lift SABMiller's quarterly underlying sales\", 'RSI lowest level since October 2012 ', 'brings upscale concept ', 'News FeedFTSE 100 movers: LSE surges as ICE says mulling offer; Ashtead and Barclays tank', 'peachy prospects ', 'Dyson Wants to Create a Hair Dryer Revolution', \"Britain's FTSE steadies, supported by Dixons Carphone\", 'EU regulator backs approval for GSK injectable asthma drug', 'UPDATE 1-EU regulator backs approval for GSK injectable asthma drug', 'EU drops Shell, BP, Statoil from ethanol benchmark investigation', 'looks really interesting on drop grabbed some options and stock enough tme before earnings to grow the stock growth all sectors ', 'Companies Thetrainline.com announces arrival of London IPO', 'earnings were good ', 'PRESS: US High-Frequency Lawsuit Against Barclays Dismissed - Reuters', 'EU drops Shell, BP, Statoil from ethanol benchmark investigation', '$TPLM Triangle #Petroleum 9.80+3% 2M Expanding Caliber ', \"isn't going anywhere buying \", 'not selling before ', 'BP wins right to appeal some Gulf spill damages claims', 'Worldpay readies for Ã‚Â£6bn London float', 'EU drops Shell, BP, Statoil from ethanol benchmark investigation', 'RBS invites pitches for broker role ahead of privatisation - sources', 'Problem for shorts every fund out there will want to buy this thing on a a pullback ']\n"
     ]
    }
   ],
   "source": [
    "print(falsePositive)"
   ]
  },
  {
   "cell_type": "markdown",
   "metadata": {},
   "source": [
    "# Word2vec\n",
    "Le Word2vec consiste à rapprocher les mots semblables proche dans un espace de plusieurs dimension. J'ai téléchargé sur le site de glove un fichier contenant une matrice avec des valeurs précalculé pour plusieurs mots de la langues anglaises. Le code ci-dessous récupére cette matrice stocké dans le fichier `glove/glove.50d.txt` et garde seulement les mots présents dans notre jeu de données. "
   ]
  },
  {
   "cell_type": "code",
   "execution_count": 15,
   "metadata": {},
   "outputs": [],
   "source": [
    "def create_embedding_matrix(filepath, word_index, embedding_dim):\n",
    "    '''Create the emedding matrix from the Glove file\n",
    "    filepath -- filepath to the Glove vector file\n",
    "    word_index -- tokenzizer object that contain the word index in the dataset\n",
    "    embedding_dim -- dimension of the final vector\n",
    "    return -- emedebbing matrix with the index and their vector\n",
    "    '''\n",
    "    vocab_size = len(word_index) + 1  \n",
    "    embedding_matrix = np.zeros((vocab_size, embedding_dim))\n",
    "\n",
    "    with open(filepath,encoding='utf8') as f:\n",
    "        for line in f:\n",
    "            word, *vector = line.split()\n",
    "            if word in word_index:\n",
    "                idx = word_index[word] \n",
    "                embedding_matrix[idx] = np.array(\n",
    "                    vector, dtype=np.float32)[:embedding_dim]\n",
    "\n",
    "    return embedding_matrix"
   ]
  },
  {
   "cell_type": "code",
   "execution_count": 16,
   "metadata": {},
   "outputs": [],
   "source": [
    "embedding_matrix = create_embedding_matrix('word2vec/glove/glove.6B.50d.txt', tokenizer_obj.word_index, EMBEDDING_DIM)"
   ]
  },
  {
   "cell_type": "code",
   "execution_count": 17,
   "metadata": {},
   "outputs": [
    {
     "name": "stdout",
     "output_type": "stream",
     "text": [
      "Percentage of the word of the dataset present in the matrix : 94.29102496016995 % \n"
     ]
    }
   ],
   "source": [
    "nonzero_elements = np.count_nonzero(np.count_nonzero(embedding_matrix, axis=1))\n",
    "print(\"Percentage of the word of the dataset present in the matrix : {} % \".format((nonzero_elements / vocab_size)*100))"
   ]
  },
  {
   "cell_type": "markdown",
   "metadata": {},
   "source": [
    "# Création du modèle\n",
    "Cette fois ci le modèle choisi est un réseau de neuronne récurrent inspiré du site : https://realpython.com/python-keras-text-classification/#what-is-a-word-embedding. La matrice de mot est également utilisé."
   ]
  },
  {
   "cell_type": "code",
   "execution_count": 18,
   "metadata": {},
   "outputs": [],
   "source": [
    "model = Sequential()\n",
    "model.add(Embedding(vocab_size, EMBEDDING_DIM, input_length=max_length, weights=[embedding_matrix]))\n",
    "model.add(GlobalMaxPool1D())\n",
    "model.add(Dense(10, activation='relu'))\n",
    "model.add(Dense(1, activation='sigmoid'))\n",
    "\n",
    "model.compile(loss='binary_crossentropy', optimizer='adam', metrics=['accuracy'])"
   ]
  },
  {
   "cell_type": "code",
   "execution_count": 19,
   "metadata": {},
   "outputs": [
    {
     "name": "stdout",
     "output_type": "stream",
     "text": [
      "Train on 2066 samples, validate on 517 samples\n",
      "Epoch 1/20\n",
      " - 0s - loss: 0.6939 - accuracy: 0.5992 - val_loss: 0.6620 - val_accuracy: 0.6228\n",
      "Epoch 2/20\n",
      " - 0s - loss: 0.6662 - accuracy: 0.6171 - val_loss: 0.6483 - val_accuracy: 0.6402\n",
      "Epoch 3/20\n",
      " - 0s - loss: 0.6497 - accuracy: 0.6326 - val_loss: 0.6408 - val_accuracy: 0.6538\n",
      "Epoch 4/20\n",
      " - 0s - loss: 0.6364 - accuracy: 0.6423 - val_loss: 0.6342 - val_accuracy: 0.6692\n",
      "Epoch 5/20\n",
      " - 0s - loss: 0.6196 - accuracy: 0.6530 - val_loss: 0.6241 - val_accuracy: 0.6770\n",
      "Epoch 6/20\n",
      " - 0s - loss: 0.6006 - accuracy: 0.6796 - val_loss: 0.6133 - val_accuracy: 0.6789\n",
      "Epoch 7/20\n",
      " - 0s - loss: 0.5776 - accuracy: 0.7052 - val_loss: 0.6021 - val_accuracy: 0.6847\n",
      "Epoch 8/20\n",
      " - 0s - loss: 0.5518 - accuracy: 0.7430 - val_loss: 0.5874 - val_accuracy: 0.7021\n",
      "Epoch 9/20\n",
      " - 0s - loss: 0.5184 - accuracy: 0.7711 - val_loss: 0.5714 - val_accuracy: 0.6963\n",
      "Epoch 10/20\n",
      " - 0s - loss: 0.4840 - accuracy: 0.7914 - val_loss: 0.5573 - val_accuracy: 0.7292\n",
      "Epoch 11/20\n",
      " - 0s - loss: 0.4490 - accuracy: 0.8228 - val_loss: 0.5389 - val_accuracy: 0.7350\n",
      "Epoch 12/20\n",
      " - 0s - loss: 0.4108 - accuracy: 0.8354 - val_loss: 0.5277 - val_accuracy: 0.7369\n",
      "Epoch 13/20\n",
      " - 0s - loss: 0.3710 - accuracy: 0.8582 - val_loss: 0.5104 - val_accuracy: 0.7331\n",
      "Epoch 14/20\n",
      " - 0s - loss: 0.3345 - accuracy: 0.8756 - val_loss: 0.5010 - val_accuracy: 0.7350\n",
      "Epoch 15/20\n",
      " - 0s - loss: 0.2997 - accuracy: 0.8906 - val_loss: 0.4936 - val_accuracy: 0.7408\n",
      "Epoch 16/20\n",
      " - 0s - loss: 0.2676 - accuracy: 0.9095 - val_loss: 0.4888 - val_accuracy: 0.7466\n",
      "Epoch 17/20\n",
      " - 0s - loss: 0.2410 - accuracy: 0.9182 - val_loss: 0.4859 - val_accuracy: 0.7524\n",
      "Epoch 18/20\n",
      " - 0s - loss: 0.2158 - accuracy: 0.9298 - val_loss: 0.4851 - val_accuracy: 0.7544\n",
      "Epoch 19/20\n",
      " - 0s - loss: 0.1939 - accuracy: 0.9424 - val_loss: 0.4863 - val_accuracy: 0.7524\n",
      "Epoch 20/20\n",
      " - 0s - loss: 0.1743 - accuracy: 0.9497 - val_loss: 0.4897 - val_accuracy: 0.7602\n"
     ]
    }
   ],
   "source": [
    "history = model.fit(X_train_pad, y_train,epochs=20,verbose=2,validation_data=(X_test_pad, y_test),batch_size=64)"
   ]
  },
  {
   "cell_type": "code",
   "execution_count": 20,
   "metadata": {},
   "outputs": [
    {
     "data": {
      "image/png": "[encoded data removed]",
      "text/plain": [
       "<Figure size 432x288 with 1 Axes>"
      ]
     },
     "metadata": {
      "needs_background": "light"
     },
     "output_type": "display_data"
    },
    {
     "data": {
      "image/png": "[encoded data removed]",
      "text/plain": [
       "<Figure size 432x288 with 1 Axes>"
      ]
     },
     "metadata": {
      "needs_background": "light"
     },
     "output_type": "display_data"
    },
    {
     "name": "stdout",
     "output_type": "stream",
     "text": [
      "Training Accuracy: 0.9540\n",
      "Testing Accuracy:  0.7602\n"
     ]
    }
   ],
   "source": [
    "plt.plot(history.history['accuracy'])\n",
    "plt.plot(history.history['val_accuracy'])\n",
    "\n",
    "plt.title('model accuracy')\n",
    "plt.ylabel('accuracy')\n",
    "plt.xlabel('epoch')\n",
    "plt.legend(['train','test'], loc = 'upper left')\n",
    "plt.show()\n",
    "\n",
    "plt.plot(history.history['loss'])\n",
    "plt.plot(history.history['val_loss'])\n",
    "\n",
    "plt.title('model loss')\n",
    "plt.ylabel('loss')\n",
    "plt.xlabel('epoch')\n",
    "plt.legend(['train','test'], loc = 'upper left')\n",
    "plt.show()\n",
    "\n",
    "loss, accuracy = model.evaluate(X_train_pad, y_train, verbose=False)\n",
    "print(\"Training Accuracy: {:.4f}\".format(accuracy))\n",
    "loss, accuracy = model.evaluate(X_test_pad, y_test, verbose=False)\n",
    "print(\"Testing Accuracy:  {:.4f}\".format(accuracy))"
   ]
  },
  {
   "cell_type": "markdown",
   "metadata": {},
   "source": [
    "# Conclusion\n",
    "On remarque ques les modèle présenté dans le notebook surajuste beaucoup. Ces solutions sont donc à abandonnées.  Pour plus de détail merci de consulter le rapport."
   ]
  }
 ],
 "metadata": {
  "kernelspec": {
   "display_name": "Python 3",
   "language": "python",
   "name": "python3"
  },
  "language_info": {
   "codemirror_mode": {
    "name": "ipython",
    "version": 3
   },
   "file_extension": ".py",
   "mimetype": "text/x-python",
   "name": "python",
   "nbconvert_exporter": "python",
   "pygments_lexer": "ipython3",
   "version": "3.7.4"
  }
 },
 "nbformat": 4,
 "nbformat_minor": 2
}
