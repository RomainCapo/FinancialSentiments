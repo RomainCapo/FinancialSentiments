{
 "cells": [
  {
   "cell_type": "markdown",
   "metadata": {},
   "source": [
    "![arc-logo](admin/image/arc-logo.png)\n",
    "# Projet P3\n",
    "## HeadlinesDeepLearningModel\n",
    "Ce notebook retrace les différentes étapes de création des modèles de deep learning avec le jeu de données des titres d'articles financiers\n",
    "\n",
    "`Auteur` : Romain Capocasale (INF3dlm-a)\n",
    "\n",
    "`Superviseur` : Hatem Ghorbel\n",
    "\n",
    "`Date` : 24.01.2020"
   ]
  },
  {
   "cell_type": "markdown",
   "metadata": {},
   "source": [
    "# Importation"
   ]
  },
  {
   "cell_type": "code",
   "execution_count": 1,
   "metadata": {},
   "outputs": [
    {
     "name": "stderr",
     "output_type": "stream",
     "text": [
      "Using TensorFlow backend.\n"
     ]
    }
   ],
   "source": [
    "%matplotlib inline\n",
    "\n",
    "import pandas as pd\n",
    "import numpy as np\n",
    "import matplotlib.pyplot as plt\n",
    "import gensim\n",
    "from gensim.utils import simple_preprocess\n",
    "\n",
    "from sklearn.metrics import confusion_matrix\n",
    "from sklearn.model_selection import train_test_split\n",
    "\n",
    "from tensorflow.python.keras.preprocessing.text import Tokenizer\n",
    "from tensorflow.python.keras.preprocessing.sequence import pad_sequences\n",
    "from keras.models import Sequential\n",
    "from keras.layers import Dense, Embedding, LSTM, GRU\n",
    "from keras.layers.embeddings import Embedding\n",
    "from keras.layers.pooling import GlobalMaxPool1D\n",
    "from keras.initializers import Constant\n",
    "\n",
    "np.random.seed(42)# to make this notebook's output stable across runs"
   ]
  },
  {
   "cell_type": "markdown",
   "metadata": {},
   "source": [
    "# Chragement du jeu de données"
   ]
  },
  {
   "cell_type": "code",
   "execution_count": 2,
   "metadata": {},
   "outputs": [],
   "source": [
    "dataset = pd.read_json('dataset/headlines_dataset/financialData.json')"
   ]
  },
  {
   "cell_type": "markdown",
   "metadata": {},
   "source": [
    "# Suppression des phrases avec un sentiment entre -0.1 et 0.1\n",
    "Les phrases avec un sentiment compris entre -0.1 et 0.1 influence en mal la précision. En effet, si le système prédit un sentiment de 0.05 pour une phrase alors que son sentiment réel et de -0.05 la prédiction sera considéré come fausse. Alors qu'en réalité l'erreur commise est toute petite (0.10).\n",
    "On voit que l'on perd 283 phrase a cause de ce processus."
   ]
  },
  {
   "cell_type": "code",
   "execution_count": 3,
   "metadata": {},
   "outputs": [
    {
     "name": "stdout",
     "output_type": "stream",
     "text": [
      "size before : 2866\n",
      "size after : 2583\n"
     ]
    }
   ],
   "source": [
    "print(\"size before : {}\".format(len(dataset)))\n",
    "dataset.drop(dataset[(dataset.sentiment >= -0.1) & (dataset.sentiment <= 0.1)].index, inplace=True)\n",
    "print(\"size after : {}\".format(len(dataset)))"
   ]
  },
  {
   "cell_type": "markdown",
   "metadata": {},
   "source": [
    "# Séparation des observations et des étiquettes\n",
    "Le sentiment est une valeur continue comprise entre -1 et 1. On transforme cette intervale continue en 2 valeurs discrete 0 et 1. Le modèle sera entrainé comme un classificateur, 0 pour une phrase négative et 1 pour une phrase positive."
   ]
  },
  {
   "cell_type": "code",
   "execution_count": 4,
   "metadata": {},
   "outputs": [],
   "source": [
    "X = np.array(dataset['title'])\n",
    "y = np.array([1 if s >= 0 else 0 for s in dataset['sentiment']])\n",
    "\n",
    "X_train, X_test, y_train, y_test = train_test_split(X, y, test_size=0.2, random_state=42)"
   ]
  },
  {
   "cell_type": "markdown",
   "metadata": {},
   "source": [
    "# Traitement du texte\n",
    "Le traitement du texte est effectué avec Gensim"
   ]
  },
  {
   "cell_type": "code",
   "execution_count": 5,
   "metadata": {},
   "outputs": [],
   "source": [
    "X_train_preprocessed = [' '.join(simple_preprocess(sentence)) for sentence in X_train ]\n",
    "X_test_preprocessed = [' '.join(simple_preprocess(sentence)) for sentence in X_test ]"
   ]
  },
  {
   "cell_type": "markdown",
   "metadata": {},
   "source": [
    "# Word embedding\n",
    "Ici on attribut à chacun des mots du jeu de données un indice. Chaque mot est alors représenté dans une phrase par son indice. Comme il faut que toutes les données envoyées au modèle soient de la même taille, il faut calculer la taille de la plus longue des phrases du jeu de données. Toutes les phrases envoyées au modèle devront faire cette taille. Les mots manquants sont comblés pas l’indice 0. "
   ]
  },
  {
   "cell_type": "code",
   "execution_count": 6,
   "metadata": {},
   "outputs": [],
   "source": [
    "tokenizer_obj =  Tokenizer()\n",
    "\n",
    "total_headlines = X_train_preprocessed + X_test_preprocessed\n",
    "tokenizer_obj.fit_on_texts(total_headlines)\n",
    "\n",
    "max_length = max([len(s.split()) for s in total_headlines])\n",
    "\n",
    "vocab_size = len(tokenizer_obj.word_index) + 1\n",
    "\n",
    "X_train_tokens = tokenizer_obj.texts_to_sequences(X_train_preprocessed)\n",
    "X_test_tokens = tokenizer_obj.texts_to_sequences(X_test_preprocessed)\n",
    "\n",
    "X_train_pad = pad_sequences(X_train_tokens, maxlen=max_length, padding='post')\n",
    "X_test_pad = pad_sequences(X_test_tokens, maxlen=max_length, padding='post')"
   ]
  },
  {
   "cell_type": "markdown",
   "metadata": {},
   "source": [
    "# Création du réseau de neuronne\n",
    "Réseau de neuronne de type LSTM inspiré du tutorial : https://towardsdatascience.com/machine-learning-word-embedding-sentiment-classification-using-keras-b83c28087456"
   ]
  },
  {
   "cell_type": "code",
   "execution_count": 7,
   "metadata": {},
   "outputs": [],
   "source": [
    "EMBEDDING_DIM = 32\n",
    "model = Sequential()\n",
    "model.add(Embedding(vocab_size, EMBEDDING_DIM, input_length=max_length))\n",
    "model.add(LSTM(16))\n",
    "model.add(Dense(1, activation='sigmoid'))\n",
    "\n",
    "model.compile(loss='binary_crossentropy', optimizer='adam', metrics=['accuracy'])"
   ]
  },
  {
   "cell_type": "code",
   "execution_count": 8,
   "metadata": {},
   "outputs": [
    {
     "name": "stdout",
     "output_type": "stream",
     "text": [
      "Model: \"sequential_1\"\n",
      "_________________________________________________________________\n",
      "Layer (type)                 Output Shape              Param #   \n",
      "=================================================================\n",
      "embedding_1 (Embedding)      (None, 22, 32)            120512    \n",
      "_________________________________________________________________\n",
      "lstm_1 (LSTM)                (None, 16)                3136      \n",
      "_________________________________________________________________\n",
      "dense_1 (Dense)              (None, 1)                 17        \n",
      "=================================================================\n",
      "Total params: 123,665\n",
      "Trainable params: 123,665\n",
      "Non-trainable params: 0\n",
      "_________________________________________________________________\n"
     ]
    }
   ],
   "source": [
    "model.summary()"
   ]
  },
  {
   "cell_type": "markdown",
   "metadata": {},
   "source": [
    "# Entrainement du modèle\n",
    "Le modèle est entrainé avec des echantillons de 256 données, avec 25 epochs"
   ]
  },
  {
   "cell_type": "code",
   "execution_count": 9,
   "metadata": {},
   "outputs": [
    {
     "name": "stderr",
     "output_type": "stream",
     "text": [
      "C:\\ProgramData\\Anaconda3\\lib\\site-packages\\tensorflow_core\\python\\framework\\indexed_slices.py:424: UserWarning: Converting sparse IndexedSlices to a dense Tensor of unknown shape. This may consume a large amount of memory.\n",
      "  \"Converting sparse IndexedSlices to a dense Tensor of unknown shape. \"\n"
     ]
    },
    {
     "name": "stdout",
     "output_type": "stream",
     "text": [
      "Train on 2066 samples, validate on 517 samples\n",
      "Epoch 1/20\n",
      " - 1s - loss: 0.6725 - accuracy: 0.6288 - val_loss: 0.6552 - val_accuracy: 0.6344\n",
      "Epoch 2/20\n",
      " - 0s - loss: 0.6548 - accuracy: 0.6288 - val_loss: 0.6477 - val_accuracy: 0.6344\n",
      "Epoch 3/20\n",
      " - 1s - loss: 0.5538 - accuracy: 0.6912 - val_loss: 0.4984 - val_accuracy: 0.7969\n",
      "Epoch 4/20\n",
      " - 0s - loss: 0.3096 - accuracy: 0.9177 - val_loss: 0.5050 - val_accuracy: 0.8027\n",
      "Epoch 5/20\n",
      " - 0s - loss: 0.2028 - accuracy: 0.9574 - val_loss: 0.5362 - val_accuracy: 0.7930\n",
      "Epoch 6/20\n",
      " - 0s - loss: 0.1469 - accuracy: 0.9676 - val_loss: 0.6015 - val_accuracy: 0.8027\n",
      "Epoch 7/20\n",
      " - 0s - loss: 0.1234 - accuracy: 0.9739 - val_loss: 0.5950 - val_accuracy: 0.8066\n",
      "Epoch 8/20\n",
      " - 0s - loss: 0.0969 - accuracy: 0.9811 - val_loss: 0.6346 - val_accuracy: 0.8027\n",
      "Epoch 9/20\n",
      " - 0s - loss: 0.0798 - accuracy: 0.9850 - val_loss: 0.6472 - val_accuracy: 0.8104\n",
      "Epoch 10/20\n",
      " - 0s - loss: 0.0707 - accuracy: 0.9869 - val_loss: 0.6635 - val_accuracy: 0.8104\n",
      "Epoch 11/20\n",
      " - 0s - loss: 0.0653 - accuracy: 0.9879 - val_loss: 0.6734 - val_accuracy: 0.8124\n",
      "Epoch 12/20\n",
      " - 0s - loss: 0.0614 - accuracy: 0.9879 - val_loss: 0.6914 - val_accuracy: 0.8104\n",
      "Epoch 13/20\n",
      " - 0s - loss: 0.0547 - accuracy: 0.9898 - val_loss: 0.6633 - val_accuracy: 0.8085\n",
      "Epoch 14/20\n",
      " - 0s - loss: 0.0537 - accuracy: 0.9903 - val_loss: 0.7151 - val_accuracy: 0.8046\n",
      "Epoch 15/20\n",
      " - 0s - loss: 0.0545 - accuracy: 0.9894 - val_loss: 0.7273 - val_accuracy: 0.8085\n",
      "Epoch 16/20\n",
      " - 0s - loss: 0.0488 - accuracy: 0.9913 - val_loss: 0.7413 - val_accuracy: 0.8066\n",
      "Epoch 17/20\n",
      " - 0s - loss: 0.0492 - accuracy: 0.9913 - val_loss: 0.7453 - val_accuracy: 0.8046\n",
      "Epoch 18/20\n",
      " - 0s - loss: 0.0512 - accuracy: 0.9903 - val_loss: 0.7353 - val_accuracy: 0.8066\n",
      "Epoch 19/20\n",
      " - 0s - loss: 0.0481 - accuracy: 0.9913 - val_loss: 0.7411 - val_accuracy: 0.8066\n",
      "Epoch 20/20\n",
      " - 0s - loss: 0.0497 - accuracy: 0.9903 - val_loss: 0.6742 - val_accuracy: 0.8027\n"
     ]
    }
   ],
   "source": [
    "history = model.fit(X_train_pad, y_train, batch_size=64, epochs=20, verbose=2, validation_data=(X_test_pad, y_test))"
   ]
  },
  {
   "cell_type": "markdown",
   "metadata": {},
   "source": [
    "# Evaluation du modèle\n",
    "On remarque que la précison sur le jeu d'entrainement est de 99 % et de 79 % sur le jeu de test. On peut donc déduire que le modéle surévalue. On peut également remarquer que la perte augemente sur le jeu de test alors qu'elle devait diminuer."
   ]
  },
  {
   "cell_type": "code",
   "execution_count": 10,
   "metadata": {},
   "outputs": [
    {
     "data": {
      "image/png": "[encoded data removed]",
      "text/plain": [
       "<Figure size 432x288 with 1 Axes>"
      ]
     },
     "metadata": {
      "needs_background": "light"
     },
     "output_type": "display_data"
    },
    {
     "data": {
      "image/png": "[encoded data removed]",
      "text/plain": [
       "<Figure size 432x288 with 1 Axes>"
      ]
     },
     "metadata": {
      "needs_background": "light"
     },
     "output_type": "display_data"
    },
    {
     "name": "stdout",
     "output_type": "stream",
     "text": [
      "Training Accuracy: 0.9908\n",
      "Testing Accuracy:  0.8027\n"
     ]
    }
   ],
   "source": [
    "plt.plot(history.history['accuracy'])\n",
    "plt.plot(history.history['val_accuracy'])\n",
    "\n",
    "plt.title('model accuracy')\n",
    "plt.ylabel('accuracy')\n",
    "plt.xlabel('epoch')\n",
    "plt.legend(['train','test'], loc = 'upper left')\n",
    "plt.show()\n",
    "\n",
    "plt.plot(history.history['loss'])\n",
    "plt.plot(history.history['val_loss'])\n",
    "\n",
    "plt.title('model loss')\n",
    "plt.ylabel('loss')\n",
    "plt.xlabel('epoch')\n",
    "plt.legend(['train','test'], loc = 'upper left')\n",
    "plt.show()\n",
    "\n",
    "loss, accuracy = model.evaluate(X_train_pad, y_train, verbose=False)\n",
    "print(\"Training Accuracy: {:.4f}\".format(accuracy))\n",
    "loss, accuracy = model.evaluate(X_test_pad, y_test, verbose=False)\n",
    "print(\"Testing Accuracy:  {:.4f}\".format(accuracy))"
   ]
  },
  {
   "cell_type": "markdown",
   "metadata": {},
   "source": [
    "## Matrice de confusion\n",
    "On peut voir que 127 phrases néagtaive on été correctement prédite, 50 phrase négative ont été incorectement prédite, 62 phrases positive ont été incorectement prédite et 278 positive ont été corectment prédite."
   ]
  },
  {
   "cell_type": "code",
   "execution_count": 11,
   "metadata": {},
   "outputs": [
    {
     "data": {
      "text/plain": [
       "array([[139,  52],\n",
       "       [ 50, 276]], dtype=int64)"
      ]
     },
     "execution_count": 11,
     "metadata": {},
     "output_type": "execute_result"
    }
   ],
   "source": [
    "y_pred = model.predict_classes(X_test_pad)\n",
    "confusion_matrix(y_pred ,y_test)"
   ]
  },
  {
   "cell_type": "markdown",
   "metadata": {},
   "source": [
    "# Affichage des phrases incorrectement prédite\n",
    "la méthode `getModelError` retourne une liste des phrases faux postive et faux négative"
   ]
  },
  {
   "cell_type": "code",
   "execution_count": 12,
   "metadata": {},
   "outputs": [],
   "source": [
    "def getModelError(y_pred, y_test, X_test):\n",
    "    '''\n",
    "    This method return false positive sentence and false negative sentence\n",
    "\n",
    "    y_pred -- predicted value\n",
    "    y_test -- true test value\n",
    "    X_test -- test sentence\n",
    "    '''\n",
    "    X_test_list = X_test.tolist()\n",
    "    falsePositiveSentence = []\n",
    "    falseNegativeSentence = []\n",
    "    for i in range(0,len(y_pred)):\n",
    "        if y_test[i] == 1 and y_pred[i] == 0:\n",
    "            falsePositiveSentence.append(X_test_list[i])\n",
    "        elif y_test[i] == 0 and y_pred[i] == 1:\n",
    "            falseNegativeSentence.append(X_test_list[i])\n",
    "    return (falsePositiveSentence, falseNegativeSentence)"
   ]
  },
  {
   "cell_type": "code",
   "execution_count": 13,
   "metadata": {},
   "outputs": [],
   "source": [
    "falsePositive, falseNegative = getModelError(y_pred, y_test, X_test)"
   ]
  },
  {
   "cell_type": "markdown",
   "metadata": {},
   "source": [
    "# Word2vec\n",
    "Le Word2vec consiste à rapprocher les mots semblables proche dans un espace de plusieurs dimension. J'ai téléchargé sur le site de glove un fichier contenant une matrice avec des valeurs précalculé pour plusieurs mots de la langues anglaises. Le code ci-dessous récupére cette matrice stocké dans le fichier `glove/glove.50d.txt` et garde seulement les mots présents dans notre jeu de données. "
   ]
  },
  {
   "cell_type": "code",
   "execution_count": 15,
   "metadata": {},
   "outputs": [],
   "source": [
    "def create_embedding_matrix(filepath, word_index, embedding_dim):\n",
    "    '''Create the emedding matrix from the Glove file\n",
    "    filepath -- filepath to the Glove vector file\n",
    "    word_index -- tokenzizer object that contain the word index in the dataset\n",
    "    embedding_dim -- dimension of the final vector\n",
    "    return -- emedebbing matrix with the index and their vector\n",
    "    '''\n",
    "    vocab_size = len(word_index) + 1  \n",
    "    embedding_matrix = np.zeros((vocab_size, embedding_dim))\n",
    "\n",
    "    with open(filepath,encoding='utf8') as f:\n",
    "        for line in f:\n",
    "            word, *vector = line.split()\n",
    "            if word in word_index:\n",
    "                idx = word_index[word] \n",
    "                embedding_matrix[idx] = np.array(\n",
    "                    vector, dtype=np.float32)[:embedding_dim]\n",
    "\n",
    "    return embedding_matrix"
   ]
  },
  {
   "cell_type": "code",
   "execution_count": 16,
   "metadata": {},
   "outputs": [],
   "source": [
    "embedding_matrix = create_embedding_matrix('word2vec/glove/glove.6B.50d.txt', tokenizer_obj.word_index, EMBEDDING_DIM)"
   ]
  },
  {
   "cell_type": "code",
   "execution_count": 17,
   "metadata": {},
   "outputs": [
    {
     "name": "stdout",
     "output_type": "stream",
     "text": [
      "Percentage of the word of the dataset present in the matrix : 94.29102496016995 % \n"
     ]
    }
   ],
   "source": [
    "nonzero_elements = np.count_nonzero(np.count_nonzero(embedding_matrix, axis=1))\n",
    "print(\"Percentage of the word of the dataset present in the matrix : {} % \".format((nonzero_elements / vocab_size)*100))"
   ]
  },
  {
   "cell_type": "markdown",
   "metadata": {},
   "source": [
    "# Création du modèle\n",
    "Utilisation d'un réseau de type CNN. "
   ]
  },
  {
   "cell_type": "code",
   "execution_count": 18,
   "metadata": {},
   "outputs": [],
   "source": [
    "model = Sequential()\n",
    "model.add(Embedding(vocab_size, EMBEDDING_DIM, input_length=max_length, weights=[embedding_matrix]))\n",
    "model.add(GlobalMaxPool1D())\n",
    "model.add(Dense(10, activation='relu'))\n",
    "model.add(Dense(1, activation='sigmoid'))\n",
    "\n",
    "model.compile(loss='binary_crossentropy', optimizer='adam', metrics=['accuracy'])"
   ]
  },
  {
   "cell_type": "code",
   "execution_count": 19,
   "metadata": {},
   "outputs": [
    {
     "name": "stdout",
     "output_type": "stream",
     "text": [
      "Train on 2066 samples, validate on 517 samples\n",
      "Epoch 1/20\n",
      " - 0s - loss: 0.6951 - accuracy: 0.5997 - val_loss: 0.6625 - val_accuracy: 0.6228\n",
      "Epoch 2/20\n",
      " - 0s - loss: 0.6665 - accuracy: 0.6167 - val_loss: 0.6485 - val_accuracy: 0.6383\n",
      "Epoch 3/20\n",
      " - 0s - loss: 0.6499 - accuracy: 0.6331 - val_loss: 0.6409 - val_accuracy: 0.6538\n",
      "Epoch 4/20\n",
      " - 0s - loss: 0.6365 - accuracy: 0.6418 - val_loss: 0.6344 - val_accuracy: 0.6692\n",
      "Epoch 5/20\n",
      " - 0s - loss: 0.6196 - accuracy: 0.6530 - val_loss: 0.6240 - val_accuracy: 0.6750\n",
      "Epoch 6/20\n",
      " - 0s - loss: 0.5992 - accuracy: 0.6864 - val_loss: 0.6136 - val_accuracy: 0.6712\n",
      "Epoch 7/20\n",
      " - 0s - loss: 0.5758 - accuracy: 0.7120 - val_loss: 0.6012 - val_accuracy: 0.6886\n",
      "Epoch 8/20\n",
      " - 0s - loss: 0.5502 - accuracy: 0.7444 - val_loss: 0.5867 - val_accuracy: 0.6983\n",
      "Epoch 9/20\n",
      " - 0s - loss: 0.5175 - accuracy: 0.7706 - val_loss: 0.5710 - val_accuracy: 0.6963\n",
      "Epoch 10/20\n",
      " - 0s - loss: 0.4839 - accuracy: 0.7933 - val_loss: 0.5572 - val_accuracy: 0.7253\n",
      "Epoch 11/20\n",
      " - 0s - loss: 0.4491 - accuracy: 0.8219 - val_loss: 0.5387 - val_accuracy: 0.7331\n",
      "Epoch 12/20\n",
      " - 0s - loss: 0.4113 - accuracy: 0.8345 - val_loss: 0.5281 - val_accuracy: 0.7331\n",
      "Epoch 13/20\n",
      " - 0s - loss: 0.3716 - accuracy: 0.8572 - val_loss: 0.5103 - val_accuracy: 0.7350\n",
      "Epoch 14/20\n",
      " - 0s - loss: 0.3349 - accuracy: 0.8771 - val_loss: 0.5008 - val_accuracy: 0.7350\n",
      "Epoch 15/20\n",
      " - 0s - loss: 0.3001 - accuracy: 0.8901 - val_loss: 0.4936 - val_accuracy: 0.7427\n",
      "Epoch 16/20\n",
      " - 0s - loss: 0.2679 - accuracy: 0.9090 - val_loss: 0.4887 - val_accuracy: 0.7466\n",
      "Epoch 17/20\n",
      " - 0s - loss: 0.2411 - accuracy: 0.9182 - val_loss: 0.4857 - val_accuracy: 0.7582\n",
      "Epoch 18/20\n",
      " - 0s - loss: 0.2159 - accuracy: 0.9318 - val_loss: 0.4848 - val_accuracy: 0.7524\n",
      "Epoch 19/20\n",
      " - 0s - loss: 0.1939 - accuracy: 0.9439 - val_loss: 0.4857 - val_accuracy: 0.7524\n",
      "Epoch 20/20\n",
      " - 0s - loss: 0.1742 - accuracy: 0.9501 - val_loss: 0.4890 - val_accuracy: 0.7582\n"
     ]
    }
   ],
   "source": [
    "history = model.fit(X_train_pad, y_train,epochs=20,verbose=2,validation_data=(X_test_pad, y_test),batch_size=64)"
   ]
  },
  {
   "cell_type": "code",
   "execution_count": 20,
   "metadata": {},
   "outputs": [
    {
     "data": {
      "image/png": "[encoded data removed]",
      "text/plain": [
       "<Figure size 432x288 with 1 Axes>"
      ]
     },
     "metadata": {
      "needs_background": "light"
     },
     "output_type": "display_data"
    },
    {
     "data": {
      "image/png": "[encoded data removed]",
      "text/plain": [
       "<Figure size 432x288 with 1 Axes>"
      ]
     },
     "metadata": {
      "needs_background": "light"
     },
     "output_type": "display_data"
    },
    {
     "name": "stdout",
     "output_type": "stream",
     "text": [
      "Training Accuracy: 0.9545\n",
      "Testing Accuracy:  0.7582\n"
     ]
    }
   ],
   "source": [
    "plt.plot(history.history['accuracy'])\n",
    "plt.plot(history.history['val_accuracy'])\n",
    "\n",
    "plt.title('model accuracy')\n",
    "plt.ylabel('accuracy')\n",
    "plt.xlabel('epoch')\n",
    "plt.legend(['train','test'], loc = 'upper left')\n",
    "plt.show()\n",
    "\n",
    "plt.plot(history.history['loss'])\n",
    "plt.plot(history.history['val_loss'])\n",
    "\n",
    "plt.title('model loss')\n",
    "plt.ylabel('loss')\n",
    "plt.xlabel('epoch')\n",
    "plt.legend(['train','test'], loc = 'upper left')\n",
    "plt.show()\n",
    "\n",
    "loss, accuracy = model.evaluate(X_train_pad, y_train, verbose=False)\n",
    "print(\"Training Accuracy: {:.4f}\".format(accuracy))\n",
    "loss, accuracy = model.evaluate(X_test_pad, y_test, verbose=False)\n",
    "print(\"Testing Accuracy:  {:.4f}\".format(accuracy))"
   ]
  },
  {
   "cell_type": "markdown",
   "metadata": {},
   "source": [
    "# Conclusion\n",
    "On remarque ques les modèle présenté dans le notebook surajuste beaucoup. Ces solutions sont donc à abandonnées.  Pour plus de détail merci de consulter le rapport."
   ]
  }
 ],
 "metadata": {
  "kernelspec": {
   "display_name": "Python 3",
   "language": "python",
   "name": "python3"
  },
  "language_info": {
   "codemirror_mode": {
    "name": "ipython",
    "version": 3
   },
   "file_extension": ".py",
   "mimetype": "text/x-python",
   "name": "python",
   "nbconvert_exporter": "python",
   "pygments_lexer": "ipython3",
   "version": "3.7.4"
  }
 },
 "nbformat": 4,
 "nbformat_minor": 2
}
