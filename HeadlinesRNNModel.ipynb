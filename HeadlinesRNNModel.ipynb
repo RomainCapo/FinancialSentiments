{
 "cells": [
  {
   "cell_type": "markdown",
   "metadata": {},
   "source": [
    "![arc-logo](admin/image/arc-logo.png)\n",
    "# Projet P3\n",
    "## HeadlinesRNNModel\n",
    "Ce notebook retrace les différentes étapes de création d'un modèle de deep learning avec le jeu de données des titres d'articles financiers\n",
    "\n",
    "`Auteur` : Romain Capocasale (INF3dlm-a)\n",
    "\n",
    "`Superviseur` : Hatem Ghorbel\n",
    "\n",
    "`Date` : 24.01.2020"
   ]
  },
  {
   "cell_type": "markdown",
   "metadata": {},
   "source": [
    "# Importation"
   ]
  },
  {
   "cell_type": "code",
   "execution_count": 2,
   "metadata": {},
   "outputs": [],
   "source": [
    "import numpy as np\n",
    "import sys\n",
    "import pickle\n",
    "import pandas as pd\n",
    "from sklearn.model_selection import train_test_split\n",
    "from gensim.utils import simple_preprocess\n",
    "from keras.models import Sequential\n",
    "from keras.layers import SimpleRNN, Dense\n",
    "from keras.layers.embeddings import Embedding\n",
    "from tensorflow.python.keras.preprocessing.text import Tokenizer\n",
    "from tensorflow.python.keras.preprocessing.sequence import pad_sequences\n",
    "from keras.initializers import Constant\n",
    "from matplotlib import pyplot as plt\n",
    "np.random.seed(42)"
   ]
  },
  {
   "cell_type": "markdown",
   "metadata": {},
   "source": [
    "# Récupération des données\n",
    "Les phrases avec un sentiment compris entre -0.1 et 0.1 influence en mal la précision. En effet, si le système prédit un sentiment de 0.05 pour une phrase alors que son sentiment réel et de -0.05 la prédiction sera considéré come fausse. Alors qu'en réalité l'erreur commise est toute petite (0.10).\n",
    "On voit que l'on perd 283 phrase a cause de ce processus."
   ]
  },
  {
   "cell_type": "code",
   "execution_count": 3,
   "metadata": {},
   "outputs": [],
   "source": [
    "dataset = pd.read_json('dataset/headlines_dataset/financialData.json')"
   ]
  },
  {
   "cell_type": "code",
   "execution_count": 4,
   "metadata": {},
   "outputs": [
    {
     "name": "stdout",
     "output_type": "stream",
     "text": [
      "size before : 2866\n",
      "size after : 2583\n"
     ]
    }
   ],
   "source": [
    "print(\"size before : {}\".format(len(dataset)))\n",
    "dataset.drop(dataset[(dataset.sentiment >= -0.1) & (dataset.sentiment <= 0.1)].index, inplace=True)\n",
    "print(\"size after : {}\".format(len(dataset)))"
   ]
  },
  {
   "cell_type": "markdown",
   "metadata": {},
   "source": [
    "# Prétrataitement \n",
    "j'utilise Gensim pour le prétraitement"
   ]
  },
  {
   "cell_type": "code",
   "execution_count": 5,
   "metadata": {},
   "outputs": [],
   "source": [
    "pre_sentences = [' '.join(simple_preprocess(sentence)) for sentence in dataset['title'] ]"
   ]
  },
  {
   "cell_type": "markdown",
   "metadata": {},
   "source": [
    "# Importation du word2vec financiers"
   ]
  },
  {
   "cell_type": "code",
   "execution_count": 6,
   "metadata": {},
   "outputs": [
    {
     "name": "stderr",
     "output_type": "stream",
     "text": [
      "[nltk_data] Downloading package stopwords to\n",
      "[nltk_data]     C:\\Users\\romain.capocasa\\AppData\\Roaming\\nltk_data...\n",
      "[nltk_data]   Package stopwords is already up-to-date!\n"
     ]
    }
   ],
   "source": [
    "sys.path.insert(0, 'word2vec/financialWord2vec/src')\n",
    "from financial_corpus import FinancialCorpus\n",
    "from financial_w2vec import FinancialWord2Vec\n",
    "\n",
    "financial_w2vec = pickle.load(open('word2vec/financialWord2vec/data/models_pickle/FinancialWord2Vec.pkl','rb'))\n",
    "w2vec_model = financial_w2vec.model\n",
    "financial_corpus = financial_w2vec.financial_corpus\n",
    "\n",
    "bigram_mod = financial_corpus.bigram_mod\n",
    "trigram_mod = financial_corpus.bigram_mod"
   ]
  },
  {
   "cell_type": "markdown",
   "metadata": {},
   "source": [
    "## Sauvegarde du word2vec au format txt\n",
    "Cette opération est effectué pour gagner en rapidité."
   ]
  },
  {
   "cell_type": "code",
   "execution_count": 7,
   "metadata": {},
   "outputs": [],
   "source": [
    "FINANCIAL_WORD2VEC_TXT_FILEPATH = \"word2vec/financialWord2vec/financial_word2vec.txt\"\n",
    "w2vec_model.wv.save_word2vec_format(FINANCIAL_WORD2VEC_TXT_FILEPATH, binary=False)"
   ]
  },
  {
   "cell_type": "markdown",
   "metadata": {},
   "source": [
    "# Récupération de la matrice de mot/vecteur\n",
    "Le dictionnaire contient comme clé le mot et comme valeur le vecteur représantant ce mot."
   ]
  },
  {
   "cell_type": "code",
   "execution_count": 8,
   "metadata": {},
   "outputs": [],
   "source": [
    "embeddings_index = {}\n",
    "f = open(FINANCIAL_WORD2VEC_TXT_FILEPATH, encoding='utf-8')\n",
    "for line in f:\n",
    "    values = line.split()\n",
    "    word = values[0]\n",
    "    coefs = np.asarray(values[1:])\n",
    "    embeddings_index[word] = coefs\n",
    "f.close()"
   ]
  },
  {
   "cell_type": "markdown",
   "metadata": {},
   "source": [
    "# Représentation de la phrase avec le padding"
   ]
  },
  {
   "cell_type": "code",
   "execution_count": 9,
   "metadata": {},
   "outputs": [],
   "source": [
    "tokenizer_obj =  Tokenizer()\n",
    "tokenizer_obj.fit_on_texts(pre_sentences)\n",
    "sequences = tokenizer_obj.texts_to_sequences(pre_sentences)\n",
    "\n",
    "word_index = tokenizer_obj.word_index\n",
    "max_length = max([len(s.split()) for s in pre_sentences])\n",
    "vocab_size = len(word_index) + 1\n",
    "\n",
    "sentences_pad = pad_sequences(sequences, maxlen=max_length, padding='post')"
   ]
  },
  {
   "cell_type": "markdown",
   "metadata": {},
   "source": [
    "# Création de la matrice index/vecteur\n",
    "L'index de la case du tableau corresponds à l'index du mot. La valeur à cette index est le vecteur représantant le mot dans l'espace."
   ]
  },
  {
   "cell_type": "code",
   "execution_count": 10,
   "metadata": {},
   "outputs": [],
   "source": [
    "embedding_matrix = np.zeros((vocab_size, 100))\n",
    "\n",
    "for word, i in word_index.items():\n",
    "    if i > vocab_size:\n",
    "        continue\n",
    "    embedding_vector = embeddings_index.get(word)\n",
    "    if embedding_vector is not None:\n",
    "        embedding_matrix[i] = embedding_vector\n",
    "    elif embedding_vector is None:\n",
    "        embedding_matrix[i] = np.zeros(100)"
   ]
  },
  {
   "cell_type": "markdown",
   "metadata": {},
   "source": [
    "# Création de l'architecture du réseau de neuronne\n",
    "la matrice créé préceddment est passé en paramètre"
   ]
  },
  {
   "cell_type": "code",
   "execution_count": 11,
   "metadata": {},
   "outputs": [
    {
     "name": "stdout",
     "output_type": "stream",
     "text": [
      "Model: \"sequential_1\"\n",
      "_________________________________________________________________\n",
      "Layer (type)                 Output Shape              Param #   \n",
      "=================================================================\n",
      "embedding_1 (Embedding)      (None, 22, 100)           376600    \n",
      "_________________________________________________________________\n",
      "simple_rnn_1 (SimpleRNN)     (None, 16)                1872      \n",
      "_________________________________________________________________\n",
      "dense_1 (Dense)              (None, 1)                 17        \n",
      "=================================================================\n",
      "Total params: 378,489\n",
      "Trainable params: 378,489\n",
      "Non-trainable params: 0\n",
      "_________________________________________________________________\n"
     ]
    }
   ],
   "source": [
    "model = Sequential()\n",
    "\n",
    "model.add(Embedding(vocab_size, 100, input_length=max_length, embeddings_initializer=Constant(embedding_matrix)))\n",
    "model.add(SimpleRNN(16))\n",
    "model.add(Dense(1, activation='sigmoid'))\n",
    "model.compile(loss='binary_crossentropy', optimizer='adam', metrics=['accuracy'])\n",
    "model.summary() "
   ]
  },
  {
   "cell_type": "markdown",
   "metadata": {},
   "source": [
    "# Récupération des observations et des étiquettes"
   ]
  },
  {
   "cell_type": "code",
   "execution_count": 12,
   "metadata": {},
   "outputs": [],
   "source": [
    "y = np.array([1 if s >= 0 else 0 for s in dataset['sentiment']])\n",
    "X_train_pad, X_test_pad, y_train, y_test = train_test_split(sentences_pad, y, test_size=0.2, random_state=42)"
   ]
  },
  {
   "cell_type": "markdown",
   "metadata": {},
   "source": [
    "# Entrainement du modèle"
   ]
  },
  {
   "cell_type": "code",
   "execution_count": 13,
   "metadata": {},
   "outputs": [
    {
     "name": "stderr",
     "output_type": "stream",
     "text": [
      "C:\\ProgramData\\Anaconda3\\lib\\site-packages\\tensorflow_core\\python\\framework\\indexed_slices.py:424: UserWarning: Converting sparse IndexedSlices to a dense Tensor of unknown shape. This may consume a large amount of memory.\n",
      "  \"Converting sparse IndexedSlices to a dense Tensor of unknown shape. \"\n"
     ]
    },
    {
     "name": "stdout",
     "output_type": "stream",
     "text": [
      "Train on 2066 samples, validate on 517 samples\n",
      "Epoch 1/20\n",
      " - 1s - loss: 0.6628 - accuracy: 0.6200 - val_loss: 0.6566 - val_accuracy: 0.6325\n",
      "Epoch 2/20\n",
      " - 1s - loss: 0.6244 - accuracy: 0.6655 - val_loss: 0.6368 - val_accuracy: 0.6499\n",
      "Epoch 3/20\n",
      " - 1s - loss: 0.5543 - accuracy: 0.7357 - val_loss: 0.6175 - val_accuracy: 0.6615\n",
      "Epoch 4/20\n",
      " - 1s - loss: 0.4808 - accuracy: 0.7880 - val_loss: 0.6212 - val_accuracy: 0.6944\n",
      "Epoch 5/20\n",
      " - 1s - loss: 0.4177 - accuracy: 0.8349 - val_loss: 0.6559 - val_accuracy: 0.6905\n",
      "Epoch 6/20\n",
      " - 1s - loss: 0.3713 - accuracy: 0.8606 - val_loss: 0.6689 - val_accuracy: 0.7157\n",
      "Epoch 7/20\n",
      " - 1s - loss: 0.3239 - accuracy: 0.8800 - val_loss: 0.7119 - val_accuracy: 0.6925\n",
      "Epoch 8/20\n",
      " - 1s - loss: 0.2970 - accuracy: 0.8930 - val_loss: 0.7100 - val_accuracy: 0.7176\n",
      "Epoch 9/20\n",
      " - 1s - loss: 0.2715 - accuracy: 0.9013 - val_loss: 0.7611 - val_accuracy: 0.6983\n",
      "Epoch 10/20\n",
      " - 1s - loss: 0.2595 - accuracy: 0.9042 - val_loss: 0.7696 - val_accuracy: 0.7079\n",
      "Epoch 11/20\n",
      " - 1s - loss: 0.2362 - accuracy: 0.9158 - val_loss: 0.8187 - val_accuracy: 0.6925\n",
      "Epoch 12/20\n",
      " - 1s - loss: 0.2109 - accuracy: 0.9235 - val_loss: 0.8334 - val_accuracy: 0.7176\n",
      "Epoch 13/20\n",
      " - 1s - loss: 0.1970 - accuracy: 0.9327 - val_loss: 0.8535 - val_accuracy: 0.7099\n",
      "Epoch 14/20\n",
      " - 1s - loss: 0.1858 - accuracy: 0.9380 - val_loss: 0.8378 - val_accuracy: 0.7273\n",
      "Epoch 15/20\n",
      " - 1s - loss: 0.1655 - accuracy: 0.9448 - val_loss: 0.8714 - val_accuracy: 0.7060\n",
      "Epoch 16/20\n",
      " - 1s - loss: 0.1476 - accuracy: 0.9501 - val_loss: 0.8926 - val_accuracy: 0.6847\n",
      "Epoch 17/20\n",
      " - 1s - loss: 0.1346 - accuracy: 0.9526 - val_loss: 0.9092 - val_accuracy: 0.7099\n",
      "Epoch 18/20\n",
      " - 1s - loss: 0.1267 - accuracy: 0.9564 - val_loss: 0.9449 - val_accuracy: 0.7099\n",
      "Epoch 19/20\n",
      " - 1s - loss: 0.1280 - accuracy: 0.9593 - val_loss: 0.9180 - val_accuracy: 0.7099\n",
      "Epoch 20/20\n",
      " - 1s - loss: 0.1134 - accuracy: 0.9632 - val_loss: 0.9311 - val_accuracy: 0.7021\n"
     ]
    }
   ],
   "source": [
    "history = model.fit(X_train_pad, y_train, batch_size=32, epochs=20, verbose=2, validation_data=(X_test_pad, y_test))"
   ]
  },
  {
   "cell_type": "markdown",
   "metadata": {},
   "source": [
    "# Résultats du modèle"
   ]
  },
  {
   "cell_type": "code",
   "execution_count": 14,
   "metadata": {},
   "outputs": [
    {
     "data": {
      "image/png": "[encoded data removed]",
      "text/plain": [
       "<Figure size 432x288 with 1 Axes>"
      ]
     },
     "metadata": {
      "needs_background": "light"
     },
     "output_type": "display_data"
    },
    {
     "data": {
      "image/png": "[encoded data removed]",
      "text/plain": [
       "<Figure size 432x288 with 1 Axes>"
      ]
     },
     "metadata": {
      "needs_background": "light"
     },
     "output_type": "display_data"
    },
    {
     "name": "stdout",
     "output_type": "stream",
     "text": [
      "Training Accuracy: 0.9734\n",
      "Testing Accuracy:  0.7021\n"
     ]
    }
   ],
   "source": [
    "plt.plot(history.history['accuracy'])\n",
    "plt.plot(history.history['val_accuracy'])\n",
    "\n",
    "plt.title('model accuracy')\n",
    "plt.ylabel('accuracy')\n",
    "plt.xlabel('epoch')\n",
    "plt.legend(['train','test'], loc = 'upper left')\n",
    "plt.show()\n",
    "\n",
    "plt.plot(history.history['loss'])\n",
    "plt.plot(history.history['val_loss'])\n",
    "\n",
    "plt.title('model loss')\n",
    "plt.ylabel('loss')\n",
    "plt.xlabel('epoch')\n",
    "plt.legend(['train','test'], loc = 'upper left')\n",
    "plt.show()\n",
    "\n",
    "loss, accuracy = model.evaluate(X_train_pad, y_train, verbose=False)\n",
    "print(\"Training Accuracy: {:.4f}\".format(accuracy))\n",
    "loss, accuracy = model.evaluate(X_test_pad, y_test, verbose=False)\n",
    "print(\"Testing Accuracy:  {:.4f}\".format(accuracy))"
   ]
  },
  {
   "cell_type": "markdown",
   "metadata": {},
   "source": [
    "# Conclusion\n",
    "On constate donc que ce modèle n'a pas de bon résultat. Il surajute beaucoup trop. Cette solution est donc à abandonner. Pour plus de détail merci de consulter le rapport."
   ]
  },
  {
   "cell_type": "code",
   "execution_count": null,
   "metadata": {},
   "outputs": [],
   "source": []
  }
 ],
 "metadata": {
  "kernelspec": {
   "display_name": "Python 3",
   "language": "python",
   "name": "python3"
  },
  "language_info": {
   "codemirror_mode": {
    "name": "ipython",
    "version": 3
   },
   "file_extension": ".py",
   "mimetype": "text/x-python",
   "name": "python",
   "nbconvert_exporter": "python",
   "pygments_lexer": "ipython3",
   "version": "3.7.4"
  }
 },
 "nbformat": 4,
 "nbformat_minor": 2
}
