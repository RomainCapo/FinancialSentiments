{
 "cells": [
  {
   "cell_type": "code",
   "execution_count": 7,
   "metadata": {},
   "outputs": [],
   "source": [
    "%matplotlib inline\n",
    "from matplotlib import pyplot as plt\n",
    "\n",
    "import pandas as pd\n",
    "import numpy as np\n",
    "\n",
    "from sklearn.model_selection import train_test_split\n",
    "from sklearn import metrics\n",
    "from sklearn.pipeline import Pipeline\n",
    "from sklearn.feature_extraction.text import CountVectorizer, TfidfVectorizer, TfidfTransformer\n",
    "from sklearn.base import BaseEstimator, TransformerMixin\n",
    "from sklearn.model_selection import GridSearchCV, RandomizedSearchCV\n",
    "from sklearn.svm import SVC\n",
    "from sklearn.naive_bayes import MultinomialNB\n",
    "from sklearn.tree import DecisionTreeClassifier\n",
    "from sklearn.linear_model import LogisticRegression\n",
    "\n",
    "import string\n",
    "from spacy.lang.en.stop_words import STOP_WORDS\n",
    "from spacy.lang.en import English\n",
    "import en_core_web_sm\n",
    "import spacy\n",
    "import pickle\n",
    "from gensim.sklearn_api import D2VTransformer\n",
    "from joblib import dump, load\n",
    "import re\n",
    "import sys\n",
    "\n",
    "# to make this notebook's output stable across runs\n",
    "np.random.seed(42)"
   ]
  },
  {
   "cell_type": "code",
   "execution_count": 2,
   "metadata": {},
   "outputs": [],
   "source": [
    "dataset = pd.read_csv('dataset/tweets_dataset/financial_tweets.csv', encoding='utf8')"
   ]
  },
  {
   "cell_type": "code",
   "execution_count": 3,
   "metadata": {},
   "outputs": [
    {
     "data": {
      "text/html": [
       "<div>\n",
       "<style scoped>\n",
       "    .dataframe tbody tr th:only-of-type {\n",
       "        vertical-align: middle;\n",
       "    }\n",
       "\n",
       "    .dataframe tbody tr th {\n",
       "        vertical-align: top;\n",
       "    }\n",
       "\n",
       "    .dataframe thead th {\n",
       "        text-align: right;\n",
       "    }\n",
       "</style>\n",
       "<table border=\"1\" class=\"dataframe\">\n",
       "  <thead>\n",
       "    <tr style=\"text-align: right;\">\n",
       "      <th></th>\n",
       "      <th>sentiment</th>\n",
       "      <th>title</th>\n",
       "    </tr>\n",
       "  </thead>\n",
       "  <tbody>\n",
       "    <tr>\n",
       "      <th>0</th>\n",
       "      <td>0</td>\n",
       "      <td>Are YOU burning more cash $$$ than Chrysler an...</td>\n",
       "    </tr>\n",
       "    <tr>\n",
       "      <th>1</th>\n",
       "      <td>0</td>\n",
       "      <td>Tell me again why we are giving more $$ to GM?...</td>\n",
       "    </tr>\n",
       "    <tr>\n",
       "      <th>2</th>\n",
       "      <td>0</td>\n",
       "      <td>F*ck Time Warner Cable!!! You f*cking suck bal...</td>\n",
       "    </tr>\n",
       "    <tr>\n",
       "      <th>3</th>\n",
       "      <td>0</td>\n",
       "      <td>OMG - time warner f'ed up my internet install ...</td>\n",
       "    </tr>\n",
       "    <tr>\n",
       "      <th>4</th>\n",
       "      <td>0</td>\n",
       "      <td>pissed about at&amp;amp;t's mid-contract upgrade p...</td>\n",
       "    </tr>\n",
       "  </tbody>\n",
       "</table>\n",
       "</div>"
      ],
      "text/plain": [
       "   sentiment                                              title\n",
       "0          0  Are YOU burning more cash $$$ than Chrysler an...\n",
       "1          0  Tell me again why we are giving more $$ to GM?...\n",
       "2          0  F*ck Time Warner Cable!!! You f*cking suck bal...\n",
       "3          0  OMG - time warner f'ed up my internet install ...\n",
       "4          0  pissed about at&amp;t's mid-contract upgrade p..."
      ]
     },
     "execution_count": 3,
     "metadata": {},
     "output_type": "execute_result"
    }
   ],
   "source": [
    "dataset.head()"
   ]
  },
  {
   "cell_type": "code",
   "execution_count": 4,
   "metadata": {},
   "outputs": [
    {
     "name": "stdout",
     "output_type": "stream",
     "text": [
      "<class 'pandas.core.frame.DataFrame'>\n",
      "RangeIndex: 9144 entries, 0 to 9143\n",
      "Data columns (total 2 columns):\n",
      "sentiment    9144 non-null int64\n",
      "title        9144 non-null object\n",
      "dtypes: int64(1), object(1)\n",
      "memory usage: 143.0+ KB\n"
     ]
    }
   ],
   "source": [
    "dataset.info()"
   ]
  },
  {
   "cell_type": "code",
   "execution_count": 5,
   "metadata": {},
   "outputs": [
    {
     "data": {
      "text/html": [
       "<div>\n",
       "<style scoped>\n",
       "    .dataframe tbody tr th:only-of-type {\n",
       "        vertical-align: middle;\n",
       "    }\n",
       "\n",
       "    .dataframe tbody tr th {\n",
       "        vertical-align: top;\n",
       "    }\n",
       "\n",
       "    .dataframe thead th {\n",
       "        text-align: right;\n",
       "    }\n",
       "</style>\n",
       "<table border=\"1\" class=\"dataframe\">\n",
       "  <thead>\n",
       "    <tr style=\"text-align: right;\">\n",
       "      <th></th>\n",
       "      <th>sentiment</th>\n",
       "    </tr>\n",
       "  </thead>\n",
       "  <tbody>\n",
       "    <tr>\n",
       "      <th>count</th>\n",
       "      <td>9144.000000</td>\n",
       "    </tr>\n",
       "    <tr>\n",
       "      <th>mean</th>\n",
       "      <td>0.421916</td>\n",
       "    </tr>\n",
       "    <tr>\n",
       "      <th>std</th>\n",
       "      <td>0.493892</td>\n",
       "    </tr>\n",
       "    <tr>\n",
       "      <th>min</th>\n",
       "      <td>0.000000</td>\n",
       "    </tr>\n",
       "    <tr>\n",
       "      <th>25%</th>\n",
       "      <td>0.000000</td>\n",
       "    </tr>\n",
       "    <tr>\n",
       "      <th>50%</th>\n",
       "      <td>0.000000</td>\n",
       "    </tr>\n",
       "    <tr>\n",
       "      <th>75%</th>\n",
       "      <td>1.000000</td>\n",
       "    </tr>\n",
       "    <tr>\n",
       "      <th>max</th>\n",
       "      <td>1.000000</td>\n",
       "    </tr>\n",
       "  </tbody>\n",
       "</table>\n",
       "</div>"
      ],
      "text/plain": [
       "         sentiment\n",
       "count  9144.000000\n",
       "mean      0.421916\n",
       "std       0.493892\n",
       "min       0.000000\n",
       "25%       0.000000\n",
       "50%       0.000000\n",
       "75%       1.000000\n",
       "max       1.000000"
      ]
     },
     "execution_count": 5,
     "metadata": {},
     "output_type": "execute_result"
    }
   ],
   "source": [
    "dataset.describe()"
   ]
  },
  {
   "cell_type": "code",
   "execution_count": 6,
   "metadata": {},
   "outputs": [
    {
     "name": "stdout",
     "output_type": "stream",
     "text": [
      "Number of data : 9144\n",
      "Number of positive data : 3858 (42.192%)\n",
      "Number of negative data : 5286 (57.808%)\n",
      "Ratio positive/negative : 0.73\n"
     ]
    }
   ],
   "source": [
    "nb_pos, nb_neg = len([sent for sent in dataset.sentiment if sent == 1]), len([sent for sent in dataset.sentiment if sent == 0])\n",
    "tot = len(dataset)\n",
    "print(\"Number of data : {}\".format(tot))\n",
    "print(\"Number of positive data : {} ({}%)\".format(nb_pos, round( nb_pos/tot*100, 3)))\n",
    "print(\"Number of negative data : {} ({}%)\".format(nb_neg, round( nb_neg/tot*100, 3)))\n",
    "print(\"Ratio positive/negative : {}\".format(round(nb_pos/nb_neg, 3)))"
   ]
  },
  {
   "cell_type": "code",
   "execution_count": 7,
   "metadata": {},
   "outputs": [],
   "source": [
    "def average_word_by_sentence(sentences):\n",
    "    nb_total_word = 0\n",
    "    for row in sentences:\n",
    "        nb_total_word += len(row.split())\n",
    "    return round(nb_total_word / len(sentences), 3)"
   ]
  },
  {
   "cell_type": "code",
   "execution_count": 8,
   "metadata": {},
   "outputs": [
    {
     "name": "stdout",
     "output_type": "stream",
     "text": [
      "Average of word by sentence : 17.975\n"
     ]
    }
   ],
   "source": [
    "print(\"Average of word by sentence : {}\".format(average_word_by_sentence(dataset['title'])) )"
   ]
  },
  {
   "cell_type": "code",
   "execution_count": 9,
   "metadata": {},
   "outputs": [
    {
     "data": {
      "text/plain": [
       "Text(0, 0.5, 'Number of sentence')"
      ]
     },
     "execution_count": 9,
     "metadata": {},
     "output_type": "execute_result"
    },
    {
     "data": {
      "image/png": "[encoded data removed]",
      "text/plain": [
       "<Figure size 432x288 with 1 Axes>"
      ]
     },
     "metadata": {
      "needs_background": "light"
     },
     "output_type": "display_data"
    }
   ],
   "source": [
    "num_word_by_sentence = [len(x.split()) for x in dataset['title']]#count the number of word for each sentences\n",
    "\n",
    "plt.hist(num_word_by_sentence, bins=25)\n",
    "plt.title('Number of word by sentence', fontsize=20)\n",
    "plt.xlabel('Number of word', fontsize=14)\n",
    "plt.ylabel('Number of sentence', fontsize=14)"
   ]
  },
  {
   "cell_type": "code",
   "execution_count": 3,
   "metadata": {},
   "outputs": [],
   "source": [
    "X = dataset['title']\n",
    "y = dataset['sentiment']\n",
    "X_train, X_test, y_train, y_test = train_test_split(X, y, test_size=0.20, random_state=42)"
   ]
  },
  {
   "cell_type": "code",
   "execution_count": 4,
   "metadata": {},
   "outputs": [],
   "source": [
    "nlp = spacy.load('en')\n",
    "class TextProcessor(BaseEstimator, TransformerMixin):\n",
    "    '''Class use in pipeline to processing the text'''\n",
    "    def __init__(self, remove_stop_word=False, keep_only_good_word=True, min_word_size=2, is_word_joined=True):\n",
    "        '''Constructor of TextProcessor\n",
    "        \n",
    "        remove_stop_word=False -- remove stop word in the sentence\n",
    "        keep_only_good_word=True -- keep only the verb, adverb, noun and adjectiv otherwise keep all the word type\n",
    "        min_word_size=2 -- remove all the word smaller that min_word_size, -1 to ignore this param\n",
    "        '''\n",
    "        self.remove_stop_word = remove_stop_word\n",
    "        self.keep_only_good_word = keep_only_good_word\n",
    "        self.min_word_size = min_word_size\n",
    "        self.good_words = ['VERB', 'ADV', 'NOUN', 'ADJ', 'NUM']\n",
    "        self.is_word_joined = is_word_joined\n",
    "        \n",
    "        self.punctuations = string.punctuation\n",
    "        \n",
    "    def spacy_text_processing(self, sentence):\n",
    "        '''Process the sentence, Cut the sentence in word, according to the parameters : deletes the stop word, \n",
    "        keeps only or not the verbs, adjectives, noun and adverb, deletes the words below a certain size, \n",
    "        removes the punctuation, and keeps only the roots of the word.\n",
    "        \n",
    "        sentence -- sentence to transform\n",
    "        '''\n",
    "        final_sentence = []\n",
    "        for word in nlp(sentence):\n",
    "            if self.remove_stop_word:\n",
    "                if word.is_stop:\n",
    "                    continue\n",
    "                    \n",
    "            if self.keep_only_good_word:\n",
    "                if word.pos_ not in self.good_words:\n",
    "                    continue\n",
    "                    \n",
    "            if self.min_word_size!=-1:\n",
    "                if len(word.text) < self.min_word_size:\n",
    "                    continue\n",
    "                    \n",
    "            if word.text not in self.punctuations:\n",
    "                final_sentence.append(word.lemma_)\n",
    "        final_sentence = ' '.join(final_sentence)\n",
    "        final_sentence = re.sub(r'@\\S*', 'TWITTER_USER', final_sentence)\n",
    "        final_sentence = re.sub(r'\\d+(?:\\.\\d*(?:[eE]\\d+))?', 'NUMBER', final_sentence)\n",
    "        return final_sentence\n",
    "        \n",
    "    def transform(self, X, y=None):\n",
    "        '''Transform the text, call by the pipeline\n",
    "        \n",
    "        X -- data\n",
    "        y=None -- labels of the data\n",
    "        '''\n",
    "        X_transformed = []\n",
    "        for sentence in X:\n",
    "            if self.is_word_joined:\n",
    "                X_transformed.append(self.spacy_text_processing(sentence))\n",
    "            else : \n",
    "                X_transformed.append(self.spacy_text_processing(sentence).split(' '))\n",
    "        return X_transformed\n",
    "    \n",
    "    def fit(self, X, y=None):\n",
    "        '''Use for estimation\n",
    "        \n",
    "        X -- data\n",
    "        y=None -- labels of the data\n",
    "        '''\n",
    "        return self"
   ]
  },
  {
   "cell_type": "code",
   "execution_count": 5,
   "metadata": {},
   "outputs": [],
   "source": [
    "tp = TextProcessor(min_word_size=-1, remove_stop_word=True)\n",
    "X_train_pre = tp.transform(X_train)\n",
    "X_test_pre = tp.transform(X_test)"
   ]
  },
  {
   "cell_type": "code",
   "execution_count": 7,
   "metadata": {},
   "outputs": [
    {
     "name": "stderr",
     "output_type": "stream",
     "text": [
      "C:\\ProgramData\\Anaconda3\\lib\\site-packages\\sklearn\\svm\\base.py:193: FutureWarning: The default value of gamma will change from 'auto' to 'scale' in version 0.22 to account better for unscaled features. Set gamma explicitly to 'auto' or 'scale' to avoid this warning.\n",
      "  \"avoid this warning.\", FutureWarning)\n",
      "C:\\ProgramData\\Anaconda3\\lib\\site-packages\\sklearn\\linear_model\\logistic.py:432: FutureWarning: Default solver will be changed to 'lbfgs' in 0.22. Specify a solver to silence this warning.\n",
      "  FutureWarning)\n"
     ]
    },
    {
     "data": {
      "text/plain": [
       "Pipeline(memory=None,\n",
       "         steps=[('tfidf',\n",
       "                 TfidfVectorizer(analyzer='word', binary=False,\n",
       "                                 decode_error='strict',\n",
       "                                 dtype=<class 'numpy.float64'>,\n",
       "                                 encoding='utf-8', input='content',\n",
       "                                 lowercase=True, max_df=1.0, max_features=None,\n",
       "                                 min_df=1, ngram_range=(1, 1), norm='l2',\n",
       "                                 preprocessor=None, smooth_idf=True,\n",
       "                                 stop_words=None, strip_accents=None,\n",
       "                                 sublinear_tf=False,\n",
       "                                 token_pattern='(?u)\\\\b\\\\w\\\\w+\\\\b',\n",
       "                                 tokenizer=None, use_idf=True,\n",
       "                                 vocabulary=None)),\n",
       "                ('lr',\n",
       "                 LogisticRegression(C=1.0, class_weight=None, dual=False,\n",
       "                                    fit_intercept=True, intercept_scaling=1,\n",
       "                                    l1_ratio=None, max_iter=100,\n",
       "                                    multi_class='warn', n_jobs=None,\n",
       "                                    penalty='l2', random_state=None,\n",
       "                                    solver='warn', tol=0.0001, verbose=0,\n",
       "                                    warm_start=False))],\n",
       "         verbose=False)"
      ]
     },
     "execution_count": 7,
     "metadata": {},
     "output_type": "execute_result"
    }
   ],
   "source": [
    "nb_model = Pipeline([('tfidf', TfidfVectorizer()),\n",
    "                    ('nb', MultinomialNB())])\n",
    "\n",
    "svc_model = Pipeline([('tfidf', TfidfVectorizer()),\n",
    "                     ('svc', SVC())])\n",
    "\n",
    "dtc_model = Pipeline([('tfidf', TfidfVectorizer()),\n",
    "                     ('dtc', DecisionTreeClassifier())])\n",
    "\n",
    "lr_model = Pipeline([('tfidf', TfidfVectorizer()),\n",
    "                    ('lr', LogisticRegression())])\n",
    "\n",
    "nb_model.fit(X_train_pre, y_train)\n",
    "svc_model.fit(X_train_pre, y_train)\n",
    "dtc_model.fit(X_train_pre, y_train)\n",
    "lr_model.fit(X_train_pre, y_train)"
   ]
  },
  {
   "cell_type": "code",
   "execution_count": 8,
   "metadata": {},
   "outputs": [
    {
     "name": "stdout",
     "output_type": "stream",
     "text": [
      "Accuracy for Naive Bayes : 0.6544559868780755\n",
      "Accuracy for SVC : 0.5833788955713505\n",
      "Accuracy for Decision Tree Classifier : 0.6096227446692182\n",
      "Accuracy for Logistic Regression : 0.6686714051394205\n"
     ]
    }
   ],
   "source": [
    "y_pred_nb = nb_model.predict(X_test_pre)\n",
    "print(\"Accuracy for Naive Bayes : {}\".format(metrics.accuracy_score(y_test, y_pred_nb)))\n",
    "y_pred_svc = svc_model.predict(X_test_pre)\n",
    "print(\"Accuracy for SVC : {}\".format(metrics.accuracy_score(y_test, y_pred_svc)))\n",
    "y_pred_dtc = dtc_model.predict(X_test_pre)\n",
    "print(\"Accuracy for Decision Tree Classifier : {}\".format(metrics.accuracy_score(y_test, y_pred_dtc)))\n",
    "y_pred_lr = lr_model.predict(X_test_pre)\n",
    "print(\"Accuracy for Logistic Regression : {}\".format(metrics.accuracy_score(y_test, y_pred_lr)))"
   ]
  },
  {
   "cell_type": "markdown",
   "metadata": {},
   "source": [
    "# Sauvegarde du modèle"
   ]
  },
  {
   "cell_type": "code",
   "execution_count": 9,
   "metadata": {},
   "outputs": [
    {
     "data": {
      "text/plain": [
       "['saved_model/tweets_dataset_tfid.joblib']"
      ]
     },
     "execution_count": 9,
     "metadata": {},
     "output_type": "execute_result"
    }
   ],
   "source": [
    "dump(lr_model, 'saved_model/tweets_dataset_tfid.joblib')"
   ]
  },
  {
   "cell_type": "markdown",
   "metadata": {},
   "source": [
    "# Word2vec"
   ]
  },
  {
   "cell_type": "code",
   "execution_count": 10,
   "metadata": {},
   "outputs": [],
   "source": [
    "tp_d2v = TextProcessor(is_word_joined=False)\n",
    "X_train_pre_list = tp_d2v.transform(X_train)\n",
    "X_test_pre_list = tp_d2v.transform(X_test)"
   ]
  },
  {
   "cell_type": "code",
   "execution_count": 12,
   "metadata": {},
   "outputs": [
    {
     "data": {
      "text/plain": [
       "D2VTransformer(alpha=0.025, batch_words=10000, cbow_mean=1, comment=None,\n",
       "               dbow_words=0, dm=1, dm_concat=0, dm_mean=None, dm_tag_count=1,\n",
       "               docvecs=None, docvecs_mapfile=None,\n",
       "               hashfxn=<built-in function hash>, hs=0, iter=5,\n",
       "               max_vocab_size=None, min_alpha=0.0001, min_count=5, negative=5,\n",
       "               sample=0.001, seed=1, size=100, sorted_vocab=1, trim_rule=None,\n",
       "               window=5, workers=3)"
      ]
     },
     "execution_count": 12,
     "metadata": {},
     "output_type": "execute_result"
    }
   ],
   "source": [
    "doc2Vec_model =  D2VTransformer()\n",
    "doc2Vec_model.fit(X_train_pre_list)"
   ]
  },
  {
   "cell_type": "code",
   "execution_count": 13,
   "metadata": {},
   "outputs": [
    {
     "name": "stderr",
     "output_type": "stream",
     "text": [
      "C:\\ProgramData\\Anaconda3\\lib\\site-packages\\sklearn\\svm\\base.py:193: FutureWarning: The default value of gamma will change from 'auto' to 'scale' in version 0.22 to account better for unscaled features. Set gamma explicitly to 'auto' or 'scale' to avoid this warning.\n",
      "  \"avoid this warning.\", FutureWarning)\n",
      "C:\\ProgramData\\Anaconda3\\lib\\site-packages\\sklearn\\linear_model\\logistic.py:432: FutureWarning: Default solver will be changed to 'lbfgs' in 0.22. Specify a solver to silence this warning.\n",
      "  FutureWarning)\n"
     ]
    },
    {
     "data": {
      "text/plain": [
       "Pipeline(memory=None,\n",
       "         steps=[('d2v',\n",
       "                 D2VTransformer(alpha=0.025, batch_words=10000, cbow_mean=1,\n",
       "                                comment=None, dbow_words=0, dm=1, dm_concat=0,\n",
       "                                dm_mean=None, dm_tag_count=1, docvecs=None,\n",
       "                                docvecs_mapfile=None,\n",
       "                                hashfxn=<built-in function hash>, hs=0, iter=5,\n",
       "                                max_vocab_size=None, min_alpha=0.0001,\n",
       "                                min_count=5, negative=5, sample=0.001, seed=1,\n",
       "                                size=100, sorted_vocab=1, trim_rule=None,\n",
       "                                window=5, workers=3)),\n",
       "                ('lr',\n",
       "                 LogisticRegression(C=1.0, class_weight=None, dual=False,\n",
       "                                    fit_intercept=True, intercept_scaling=1,\n",
       "                                    l1_ratio=None, max_iter=100,\n",
       "                                    multi_class='warn', n_jobs=None,\n",
       "                                    penalty='l2', random_state=None,\n",
       "                                    solver='warn', tol=0.0001, verbose=0,\n",
       "                                    warm_start=False))],\n",
       "         verbose=False)"
      ]
     },
     "execution_count": 13,
     "metadata": {},
     "output_type": "execute_result"
    }
   ],
   "source": [
    "svc_model_d2v = Pipeline([('d2v', doc2Vec_model),\n",
    "                     ('svc', SVC())])\n",
    "\n",
    "dtc_model_d2v = Pipeline([('d2v', doc2Vec_model),\n",
    "                     ('dtc', DecisionTreeClassifier())])\n",
    "\n",
    "lr_model_d2v = Pipeline([('d2v', doc2Vec_model),\n",
    "                    ('lr', LogisticRegression())])\n",
    "\n",
    "svc_model_d2v.fit(X_train_pre_list, y_train)\n",
    "dtc_model_d2v.fit(X_train_pre_list, y_train)\n",
    "lr_model_d2v.fit(X_train_pre_list, y_train)"
   ]
  },
  {
   "cell_type": "code",
   "execution_count": 14,
   "metadata": {},
   "outputs": [
    {
     "name": "stdout",
     "output_type": "stream",
     "text": [
      "Accuracy for SVC : 0.5833788955713505\n",
      "Accuracy for Decision Tree Classifier : 0.4931656642974303\n",
      "Accuracy for Logistic Regression : 0.5833788955713505\n"
     ]
    }
   ],
   "source": [
    "y_pred_svc_d2v = svc_model_d2v.predict(X_test_pre_list)\n",
    "print(\"Accuracy for SVC : {}\".format(metrics.accuracy_score(y_test, y_pred_svc_d2v)))\n",
    "y_pred_dtc_d2v = dtc_model_d2v.predict(X_test_pre_list)\n",
    "print(\"Accuracy for Decision Tree Classifier : {}\".format(metrics.accuracy_score(y_test, y_pred_dtc_d2v)))\n",
    "y_pred_lr_d2v = lr_model_d2v.predict(X_test_pre_list)\n",
    "print(\"Accuracy for Logistic Regression : {}\".format(metrics.accuracy_score(y_test, y_pred_lr_d2v)))"
   ]
  },
  {
   "cell_type": "markdown",
   "metadata": {},
   "source": [
    "# Sauvegarde du modèle"
   ]
  },
  {
   "cell_type": "code",
   "execution_count": 15,
   "metadata": {},
   "outputs": [
    {
     "data": {
      "text/plain": [
       "['saved_model/tweets_dataset_w2v.joblib']"
      ]
     },
     "execution_count": 15,
     "metadata": {},
     "output_type": "execute_result"
    }
   ],
   "source": [
    "dump(lr_model_d2v, 'saved_model/tweets_dataset_w2v.joblib')"
   ]
  },
  {
   "cell_type": "code",
   "execution_count": 8,
   "metadata": {},
   "outputs": [
    {
     "name": "stderr",
     "output_type": "stream",
     "text": [
      "[nltk_data] Downloading package stopwords to\n",
      "[nltk_data]     C:\\Users\\romain.capocasa\\AppData\\Roaming\\nltk_data...\n",
      "[nltk_data]   Package stopwords is already up-to-date!\n"
     ]
    }
   ],
   "source": [
    "sys.path.insert(0, 'Word2Vec/src')\n",
    "from financial_corpus import FinancialCorpus\n",
    "from financial_w2vec import FinancialWord2Vec\n",
    "\n",
    "financial_w2vec = pickle.load(open('C:/Users/romain.capocasa/financialsentiments/Word2Vec/data/models_pickle/FinancialWord2Vec.pkl','rb'))\n",
    "w2vec_model = financial_w2vec.model\n",
    "financial_corpus = financial_w2vec.financial_corpus\n",
    "\n",
    "bigram_mod = financial_corpus.bigram_mod\n",
    "trigram_mod = financial_corpus.bigram_mod"
   ]
  },
  {
   "cell_type": "code",
   "execution_count": 9,
   "metadata": {},
   "outputs": [
    {
     "name": "stdout",
     "output_type": "stream",
     "text": [
      "The maximum word in a sentence is : 36\n"
     ]
    }
   ],
   "source": [
    "max_sentence_length = 0\n",
    "for sentence in dataset[\"title\"]:\n",
    "    sentence_length = len(sentence.split())\n",
    "    if sentence_length > max_sentence_length:\n",
    "        max_sentence_length = sentence_length\n",
    "print(\"The maximum word in a sentence is : {}\".format(max_sentence_length))"
   ]
  },
  {
   "cell_type": "code",
   "execution_count": 10,
   "metadata": {},
   "outputs": [],
   "source": [
    "def sentences_to_w2v(sentences):\n",
    "    sentences_w2v = []\n",
    "    for sentence in sentences:      \n",
    "        vectors = np.zeros(100)\n",
    "        \n",
    "        for word in sentence.split():\n",
    "            if word in w2vec_model.wv.vocab: \n",
    "                doc = trigram_mod[bigram_mod[[word]]]\n",
    "                vectors = np.add(vectors, w2vec_model.wv[doc][0])\n",
    "        sentences_w2v.append(vectors)\n",
    "    return np.asarray(sentences_w2v)"
   ]
  },
  {
   "cell_type": "code",
   "execution_count": 11,
   "metadata": {},
   "outputs": [],
   "source": [
    "X_train_pre_w2v = sentences_to_w2v(X_train_pre)\n",
    "X_test_pre_w2v = sentences_to_w2v(X_test_pre)"
   ]
  },
  {
   "cell_type": "code",
   "execution_count": 13,
   "metadata": {},
   "outputs": [
    {
     "name": "stderr",
     "output_type": "stream",
     "text": [
      "C:\\ProgramData\\Anaconda3\\lib\\site-packages\\sklearn\\svm\\base.py:193: FutureWarning: The default value of gamma will change from 'auto' to 'scale' in version 0.22 to account better for unscaled features. Set gamma explicitly to 'auto' or 'scale' to avoid this warning.\n",
      "  \"avoid this warning.\", FutureWarning)\n",
      "C:\\ProgramData\\Anaconda3\\lib\\site-packages\\sklearn\\linear_model\\logistic.py:432: FutureWarning: Default solver will be changed to 'lbfgs' in 0.22. Specify a solver to silence this warning.\n",
      "  FutureWarning)\n"
     ]
    },
    {
     "data": {
      "text/plain": [
       "LogisticRegression(C=1.0, class_weight=None, dual=False, fit_intercept=True,\n",
       "                   intercept_scaling=1, l1_ratio=None, max_iter=100,\n",
       "                   multi_class='warn', n_jobs=None, penalty='l2',\n",
       "                   random_state=None, solver='warn', tol=0.0001, verbose=0,\n",
       "                   warm_start=False)"
      ]
     },
     "execution_count": 13,
     "metadata": {},
     "output_type": "execute_result"
    }
   ],
   "source": [
    "svc_model_w2v = SVC()\n",
    "svc_model_w2v.fit(X_train_pre_w2v, y_train)\n",
    "\n",
    "dtc_model_w2v = DecisionTreeClassifier()\n",
    "dtc_model_w2v.fit(X_train_pre_w2v, y_train)\n",
    "\n",
    "lr_model_w2v = LogisticRegression()\n",
    "lr_model_w2v.fit(X_train_pre_w2v, y_train)"
   ]
  },
  {
   "cell_type": "code",
   "execution_count": 14,
   "metadata": {},
   "outputs": [
    {
     "name": "stdout",
     "output_type": "stream",
     "text": [
      "Accuracy for SVC : 0.5975943138326955\n",
      "Accuracy for Decision Tree Classifier : 0.5522143247676325\n",
      "Accuracy for Logistic Regression : 0.6260251503553854\n"
     ]
    }
   ],
   "source": [
    "y_pred_svc_w2v = svc_model_w2v.predict(X_test_pre_w2v)\n",
    "print(\"Accuracy for SVC : {}\".format(metrics.accuracy_score(y_test, y_pred_svc_w2v)))\n",
    "y_pred_dtc_w2v = dtc_model_w2v.predict(X_test_pre_w2v)\n",
    "print(\"Accuracy for Decision Tree Classifier : {}\".format(metrics.accuracy_score(y_test, y_pred_dtc_w2v)))\n",
    "y_pred_lr_w2v = lr_model_w2v.predict(X_test_pre_w2v)\n",
    "print(\"Accuracy for Logistic Regression : {}\".format(metrics.accuracy_score(y_test, y_pred_lr_w2v)))"
   ]
  },
  {
   "cell_type": "code",
   "execution_count": null,
   "metadata": {},
   "outputs": [],
   "source": []
  }
 ],
 "metadata": {
  "kernelspec": {
   "display_name": "Python 3",
   "language": "python",
   "name": "python3"
  },
  "language_info": {
   "codemirror_mode": {
    "name": "ipython",
    "version": 3
   },
   "file_extension": ".py",
   "mimetype": "text/x-python",
   "name": "python",
   "nbconvert_exporter": "python",
   "pygments_lexer": "ipython3",
   "version": "3.7.4"
  }
 },
 "nbformat": 4,
 "nbformat_minor": 2
}
