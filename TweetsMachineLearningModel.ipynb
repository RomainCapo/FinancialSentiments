{
 "cells": [
  {
   "cell_type": "code",
   "execution_count": 3,
   "metadata": {},
   "outputs": [],
   "source": [
    "import pandas as pd\n",
    "import numpy as np\n",
    "import re"
   ]
  },
  {
   "cell_type": "code",
   "execution_count": 4,
   "metadata": {},
   "outputs": [],
   "source": [
    "dataset = pd.read_csv('dataset/tweets_dataset/tweets.csv', encoding = 'ISO-8859-1')"
   ]
  },
  {
   "cell_type": "code",
   "execution_count": 5,
   "metadata": {},
   "outputs": [
    {
     "data": {
      "text/plain": [
       "1600498"
      ]
     },
     "execution_count": 5,
     "metadata": {},
     "output_type": "execute_result"
    }
   ],
   "source": [
    "len(dataset)"
   ]
  },
  {
   "cell_type": "code",
   "execution_count": 6,
   "metadata": {},
   "outputs": [],
   "source": [
    "dataset = dataset.drop(columns=['tweet_id', 'date', 'query', 'user'], axis=1)"
   ]
  },
  {
   "cell_type": "code",
   "execution_count": 47,
   "metadata": {},
   "outputs": [
    {
     "name": "stdout",
     "output_type": "stream",
     "text": [
      "\\beur\\b|\\beuro\\b|\\bzar\\b|\\brand\\b|\\bjpy\\b|\\byen\\b|\\bcnh\\b|\\byuan\\b|\\brenminbi\\b|\\brub\\b|\\bruble\\b|\\busd\\b|\\bdollar\\b|\\bnzd\\b|\\baud\\b|\\bchf\\b|\\bfranc\\b|\\bgbp\\b|\\bpound\\b|\\bsterling\\b|\\bgrowth\\b|\\bfiscal\\b|\\bpolicy\\b|\\bmonetary\\b|\\bpopulism\\b|\\btrade\\b|\\bbrexit\\b|\\brisk-off\\b|\\brisk off\\b|\\binflation\\b|\\btrump\\b|\\bdonald\\b|\\bfinance\\b|\\bforex\\b|€|\\$|nz\\$|a\\$|au\\$|\\£\n"
     ]
    }
   ],
   "source": [
    "topics = ['eur', 'euro',\n",
    "          'zar', 'rand', \n",
    "          'jpy', 'yen',\n",
    "          'cnh', 'yuan', 'renminbi',\n",
    "          'rub', 'ruble',\n",
    "          'usd', 'dollar',\n",
    "          'nzd',\n",
    "          'aud',\n",
    "          'chf', 'franc',\n",
    "          'gbp', 'pound', 'sterling',\n",
    "          'growth',\n",
    "          'fiscal', 'policy', 'monetary',\n",
    "          'populism',\n",
    "          'trade',\n",
    "          'brexit',\n",
    "          'risk-off', 'risk off',\n",
    "          'inflation',\n",
    "          'trump', 'donald',\n",
    "          'finance', 'forex']\n",
    "topics_currency_symbol = ['€', '\\$', 'nz\\$', 'a\\$', 'au\\$', '\\£']\n",
    "\n",
    "string_regex = \"\"\n",
    "\n",
    "for topic in topics:\n",
    "    string_regex+='\\\\b'+topic+'\\\\b|'\n",
    "\n",
    "for topic_symb in topics_currency_symbol:\n",
    "    string_regex+=topic_symb+'|'\n",
    "string_regex = string_regex[:-1]\n",
    "print(string_regex)"
   ]
  },
  {
   "cell_type": "code",
   "execution_count": 43,
   "metadata": {},
   "outputs": [
    {
     "data": {
      "text/plain": [
       "9146"
      ]
     },
     "execution_count": 43,
     "metadata": {},
     "output_type": "execute_result"
    }
   ],
   "source": [
    "regex = re.compile(string_regex)\n",
    "financial_tweets = []\n",
    "for tweet in dataset.text:\n",
    "    if regex.findall(tweet.lower()):\n",
    "        \n",
    "        financial_tweets.append(tweet)\n",
    "len(financial_tweets)        "
   ]
  },
  {
   "cell_type": "code",
   "execution_count": 49,
   "metadata": {},
   "outputs": [
    {
     "data": {
      "text/plain": [
       "['$MS choppy waters so jumped ship - way too soon ',\n",
       " 'Making Fettucini Alfredo for hot lunch.  Only have 5 orders.    Oh well, made $15 bucks for the library.',\n",
       " \"I've spent $500 this week.  Admittedly that's 4 pairs of pants, 2 tops, the dentist and a pair of shoes, but it's still too much \",\n",
       " \"2am... still working.    at this rate i'll never get rid of my insomnia!  still pissed i gotta pay $60 cuz my car tag was not bolted on!!\",\n",
       " \"@sarking  don't rub it in!  \",\n",
       " \"Feeling like s*#$ can't sleep cause my head and body hurt sooo bad!!!! This stinks \",\n",
       " '@MarcelKr Und beim Office hatte ich was von CHF gelesen ',\n",
       " 'I want a subscription to New Scientist magazine. Too bad it costs $72 a year. ',\n",
       " 'Sigh morning all. Another day another dollar as the phrase goes. Feeling decidedly polar today ',\n",
       " 'I have headache =$ I still have to go to school tough ',\n",
       " \"Another day another dollar...  i don't want to work.\",\n",
       " 'finance is tricky as. ',\n",
       " \"I want Bella &amp; Edward, but they're $125.99 each. \",\n",
       " \"Went to the eye dr and I didn't get worse in 2 yrs!  Amazing!  Have insurance and I still had to pay $200 for new no designer glasses. \",\n",
       " \"Just had to steal a pound from her jar for bus fare (BAD BAD BAD)!  Hope that doesn't bring me bad luck \",\n",
       " \"Goin back home tomorrow  i love it away from home..just to get mom's company...ima b back manana. good nite my TWEEThead$\",\n",
       " '@Raaaawwwwrrrr  Shudduppp I know I lose I always lose way to rub it in ',\n",
       " '&amp;%$%$% finished my Omaha H/L tournament as the bubble boy, so sad ',\n",
       " \"Love my new phone don't wanna have to trade back to my old one \",\n",
       " 'ahhhh shit just realized I forgot to move my car for street cleaning. Goodbye $40 ',\n",
       " 'Oracle buys Sun for $7.4 billion GTFO  oracle owning MySQL has ruined my day...',\n",
       " \"I paid $2 for a pair of plastic gloves! and she's not even gonna perm her hair \",\n",
       " '@houzhou  do these gossips include me?!? :$ ',\n",
       " 'Missed $ES_F short ',\n",
       " \"@kimmyg123 what a bitch!  i'm gonna buy a 2 disc edition too even though the single disc one is gonna be $23 at work\",\n",
       " '@amyprutch hmmm.. Cheese is good but it sucks that IGA here charge $20 a lb. for very ordinary English Cheshire. ',\n",
       " 'i wonder if i can get $99 before may 22nd. i wanna see lady gaga ',\n",
       " 'planning a $100 hamburger with the wife tomorrow. Love to take the kids, but not enough room in the plane. ',\n",
       " 'Ugggg wish i was on 6th street partying!! But no $ ',\n",
       " \"@arof24 From here to NYC and back for $240 is pretty expensive... It would've only cost me $50 to drive there and back with friends. \",\n",
       " \"Right now i feel like i'm being used for my $$ and since i'm broke its not looking good for our relationship \",\n",
       " 'i dont think im getting a barbell..... now i owe my friend 5$ ',\n",
       " '@smellbie 7 dollar bart tho  brainstorm some more',\n",
       " '@Jennybeeean aw man that sucks!  I did that book buyback thing too....my book that was originally $130, got $16 back. ',\n",
       " \"Oh, and I am in soooo fuckin much pain right now.  So much for $2000 surgeries that don't fix a damn thing.\",\n",
       " \"@lnorthrup Yeah. It's now another $2 every time I want some. \",\n",
       " 'waiting for that $75000 to land in my lap so that I dont have to graduate...ever. excited for summer but totally not ready to grow up ',\n",
       " 'is mad because my silver dollar city trip is cancelled because of the stupid RAIN !!!!    ',\n",
       " \"Out of cigarettes, I tried rolling some pubic hair in a 20 dollar bill but it just wasn't the same \",\n",
       " \"@djshogun Don't rub it in. \",\n",
       " 'At home bored @$&amp; hell! Somebody come play with me! ',\n",
       " 'I missed out on the $3 off Huggies coupons!  ',\n",
       " \"@mdan01 hahaha clown, i need to change my tyres soon. i'm using a $2 note to 'cover' up the inner side of it, as the top has a huge cut! \",\n",
       " 'I want that encyclopedia.  Bet you anything it costs +$50. ',\n",
       " \"I'm $100+ short on my rent that was due today and I just gave $5 to an old homeless man who tried to recruit me to be his girlfriend. \",\n",
       " 'Going to sleep! LOTS to do tomorrow. I have to wake up really early for the first shoot  $$',\n",
       " '@melissaanelli youre coming to california this weekend and didnt tell me? i coulda caught a 40 dollar flight to come see you read ',\n",
       " \"@minibrat Don't rub it in! \",\n",
       " 'is wondering how to sort 2 thousand pound out for a really sick 2yr old? i am really stuck in a rut n need help  xxxx',\n",
       " \"@CitizenSwift the screen died after two years of me trashing it  I'm sure it still works but like $140+ to fix the screen on my N95 \",\n",
       " \" this guy thru at least $5 worth of change at this poor girl on stage,i gues she pisd him off but that's so screwd up\",\n",
       " 'Please, what method/tools you you use to organize your personal finance? It seems my money keeps vanishing ',\n",
       " 'Wants to party!!!  @sporkula $4 shots!? Are you kidding!!?? That is way expensive!! @ek20385 I want vodka too!! Woo bank holidays!',\n",
       " '2 hours sober, and my head already feels like exploding. Someone rub it ',\n",
       " 'finds it annoying that she just bought $15 head phones that dont fit into her ears properly ',\n",
       " '@shadylane_xx being minus $ gets even better, you lose what you overdraw, PLUS a fee for doing it. well anz does anyway ',\n",
       " 'just won the euro millions........ï¿½6.10 in total ',\n",
       " '@problogger Thesis theme is GREAT!!! But it costs 84$  #wordpress',\n",
       " 'I lost my $20 bill I just got.  Pretty sure it fell out of my back pocket and burgled from me.    Sport event tonight in Katzweiler.',\n",
       " '@leokun87 Tao c?ng ?ï¿½ v? BK, dï¿½ khï¿½ng yï¿½u, nh?ng v?n cï¿½n h?n Th??ng-H?i-sï¿½nh-?i?u. M?t ?t z?i  L?i h?t $ lï¿½m tï¿½c z?i. ??u tï¿½c x?u quï¿½!!!',\n",
       " 'I lost the $20 I just got. Pretty sure it fell out of my back pocket and someone burgled it from me.  Sport event tonight in Katzweiler...',\n",
       " 'Oh, just missed out the $100 bonus offer from Rabo bank for new accounts.  ',\n",
       " '@shawndavidATL  sorry for the so late response  it *was at the foreign exchange but theres another 1 w just him @ sugarhill TONIGHT 25$',\n",
       " \"Melissa's dog Angel is home from the vet....$800 dollar vet bill...ugh!  She is still very weak...can't walk or even stand up on her own. \",\n",
       " 'This is Awesome  Stress test failure: Citigroup ($C) needs $10 billion more in capital  http://bit.ly/aeK5y',\n",
       " ' baby died last night. @$%%$# day.',\n",
       " 'Canes lost  oh well...Oh well, $4.95 shipping @ GRiD | http://www.GRiDnc.com',\n",
       " '@calperry And I thought painting was a hard dollar! ',\n",
       " '@tessthetraveler I bought ONE broach and after currency conversion and postage it cost I think $35 or $40 ',\n",
       " '$@#$!!! WTH!  No 24 tonite  ',\n",
       " '@HilaryPerkins your Cards managed to sweep through Atl then just to rub it in they did it in DC too ',\n",
       " \"@KevinRuddPM Dear PM, People who got all their tax back (&amp; didn't make 'enough $') need a stimulus package more than big earners!! \",\n",
       " 'I hate it when I mismanaged my $$ ',\n",
       " \"@PeggySheehy Wishing I was there with you, @annecollier @knowclue @artdabbler13 ... flight ACY-BOS only $239! Wish I'd known! \",\n",
       " \"Finally a hotel that didn't ding me $$$ for wireless access. Kudos to St. Regis, Aspen. I did just pay $40 to bring my luggage on United \",\n",
       " 'I am $75 richer! But my legs hurts ',\n",
       " 'The old man spent a whopping $1.50! Still the only customer. Seems this yard sale is a bust. ',\n",
       " \"@TheQuestCrew I pay $75! But I'm in Venezuela HAHA!  I want to see Quest&amp;Beat    I\",\n",
       " 'it took $7,500,000 it make the titanic, 20,000,000 tons of ice to sink it and $200,000,000 to make a movie about it. well how fun! ',\n",
       " \"@conartist4 That's what I said.  I'm sorry for canceling... for a second time. I can go on the 1st... but for 50% more. (915$USD/670ï¿½) :S\",\n",
       " \"My car's brakes are going to cost me over $300. \",\n",
       " 'why must my new htpc be such a #$%#$^$^ to set up.. not seein the tv as a monitor via hdmi ',\n",
       " \"Kevin &amp; Bean passed on the HIGH HOPES promo interview     Oh well, what's a girl to do? Maybe eat $240 worth of pudding.\",\n",
       " 'On my way 2 South Jersey after I get out of this long a$$ first of the month line at the post office ',\n",
       " '@Antwoinne : aww  i got hit from the back by this old ass man. it cost like $800 to fix, so i saved it for down payment for a new car.',\n",
       " 'lazy day. wish i was at bamboozle but hotel was too much $ ',\n",
       " '@kimmiecakes there are a couple along 1st ave, but last time, it took $10 to $20 to get in ',\n",
       " \"@bsneed23 I went another place and they said it was $250 to start but they don't do breaks on Saturday. Today is it for me for 2 weeks! \",\n",
       " 'bought 5 $1 scratch offs and won $0 ',\n",
       " '@HolidayWorld $2.50 funnel cakes?! Almost worth the drive to Indiana!  I miss Holiday World!   (Hey, Paula)',\n",
       " 'And of course, I finally have some $$ to buy the diabetes tees at fivehumans and their store is closed up. Sh*t ',\n",
       " \"I bet $15. on a horse and lost!   I guess I'm not good at picking horses...\",\n",
       " '@lizzy098 thanks, i got 6th   $60 though.  Come play if you want to, they have freerolls  http://short.to/5unh',\n",
       " 'Just had to pay the doctor $50 ',\n",
       " '@Diabeticizme I wish we had dollar moview where I lived. ',\n",
       " \"can't wait any longer. downloading the new sonic youth album stream with @voxequinox right now. album release too far away. more $$ tho \",\n",
       " 'Ugh. Just lost $100 on Deal or No Deal slot ',\n",
       " \"Obama will be at the Beverly Hilton on May 27th (I think).Tickets ar $15,000 (that amount is not a typo).  Maybe they'll need volunteers \",\n",
       " 'I am so thirsty, but I spent all my money on cheap beer.  $6 bottled water or $2 beer from tap?',\n",
       " 'Really need a full body rub down..  *A Quintessence Woman*']"
      ]
     },
     "execution_count": 49,
     "metadata": {},
     "output_type": "execute_result"
    }
   ],
   "source": [
    "financial_tweets[200:300]"
   ]
  },
  {
   "cell_type": "code",
   "execution_count": 41,
   "metadata": {},
   "outputs": [
    {
     "data": {
      "text/plain": [
       "['trade']"
      ]
     },
     "execution_count": 41,
     "metadata": {},
     "output_type": "execute_result"
    }
   ],
   "source": [
    "re.findall(string_regex, '@andywana Not sure what they are, only that they are PoS! As much as I want to, I dont think can trade away company assets sorry andy! '.lower())"
   ]
  },
  {
   "cell_type": "code",
   "execution_count": 30,
   "metadata": {},
   "outputs": [
    {
     "data": {
      "text/plain": [
       "False"
      ]
     },
     "execution_count": 30,
     "metadata": {},
     "output_type": "execute_result"
    }
   ],
   "source": []
  },
  {
   "cell_type": "code",
   "execution_count": null,
   "metadata": {},
   "outputs": [],
   "source": []
  }
 ],
 "metadata": {
  "kernelspec": {
   "display_name": "Python 3",
   "language": "python",
   "name": "python3"
  },
  "language_info": {
   "codemirror_mode": {
    "name": "ipython",
    "version": 3
   },
   "file_extension": ".py",
   "mimetype": "text/x-python",
   "name": "python",
   "nbconvert_exporter": "python",
   "pygments_lexer": "ipython3",
   "version": "3.7.1"
  }
 },
 "nbformat": 4,
 "nbformat_minor": 2
}
