{
 "cells": [
  {
   "cell_type": "markdown",
   "metadata": {},
   "source": [
    "# Projet P3\n",
    "## HeadlinesMachineLearningModel\n",
    "Ce notebook retrace les différentes étapes de création des modèles de machines learning avec le jeu de données des titres d'articles financiers\n",
    "\n",
    "`Auteur` : Romain Capocasale (INF3dlm-a)\n",
    "\n",
    "`Date` : 01.10.2019\n",
    "\n",
    "`Version de python` : 3.7.1"
   ]
  },
  {
   "cell_type": "markdown",
   "metadata": {},
   "source": [
    "# 1. Importation"
   ]
  },
  {
   "cell_type": "code",
   "execution_count": 15,
   "metadata": {},
   "outputs": [],
   "source": [
    "%matplotlib inline\n",
    "from matplotlib import pyplot as plt\n",
    "import pandas as pd\n",
    "import numpy as np\n",
    "import math\n",
    "import sys\n",
    "import csv\n",
    "from vaderSentiment.vaderSentiment import SentimentIntensityAnalyzer\n",
    "from textblob import TextBlob\n",
    "import pickle\n",
    "from gensim.sklearn_api import D2VTransformer\n",
    "from gensim.utils import simple_preprocess\n",
    "from joblib import dump, load\n",
    "import seaborn as sns\n",
    "import random\n",
    "\n",
    "from sklearn.model_selection import train_test_split\n",
    "from sklearn import metrics\n",
    "from sklearn.pipeline import Pipeline\n",
    "from sklearn.feature_extraction.text import CountVectorizer, TfidfVectorizer, TfidfTransformer\n",
    "from sklearn.svm import SVR, SVC\n",
    "from sklearn.linear_model import LinearRegression, LogisticRegression\n",
    "from sklearn.ensemble import RandomForestRegressor\n",
    "from sklearn.model_selection import GridSearchCV, RandomizedSearchCV\n",
    "from sklearn.model_selection import learning_curve\n",
    "from sklearn.model_selection import cross_val_score\n",
    "from sklearn.manifold import TSNE\n",
    "from sklearn.naive_bayes import MultinomialNB\n",
    "from sklearn.tree import DecisionTreeClassifier\n",
    "\n",
    "from tools.TextProcessor import TextProcessor\n",
    "\n",
    "np.random.seed(42)# to make this notebook's output stable across runs"
   ]
  },
  {
   "cell_type": "markdown",
   "metadata": {},
   "source": [
    "# 2. Chragement du jeu de données"
   ]
  },
  {
   "cell_type": "code",
   "execution_count": 16,
   "metadata": {},
   "outputs": [],
   "source": [
    "dataset = pd.read_json('dataset/headlines_dataset/financialData.json')"
   ]
  },
  {
   "cell_type": "markdown",
   "metadata": {},
   "source": [
    "# 3. Analyse du jeu de données"
   ]
  },
  {
   "cell_type": "code",
   "execution_count": 17,
   "metadata": {},
   "outputs": [
    {
     "data": {
      "text/html": [
       "<div>\n",
       "<style scoped>\n",
       "    .dataframe tbody tr th:only-of-type {\n",
       "        vertical-align: middle;\n",
       "    }\n",
       "\n",
       "    .dataframe tbody tr th {\n",
       "        vertical-align: top;\n",
       "    }\n",
       "\n",
       "    .dataframe thead th {\n",
       "        text-align: right;\n",
       "    }\n",
       "</style>\n",
       "<table border=\"1\" class=\"dataframe\">\n",
       "  <thead>\n",
       "    <tr style=\"text-align: right;\">\n",
       "      <th></th>\n",
       "      <th>title</th>\n",
       "      <th>sentiment</th>\n",
       "    </tr>\n",
       "  </thead>\n",
       "  <tbody>\n",
       "    <tr>\n",
       "      <td>0</td>\n",
       "      <td>watching for bounce tomorrow</td>\n",
       "      <td>0.366</td>\n",
       "    </tr>\n",
       "    <tr>\n",
       "      <td>1</td>\n",
       "      <td>record number of passengers served in 2015</td>\n",
       "      <td>0.638</td>\n",
       "    </tr>\n",
       "    <tr>\n",
       "      <td>2</td>\n",
       "      <td>out $NFLX -.35</td>\n",
       "      <td>-0.494</td>\n",
       "    </tr>\n",
       "    <tr>\n",
       "      <td>3</td>\n",
       "      <td>Looking for a strong bounce Lunchtime rally co...</td>\n",
       "      <td>0.460</td>\n",
       "    </tr>\n",
       "    <tr>\n",
       "      <td>4</td>\n",
       "      <td>Very intrigued with the technology and growth ...</td>\n",
       "      <td>0.403</td>\n",
       "    </tr>\n",
       "  </tbody>\n",
       "</table>\n",
       "</div>"
      ],
      "text/plain": [
       "                                               title  sentiment\n",
       "0                      watching for bounce tomorrow       0.366\n",
       "1        record number of passengers served in 2015       0.638\n",
       "2                                    out $NFLX -.35      -0.494\n",
       "3  Looking for a strong bounce Lunchtime rally co...      0.460\n",
       "4  Very intrigued with the technology and growth ...      0.403"
      ]
     },
     "execution_count": 17,
     "metadata": {},
     "output_type": "execute_result"
    }
   ],
   "source": [
    "dataset.head()"
   ]
  },
  {
   "cell_type": "code",
   "execution_count": 18,
   "metadata": {},
   "outputs": [
    {
     "name": "stdout",
     "output_type": "stream",
     "text": [
      "<class 'pandas.core.frame.DataFrame'>\n",
      "RangeIndex: 2866 entries, 0 to 2865\n",
      "Data columns (total 2 columns):\n",
      "title        2866 non-null object\n",
      "sentiment    2866 non-null float64\n",
      "dtypes: float64(1), object(1)\n",
      "memory usage: 44.9+ KB\n"
     ]
    }
   ],
   "source": [
    "dataset.info()"
   ]
  },
  {
   "cell_type": "code",
   "execution_count": 19,
   "metadata": {},
   "outputs": [
    {
     "data": {
      "text/html": [
       "<div>\n",
       "<style scoped>\n",
       "    .dataframe tbody tr th:only-of-type {\n",
       "        vertical-align: middle;\n",
       "    }\n",
       "\n",
       "    .dataframe tbody tr th {\n",
       "        vertical-align: top;\n",
       "    }\n",
       "\n",
       "    .dataframe thead th {\n",
       "        text-align: right;\n",
       "    }\n",
       "</style>\n",
       "<table border=\"1\" class=\"dataframe\">\n",
       "  <thead>\n",
       "    <tr style=\"text-align: right;\">\n",
       "      <th></th>\n",
       "      <th>sentiment</th>\n",
       "    </tr>\n",
       "  </thead>\n",
       "  <tbody>\n",
       "    <tr>\n",
       "      <td>count</td>\n",
       "      <td>2866.000000</td>\n",
       "    </tr>\n",
       "    <tr>\n",
       "      <td>mean</td>\n",
       "      <td>0.079841</td>\n",
       "    </tr>\n",
       "    <tr>\n",
       "      <td>std</td>\n",
       "      <td>0.391033</td>\n",
       "    </tr>\n",
       "    <tr>\n",
       "      <td>min</td>\n",
       "      <td>-1.000000</td>\n",
       "    </tr>\n",
       "    <tr>\n",
       "      <td>25%</td>\n",
       "      <td>-0.285000</td>\n",
       "    </tr>\n",
       "    <tr>\n",
       "      <td>50%</td>\n",
       "      <td>0.206000</td>\n",
       "    </tr>\n",
       "    <tr>\n",
       "      <td>75%</td>\n",
       "      <td>0.387000</td>\n",
       "    </tr>\n",
       "    <tr>\n",
       "      <td>max</td>\n",
       "      <td>1.000000</td>\n",
       "    </tr>\n",
       "  </tbody>\n",
       "</table>\n",
       "</div>"
      ],
      "text/plain": [
       "         sentiment\n",
       "count  2866.000000\n",
       "mean      0.079841\n",
       "std       0.391033\n",
       "min      -1.000000\n",
       "25%      -0.285000\n",
       "50%       0.206000\n",
       "75%       0.387000\n",
       "max       1.000000"
      ]
     },
     "execution_count": 19,
     "metadata": {},
     "output_type": "execute_result"
    }
   ],
   "source": [
    "dataset.describe()"
   ]
  },
  {
   "cell_type": "markdown",
   "metadata": {},
   "source": [
    "Le jeu de données contient 2 colonnes :\n",
    "    - sentiment : le sentiment de la pharse, entre -1 pour negatif et 1 pour positif\n",
    "    - title : la phrase en question"
   ]
  },
  {
   "cell_type": "markdown",
   "metadata": {},
   "source": [
    "## 3.1 Répartition des classes"
   ]
  },
  {
   "cell_type": "code",
   "execution_count": 20,
   "metadata": {},
   "outputs": [
    {
     "name": "stdout",
     "output_type": "stream",
     "text": [
      "Number of data : 2866\n",
      "Number of positive data : 1756 (61.27%)\n",
      "Number of negative data : 1045 (36.462%)\n",
      "Number of neutral data : 65 (2.268%)\n",
      "Ratio positive/negative : 1.68\n"
     ]
    }
   ],
   "source": [
    "nb_pos, nb_neg, nb_ntr = len([sent for sent in dataset.sentiment if sent > 0]), len([sent for sent in dataset.sentiment if sent < 0]), len([sent for sent in dataset.sentiment if sent == 0])\n",
    "tot = len(dataset)\n",
    "print(\"Number of data : {}\".format(tot))\n",
    "print(\"Number of positive data : {} ({}%)\".format(nb_pos, round( nb_pos/tot*100, 3)))\n",
    "print(\"Number of negative data : {} ({}%)\".format(nb_neg, round( nb_neg/tot*100, 3)))\n",
    "print(\"Number of neutral data : {} ({}%)\".format(nb_ntr, round( nb_ntr/tot*100, 3)))\n",
    "print(\"Ratio positive/negative : {}\".format(round(nb_pos/nb_neg, 3)))"
   ]
  },
  {
   "cell_type": "code",
   "execution_count": 21,
   "metadata": {},
   "outputs": [
    {
     "data": {
      "text/plain": [
       "array([[<matplotlib.axes._subplots.AxesSubplot object at 0x0000018FC5792508>]],\n",
       "      dtype=object)"
      ]
     },
     "execution_count": 21,
     "metadata": {},
     "output_type": "execute_result"
    },
    {
     "data": {
      "image/png": "[encoded data removed]",
      "text/plain": [
       "<Figure size 432x288 with 1 Axes>"
      ]
     },
     "metadata": {
      "needs_background": "light"
     },
     "output_type": "display_data"
    }
   ],
   "source": [
    "dataset.hist(bins=50)"
   ]
  },
  {
   "cell_type": "markdown",
   "metadata": {},
   "source": [
    "On remarque qu'il y a plus de phrase avec un sentiment positif que négatif. On remarque également sur le graphe 2 pics, un pour les sentiments négatifs aux alentours de -0.40 et un pour les sentiment positif vers 0.40."
   ]
  },
  {
   "cell_type": "markdown",
   "metadata": {},
   "source": [
    "## 3.2 Nombre de mot moyen par phrase"
   ]
  },
  {
   "cell_type": "code",
   "execution_count": 22,
   "metadata": {},
   "outputs": [],
   "source": [
    "def average_word_by_sentence(sentences):\n",
    "    '''Compute the average of word in a sentence\n",
    "    sentence -- list of sentences\n",
    "    return -- average number of word by sentence\n",
    "    '''\n",
    "    nb_total_word = 0\n",
    "    for row in sentences:\n",
    "        nb_total_word += len(row.split())\n",
    "    return round(nb_total_word / len(sentences), 3)"
   ]
  },
  {
   "cell_type": "code",
   "execution_count": 23,
   "metadata": {},
   "outputs": [
    {
     "name": "stdout",
     "output_type": "stream",
     "text": [
      "Average of word by sentence : 7.515\n"
     ]
    }
   ],
   "source": [
    "print(\"Average of word by sentence : {}\".format(average_word_by_sentence(dataset['title'])) )"
   ]
  },
  {
   "cell_type": "code",
   "execution_count": 24,
   "metadata": {},
   "outputs": [
    {
     "data": {
      "text/plain": [
       "Text(0, 0.5, 'Number of sentence')"
      ]
     },
     "execution_count": 24,
     "metadata": {},
     "output_type": "execute_result"
    },
    {
     "data": {
      "image/png": "[encoded data removed]",
      "text/plain": [
       "<Figure size 432x288 with 1 Axes>"
      ]
     },
     "metadata": {
      "needs_background": "light"
     },
     "output_type": "display_data"
    }
   ],
   "source": [
    "num_word_by_sentence = [len(x.split()) for x in dataset['title']]#count the number of word for each sentences\n",
    "\n",
    "plt.hist(num_word_by_sentence, bins=25)\n",
    "plt.title('Number of word by sentence', fontsize=20)\n",
    "plt.xlabel('Number of word', fontsize=14)\n",
    "plt.ylabel('Number of sentence', fontsize=14)"
   ]
  },
  {
   "cell_type": "markdown",
   "metadata": {},
   "source": [
    "On remarque que la moyenne de nombre de mot par phrase est de **7.515** et on peut voir sur le graphe la répartition du nombre de mot par phrase."
   ]
  },
  {
   "cell_type": "markdown",
   "metadata": {},
   "source": [
    "# 4. Séparation des observation et des étiquettes"
   ]
  },
  {
   "cell_type": "code",
   "execution_count": 25,
   "metadata": {},
   "outputs": [],
   "source": [
    "X = dataset['title']\n",
    "y = dataset['sentiment']"
   ]
  },
  {
   "cell_type": "markdown",
   "metadata": {},
   "source": [
    "## 4.1 Séparation du jeu d'entrainement et jeu de test \n",
    "Le jeu d'entrainement est séparé en 2 parties, La première partie est le jeu d'entrainement qui sera utilisé pour la création du modèle d'analyse de sentiment. Le jeu de test sera lui utilisé pour tester la qualité des modèles évalués."
   ]
  },
  {
   "cell_type": "code",
   "execution_count": 26,
   "metadata": {},
   "outputs": [],
   "source": [
    "X_train, X_test, y_train, y_test = train_test_split(X, y, test_size=0.20, random_state=42)"
   ]
  },
  {
   "cell_type": "markdown",
   "metadata": {},
   "source": [
    "# 5. Definition des méthode de calcul de score\n",
    "La méthode print_scores() permet de calculer la RMSE, la MAE et la précision à partir des vrai étiquettes et des étiquettes prédites. Il est également possible d'indiquer le seuil désiré, le seuil permet de definir pour une prédiction si elle doit considéré come positive ou négative. La méthode regression_score_to_classification() permet de transformer les étiquettes du format régression au format classification. Les étiquettes de -1 à seuil sont mise à 0 et celles de seuil à 1 sont mise à 1."
   ]
  },
  {
   "cell_type": "code",
   "execution_count": 61,
   "metadata": {},
   "outputs": [],
   "source": [
    "def remove_near_zero_values(y_test, y_pred, threshold):\n",
    "    '''As the classifier is here binary, on only keep the values between -1 and 0 not included and between 1 and 0 not included. \n",
    "    You must therefore delete the values at zero.Put in a list the indices of the values which are 0 and remove them from the 2 lists.\n",
    "        \n",
    "    y_test -- list of real value\n",
    "    y_pred -- list of predicted value\n",
    "    thrshold -- seuil\n",
    "    \n",
    "    return -- a tuple which contain y_test and y_pred without 0 values\n",
    "    '''\n",
    "    index_to_remove = []\n",
    "    i = 0\n",
    "    for test, pred in zip(y_test, y_pred):\n",
    "        if test == threshold or pred == threshold:\n",
    "            index_to_remove.append(i)\n",
    "        i+=1\n",
    "    y_test = [i for j, i in enumerate(y_test) if j not in index_to_remove]\n",
    "    y_pred = [i for j, i in enumerate(y_pred) if j not in index_to_remove]\n",
    "    return (y_test, y_pred)\n",
    "\n",
    "def regression_score_to_classification(labels, threshold):\n",
    "    '''Set to 0 regression prediction between -1 and thresold, set to 1 regression preiction between thresold and 1\n",
    "    Allow to pass from regression prediction to classification prediction\n",
    "    \n",
    "    labels -- list of regression score\n",
    "    thresold -- thresold\n",
    "    \n",
    "    return -- list of labels either 0 or 1\n",
    "    '''\n",
    "    \n",
    "    y_clf = []\n",
    "    for i, y in enumerate(labels):\n",
    "        if y <= threshold:\n",
    "            y_clf.append(0)\n",
    "        elif y > threshold:\n",
    "            y_clf.append(1)\n",
    "    return np.array(y_clf)\n",
    "        \n",
    "\n",
    "def print_scores(name, y_test, y_pred, threshold=0, show_classification_report=False):\n",
    "    '''Display the RMSE, MAE and accuracy for a model\n",
    "    \n",
    "    name -- name of the model\n",
    "    y_test -- true data\n",
    "    y_pred -- predicted data \n",
    "    threshold=0 -- threshold\n",
    "    show_classification_report=False -- display the score with sklearn.metrics.classification_report function\n",
    "    \n",
    "    '''\n",
    "    print(\"RMSE for {} : {}\".format(name, np.sqrt(metrics.mean_squared_error(y_test, y_pred))))\n",
    "    print(\"MAE for {} : {}\".format(name, metrics.mean_absolute_error(y_test, y_pred)))\n",
    "    \n",
    "    y_test, y_pred = remove_near_zero_values(y_test, y_pred, threshold)\n",
    "    \n",
    "    y_test_clf = regression_score_to_classification(y_test, threshold)\n",
    "    y_pred_clf = regression_score_to_classification(y_pred, threshold)\n",
    "    \n",
    "    print(\"Accuracy for {} : {}\".format(name, metrics.accuracy_score(y_test_clf, y_pred_clf)))\n",
    "    print(\"Recall for {} : {}\".format(name, metrics.recall_score(y_test_clf, y_pred_clf)))\n",
    "    print(\"Precision for {} : {}\".format(name, metrics.precision_score(y_test_clf, y_pred_clf)))\n",
    "    if show_classification_report:\n",
    "        print(metrics.classification_report(y_test_clf, y_pred_clf))"
   ]
  },
  {
   "cell_type": "markdown",
   "metadata": {},
   "source": [
    "# 6. Score de textblob et VADER\n",
    "Nous allons comparé le score de l'analyseur de sentiment de VADER(nltk) et textblob sur le jeu d'entrainement. Il est à noté que les phrases ne sont pas prétraité avant d'être envoyé aux analyseur de sentiment. En effet, ces 2 analyseur posséde leur propre méthode de prétraitement de texte. Les scores obtenus ici seront utilisé comme score de référence pour l'évaluation des futures modèles. Le but des futures modèles est de battre ces scores."
   ]
  },
  {
   "cell_type": "code",
   "execution_count": null,
   "metadata": {},
   "outputs": [],
   "source": [
    "y_pred_textblob = []\n",
    "\n",
    "for x in X_test:\n",
    "    blob_analyser = TextBlob(x)\n",
    "    y_pred_textblob.append(blob_analyser.polarity)\n",
    "    \n",
    "y_pred_textblob = np.array(y_pred_textblob)\n",
    "print_scores('textblob', y_test, y_pred_textblob)"
   ]
  },
  {
   "cell_type": "code",
   "execution_count": null,
   "metadata": {},
   "outputs": [],
   "source": [
    "vader_analyser = SentimentIntensityAnalyzer()\n",
    "\n",
    "y_pred_vader = []\n",
    "for x in X_test:\n",
    "    y_pred_vader.append(vader_analyser.polarity_scores(x)['compound'])\n",
    "\n",
    "y_pred_vader = np.array(y_pred_vader)\n",
    "print_scores('VADER', y_test, y_pred_vader)"
   ]
  },
  {
   "cell_type": "markdown",
   "metadata": {},
   "source": [
    "On remarque ques ces analyseurs ont une RMSE et MAE assez haute. L'accuracy est quand à elle etonnamment haute. Cepandant on remarque que ces 2 analyseurs ont souvent tendances à prédire une polarité de 0. 364 zeros pour textblob et 282 pour vader. \n",
    "\n",
    "Comme la méthode qui transforme les scores de régression en classification supprime toutes les valeurs on se retrouve avec beaucoup de valeurs en moins. Par exemple pour textlob si on enelve 364 valeurs au 574 du jeu de test, il ne reste que 210 valeurs. Il est donc normal que ces analyseurs ai de bonne performance mais en réalité les performance sont plutot mauavaises. Ils ont tendances à predire trop de 0. Même remarque pour le rappel et la précision **Seul les scores RMSE et MAE doivent être pris en compte ici**.\n",
    "\n",
    "Si on teste les analyseurs sans retirer les phrases avec un sentiment de 0, on obtient l'exatitude suivante :\n",
    "* Textblob -> 0.517\n",
    "* Vader -> 0.548"
   ]
  },
  {
   "cell_type": "markdown",
   "metadata": {},
   "source": [
    "# 7. Traitement du texte\n",
    "## 7.1. Prétraitement avec Spacy\n",
    "\n",
    "Le traitement du texte est effectué avec la librairie spacy. La classe de prétraitement du teste se trouve dans : ``tools/TextProcessor``. La classe hérite de BaseEstimator et de TransformerMixin. Le fait d'heriter de ces 2 classes permettera d'inclure cette classe dans le pipeline sklearn. Différent paramétres pour le prétraitement du texte sont défini dans le constructeur. Le principale avantage de cette méthode est qu'elle se combine avec l'utilisation de la classe GridSearchCV() ou RandomSearch() qui permet de chercher les meilleurs hyper-parametrès pour un modèle.\n",
    "\n",
    "Pour le prétraitement, différentes processus sont effectués sur la phrase:\n",
    " * **Tokenisation** : consiste à découper la phrase en mot.\n",
    " * **Suppression des ``stop word``** : suppresion des mots comme ``the``, ``are``, etc. Ce paramétre est configurable via le constructeur\n",
    " * **Tagging et suppression de certains mots tagués** : le tagging consiste à detecter le type du mot comme par exemple ``nom``, ``adjectif``, ``verbe``, etc. Par la suite, il faut supprimer le type de mot que l'on ne veut pas garder dans la phrase. Actuellement, les verbes, adverbes, nom et adjectifs sont conservés. Ce paramétre est configurable via le constructeur.\n",
    " * **Taille du mot** : consiste à garder que les mots d'une certaines taille. Ce paramétre est configurable via le constructeur.\n",
    " * **Suppresion de la ponctuation** : suppresion des caractère comme ``!``, ``?``, etc.\n",
    " * **Lemmatisation** : consiste à ne garder que la racine des mots dans le but de réduire la taille du dictionnaire. Par exemple, les mots comme ``runs``, ``running`` seront transformer en ``run``."
   ]
  },
  {
   "cell_type": "code",
   "execution_count": 28,
   "metadata": {},
   "outputs": [],
   "source": [
    "tp = TextProcessor(keep_only_good_word=False, remove_stop_word=True)\n",
    "X_train_pre_spacy = tp.transform(X_train)\n",
    "X_test_pre_spacy = tp.transform(X_test)"
   ]
  },
  {
   "cell_type": "markdown",
   "metadata": {},
   "source": [
    "## 7.2 Prétraitement avec Gensim\n",
    "Utilisation de la méthode simple_preprocess, pour utiliser le prétraitement de Gensim dans les modèles il faut remplacer les varaibles ``X_train_pre_spacy`` et ``X_test_pre_spacy`` par ``X_train_pre_gen`` et ``X_test_pre_gen``. "
   ]
  },
  {
   "cell_type": "code",
   "execution_count": null,
   "metadata": {},
   "outputs": [],
   "source": [
    "X_train_pre_gen = [' '.join(simple_preprocess(sentence)) for sentence in X_train ]\n",
    "X_test_pre_gen = [' '.join(simple_preprocess(sentence)) for sentence in X_test ]"
   ]
  },
  {
   "cell_type": "markdown",
   "metadata": {},
   "source": [
    "# 8. Modèle de machine learning avec TFidf"
   ]
  },
  {
   "cell_type": "markdown",
   "metadata": {},
   "source": [
    "## 8.1 Création des pipelines et entrainement des modeles\n",
    "Un pipeline est créé pour chaque type de modèle. Trois types de modèles ont été selectionné : \n",
    "\n",
    "* la régression linéaire\n",
    "* la machine à vecteur de support \n",
    "* la Foret aléatoire\n",
    "\n",
    "La classe TfidfVectorizer permet de calculer le score tfidf pour une phrase donné."
   ]
  },
  {
   "cell_type": "code",
   "execution_count": 29,
   "metadata": {},
   "outputs": [
    {
     "name": "stdout",
     "output_type": "stream",
     "text": [
      "lr_model is done\n"
     ]
    },
    {
     "name": "stderr",
     "output_type": "stream",
     "text": [
      "C:\\ProgramData\\Anaconda3\\lib\\site-packages\\sklearn\\svm\\base.py:193: FutureWarning: The default value of gamma will change from 'auto' to 'scale' in version 0.22 to account better for unscaled features. Set gamma explicitly to 'auto' or 'scale' to avoid this warning.\n",
      "  \"avoid this warning.\", FutureWarning)\n"
     ]
    },
    {
     "name": "stdout",
     "output_type": "stream",
     "text": [
      "svr_model is done\n"
     ]
    },
    {
     "name": "stderr",
     "output_type": "stream",
     "text": [
      "C:\\ProgramData\\Anaconda3\\lib\\site-packages\\sklearn\\ensemble\\forest.py:245: FutureWarning: The default value of n_estimators will change from 10 in version 0.20 to 100 in 0.22.\n",
      "  \"10 in version 0.20 to 100 in 0.22.\", FutureWarning)\n"
     ]
    },
    {
     "name": "stdout",
     "output_type": "stream",
     "text": [
      "rfr_model is done\n"
     ]
    }
   ],
   "source": [
    "lr_model = Pipeline([('tfidf', TfidfVectorizer()),\n",
    "                    ('lr', LinearRegression(n_jobs=-1))])\n",
    "\n",
    "svr_model = Pipeline([('tfidf', TfidfVectorizer()),('svr', SVR(kernel='poly'))])\n",
    "\n",
    "rfr_model = Pipeline([('tfidf', TfidfVectorizer()),\n",
    "                    ('rfr', RandomForestRegressor(n_jobs=-1))])\n",
    "\n",
    "lr_model.fit(X_train_pre_spacy, y_train)\n",
    "print(\"lr_model is done\")\n",
    "svr_model.fit(X_train_pre_spacy, y_train)\n",
    "print(\"svr_model is done\")\n",
    "rfr_model.fit(X_train_pre_spacy, y_train)\n",
    "print(\"rfr_model is done\")"
   ]
  },
  {
   "cell_type": "markdown",
   "metadata": {},
   "source": [
    "## 8.2 Evaluation des modèles\n",
    "Le score des modèles est calculé avec le jeu de test. On remarque que pour la MAE et la RMSE seul le modèle Random Forest Regressor obtient de meilleurs résultats que les analyseurs preccedents. On peut également constater que la Random Forest Regressor obtient une bonne précison et un bon rappel."
   ]
  },
  {
   "cell_type": "code",
   "execution_count": 30,
   "metadata": {},
   "outputs": [
    {
     "name": "stdout",
     "output_type": "stream",
     "text": [
      "RMSE for Linear regression : 0.5863239103350047\n",
      "MAE for Linear regression : 0.39035970502206513\n",
      "Accuracy for Linear regression : 0.7309734513274336\n",
      "Recall for Linear regression : 0.7458100558659218\n",
      "Precision for Linear regression : 0.8140243902439024\n",
      "\n",
      "\n",
      "RMSE for Support Vector Regression : 0.39891491103449844\n",
      "MAE for Support Vector Regression : 0.32363240415397093\n",
      "Accuracy for Support Vector Regression : 0.6336283185840708\n",
      "Recall for Support Vector Regression : 1.0\n",
      "Precision for Support Vector Regression : 0.6336283185840708\n",
      "\n",
      "\n",
      "RMSE for Random forest regressor : 0.28867546200058297\n",
      "MAE for Random forest regressor : 0.2050416997282776\n",
      "Accuracy for Random forest regressor : 0.8088495575221238\n",
      "Recall for Random forest regressor : 0.8575418994413407\n",
      "Precision for Random forest regressor : 0.8434065934065934\n"
     ]
    }
   ],
   "source": [
    "y_pred_lr = lr_model.predict(X_test_pre_spacy)\n",
    "print_scores('Linear regression', y_test, y_pred_lr)\n",
    "print(\"\\n\")\n",
    "y_pred_svr = svr_model.predict(X_test_pre_spacy)\n",
    "print_scores('Support Vector Regression', y_test, y_pred_svr)\n",
    "print(\"\\n\")\n",
    "y_pred_rfr = rfr_model.predict(X_test_pre_spacy)\n",
    "print_scores('Random forest regressor', y_test, y_pred_rfr)"
   ]
  },
  {
   "cell_type": "markdown",
   "metadata": {},
   "source": [
    "# 8.3 Recherche aléatoire\n",
    "En plus d'optimiser les paramètres du modèle, la recherche alétoire entraine les modèles avec dans ce cas 15 folds. Ce qui va permettre de s'assurer que le modèle n'overfit pas trop. **Attention cette cellule prends beaucoup de temps à s'éxecuter (environ 30 minutes).**"
   ]
  },
  {
   "cell_type": "code",
   "execution_count": null,
   "metadata": {},
   "outputs": [],
   "source": [
    "param_grid_random = {\n",
    "    'tfidf__use_idf' : (True, False),\n",
    "    'rfr__n_estimators' : [30, 100, 200, 400, 1000, 1200, 1500],\n",
    "    'rfr__max_features' : [2,4,6,8, 20, 100],\n",
    "    'rfr__bootstrap' : (True, False),\n",
    "    'rfr__max_depth' : [10, 30 , 50, 80, 100, None],\n",
    "    'rfr__min_samples_leaf': [1, 2, 4],\n",
    "    'rfr__min_samples_split': [2, 5, 10]\n",
    "}\n",
    "\n",
    "rfr_model_random = Pipeline([('tfidf', TfidfVectorizer()),\n",
    "                    ('rfr', RandomForestRegressor())])\n",
    "\n",
    "random_search_rfr = RandomizedSearchCV(rfr_model_random, param_grid_random,scoring='neg_mean_absolute_error', n_iter=50, verbose=1, cv=15, n_jobs=-1)\n",
    "random_search_rfr.fit(X_train_pre_spacy, y_train)"
   ]
  },
  {
   "cell_type": "markdown",
   "metadata": {},
   "source": [
    "### 8.3.1 Meilleurs paramètres de la recherche aléatoire"
   ]
  },
  {
   "cell_type": "code",
   "execution_count": null,
   "metadata": {},
   "outputs": [],
   "source": [
    "random_search_rfr.best_params_"
   ]
  },
  {
   "cell_type": "markdown",
   "metadata": {},
   "source": [
    "### 8.3.2 Evaluation de la recherche aléatoire\n",
    "On constate qu'on obtient de meilleure résultats avec la recherche aléatoire."
   ]
  },
  {
   "cell_type": "code",
   "execution_count": null,
   "metadata": {},
   "outputs": [],
   "source": [
    "y_pred_rfr_random = random_search_rfr.predict(X_test_pre_spacy)\n",
    "print_scores('Random forest regressor - random search', y_test, y_pred_rfr_random)"
   ]
  },
  {
   "cell_type": "markdown",
   "metadata": {},
   "source": [
    "## 8.4 Sauvegarde du modèle"
   ]
  },
  {
   "cell_type": "code",
   "execution_count": null,
   "metadata": {},
   "outputs": [],
   "source": [
    "dump(random_search_rfr, 'saved_model/headlines_dataset_tfidf.joblib')"
   ]
  },
  {
   "cell_type": "markdown",
   "metadata": {},
   "source": [
    "# 9. Modèle de machine learning avec d2v de Gensim"
   ]
  },
  {
   "cell_type": "markdown",
   "metadata": {},
   "source": [
    "## 9.1 Prétraitement du texte\n",
    "Pour envoyer les phrases au doc2vec il faut qu les mots sois placé dans une liste. On réeffectue le préprocessing sur le textes mais cette fois on met d'une phrases dans une liste."
   ]
  },
  {
   "cell_type": "markdown",
   "metadata": {},
   "source": [
    "### 9.1.2 Spacy\n",
    "Le paramètre ``is_word_joined`` renvoie une liste de de liste(qui représente les mots de la phrase) au lieu d'une liste de string(qui représente la phrase)."
   ]
  },
  {
   "cell_type": "code",
   "execution_count": null,
   "metadata": {},
   "outputs": [],
   "source": [
    "tp_list = TextProcessor(is_word_joined=False, keep_only_good_word=False, remove_stop_word=True)\n",
    "X_train_pre_list_spacy = tp_list.fit_transform(X_train)\n",
    "X_test_pre_list_spacy = tp_list.fit_transform(X_test)"
   ]
  },
  {
   "cell_type": "markdown",
   "metadata": {},
   "source": [
    "### 9.1.2 Gensim\n",
    "Utilisation de la méthode simple_preprocess, pour utiliser le prétraitement de Gensim dans les modèles il faut remplacer les varaibles ``X_train_pre_list_spacy`` et ``X_test_pre_list_spacy`` par ``X_train_pre_list_gen`` et ``X_test_pre_list_gen``."
   ]
  },
  {
   "cell_type": "code",
   "execution_count": null,
   "metadata": {},
   "outputs": [],
   "source": [
    "X_train_pre_list_gen = []\n",
    "for sentence in X_train:\n",
    "    X_train_pre_list_gen.append(simple_preprocess(sentence))\n",
    "    \n",
    "X_test_pre_list_gen = []\n",
    "for sentence in X_test:\n",
    "    X_test_pre_list_gen.append(simple_preprocess(sentence))"
   ]
  },
  {
   "cell_type": "markdown",
   "metadata": {},
   "source": [
    "## 9.2 Création du doc2vec"
   ]
  },
  {
   "cell_type": "code",
   "execution_count": null,
   "metadata": {},
   "outputs": [],
   "source": [
    "doc2Vec_model =  D2VTransformer()\n",
    "doc2Vec_model.fit(X_train_pre_list_spacy+X_test_pre_list_spacy)"
   ]
  },
  {
   "cell_type": "code",
   "execution_count": null,
   "metadata": {},
   "outputs": [],
   "source": [
    "X_train_pre_d2v = doc2Vec_model.transform(X_train_pre_list_spacy)\n",
    "X_test_pre_d2v = doc2Vec_model.transform(X_test_pre_list_spacy)"
   ]
  },
  {
   "cell_type": "markdown",
   "metadata": {},
   "source": [
    "Les phrases sont transformées en vecteurs."
   ]
  },
  {
   "cell_type": "markdown",
   "metadata": {},
   "source": [
    "## 9.3 Création des pipelines et entrainement des modèles"
   ]
  },
  {
   "cell_type": "code",
   "execution_count": null,
   "metadata": {},
   "outputs": [],
   "source": [
    "rfr_model_d2v = RandomForestRegressor(n_estimators=200, max_features=50)\n",
    "rfr_model_d2v.fit(X_train_pre_d2v, y_train)\n",
    "\n",
    "lr_model_d2v = LinearRegression()\n",
    "lr_model_d2v.fit(X_train_pre_d2v, y_train)\n",
    "\n",
    "svr_model_d2v = SVR(kernel='poly')\n",
    "svr_model_d2v.fit(X_train_pre_d2v, y_train)"
   ]
  },
  {
   "cell_type": "code",
   "execution_count": null,
   "metadata": {},
   "outputs": [],
   "source": [
    "rfr_pipeline_d2v = Pipeline([('d2v', doc2Vec_model),\n",
    "                     ('rfr', rfr_model_d2v)])\n",
    "\n",
    "lr_pipeline_d2v = Pipeline([('d2v', doc2Vec_model),\n",
    "                     ('rfr', lr_model_d2v)])\n",
    "\n",
    "svr_pipeline_d2v = Pipeline([('d2v', doc2Vec_model),\n",
    "                    ('svr', svr_model_d2v)])"
   ]
  },
  {
   "cell_type": "markdown",
   "metadata": {},
   "source": [
    "## 9.4 Évaluation des modèles\n",
    "Ces modèles ont en moyenne de moins bon résultats que les modèles préceddent. On remarque qu'en moyenne le rappel à augmenter sur tout les modèles et la précision diminué."
   ]
  },
  {
   "cell_type": "code",
   "execution_count": null,
   "metadata": {},
   "outputs": [],
   "source": [
    "y_pred_rfr_d2v = rfr_pipeline_d2v.predict(X_test_pre_list_spacy)\n",
    "print_scores('Random forest regressor', y_test, y_pred_rfr_d2v)\n",
    "print(\"\\n\")\n",
    "y_pred_lr_d2v = lr_pipeline_d2v.predict(X_test_pre_list_spacy)\n",
    "print_scores('Linear regression', y_test, y_pred_lr_d2v)\n",
    "print(\"\\n\")\n",
    "y_pred_svr_d2v = svr_pipeline_d2v.predict(X_test_pre_list_spacy)\n",
    "print_scores('Support Vector Regression', y_test, y_pred_svr_d2v)"
   ]
  },
  {
   "cell_type": "markdown",
   "metadata": {},
   "source": [
    "## 9.5 Entrainement du modèle avec la validation croisé"
   ]
  },
  {
   "cell_type": "code",
   "execution_count": null,
   "metadata": {},
   "outputs": [],
   "source": [
    "scores = cross_val_score(rfr_model_d2v, X_train_pre_d2v, y_train, scoring=\"neg_mean_absolute_error\", cv=15)\n",
    "print(-scores)"
   ]
  },
  {
   "cell_type": "markdown",
   "metadata": {},
   "source": [
    "## 9.6 Représentation T-sne \n",
    "Le T-sne permet de représenter les phrases du doc2vec dans l'espace. On constate que les phrases sont assez éparpillé et que les phrases postives ne sont pas regroupé avec les positives et inversement."
   ]
  },
  {
   "cell_type": "code",
   "execution_count": null,
   "metadata": {},
   "outputs": [],
   "source": [
    "tsne = TSNE(n_components=2, random_state=0, verbose=1)\n",
    "X_2d_gen = tsne.fit_transform(np.concatenate((X_train_pre_d2v, X_test_pre_d2v), axis=0))\n",
    "\n",
    "X_component_gen = [item[0] for item in X_2d_gen]\n",
    "Y_component_gen = [item[1] for item in X_2d_gen]\n",
    "\n",
    "sent = [\"positive\" if sent>= 0 else \"negative\" for sent in (y_train.tolist() + y_test.tolist())]\n",
    "\n",
    "df_scatter_gen = pd.DataFrame({'x_component':X_component_gen, 'y_component':Y_component_gen, 'sentiment':sent})\n",
    "plt.figure(figsize=(10,8))\n",
    "plt.title(\"2D sentence representation - Gensim preprocessing\")\n",
    "ax = sns.scatterplot(x='x_component', y='y_component', hue='sentiment', data=df_scatter_gen)"
   ]
  },
  {
   "cell_type": "markdown",
   "metadata": {},
   "source": [
    "## 9.6 Sauvegarde du modèle"
   ]
  },
  {
   "cell_type": "code",
   "execution_count": null,
   "metadata": {},
   "outputs": [],
   "source": [
    "dump(rfr_pipeline_d2v, 'saved_model/headlines_dataset_w2v.joblib')"
   ]
  },
  {
   "cell_type": "markdown",
   "metadata": {},
   "source": [
    "# 10. word2vec financier \n",
    "## 10.1 Importation du word2vec financier"
   ]
  },
  {
   "cell_type": "code",
   "execution_count": 119,
   "metadata": {},
   "outputs": [],
   "source": [
    "sys.path.insert(0, 'word2vec/financialWord2vec/src')\n",
    "from financial_corpus import FinancialCorpus\n",
    "from financial_w2vec import FinancialWord2Vec\n",
    "\n",
    "financial_w2vec = pickle.load(open('word2vec/financialWord2vec/data/models_pickle/FinancialWord2Vec.pkl','rb'))\n",
    "w2vec_model = financial_w2vec.model\n",
    "financial_corpus = financial_w2vec.financial_corpus\n",
    "\n",
    "bigram_mod = financial_corpus.bigram_mod\n",
    "trigram_mod = financial_corpus.bigram_mod"
   ]
  },
  {
   "cell_type": "markdown",
   "metadata": {},
   "source": [
    "## 10.2 Nombres de mot présent dans le word2vec\n",
    "Cette cellule ne fonctionne que si le prétraitement du texte à été effectué avec Spacy et non gensim."
   ]
  },
  {
   "cell_type": "code",
   "execution_count": 120,
   "metadata": {},
   "outputs": [
    {
     "name": "stdout",
     "output_type": "stream",
     "text": [
      "There are 2348 words in the word2vec on 4482 \n"
     ]
    }
   ],
   "source": [
    "nb_word_in_w2v = 0\n",
    "for w in tp.vocab:\n",
    "    if w in w2vec_model.wv.vocab:\n",
    "        nb_word_in_w2v+=1\n",
    "print(\"There are {} words in the word2vec on {} \".format(nb_word_in_w2v, len(tp.vocab)))"
   ]
  },
  {
   "cell_type": "markdown",
   "metadata": {},
   "source": [
    "## 10.3 Longeur maximum d'une phrase\n",
    "La longeur maximum nous permettera d'effectuer la technique du padding pour les vecteurs"
   ]
  },
  {
   "cell_type": "code",
   "execution_count": 121,
   "metadata": {},
   "outputs": [
    {
     "name": "stdout",
     "output_type": "stream",
     "text": [
      "The maximum word in a sentence is : 25\n"
     ]
    }
   ],
   "source": [
    "max_sentence_length = 0\n",
    "for sentence in dataset[\"title\"]:\n",
    "    sentence_length = len(sentence.split())\n",
    "    if sentence_length > max_sentence_length:\n",
    "        max_sentence_length = sentence_length\n",
    "print(\"The maximum word in a sentence is : {}\".format(max_sentence_length))"
   ]
  },
  {
   "cell_type": "markdown",
   "metadata": {},
   "source": [
    "## 10.4 Calcul du Tf-idf\n",
    "Le score TF-idf est calculé sur le jeu de donnée et les scores sont exporté dans un dictionnaire avec comme clé le mot et comme valeur le score TF-idf de ce mot."
   ]
  },
  {
   "cell_type": "code",
   "execution_count": 122,
   "metadata": {},
   "outputs": [],
   "source": [
    "tfidf = TfidfVectorizer()\n",
    "tfidf_matrix = tfidf.fit_transform(X_train_pre_spacy+X_test_pre_spacy)\n",
    "\n",
    "feature_names = tfidf.get_feature_names()\n",
    "word2tfidf = dict(zip(feature_names, tfidf.idf_))"
   ]
  },
  {
   "cell_type": "markdown",
   "metadata": {},
   "source": [
    "## 10.5 Définition des fonctions\n",
    "Definitions des différentes fonctions permettant de représenter une phrase dans l'espace."
   ]
  },
  {
   "cell_type": "code",
   "execution_count": 123,
   "metadata": {},
   "outputs": [],
   "source": [
    "def get_tfidf_score(word):\n",
    "    '''Return the TF-idf score for a word. If the word is not in the dict return 0.\n",
    "    \n",
    "    word -- a word of a sentence\n",
    "    \n",
    "    return -- the TF-idf score for this word\n",
    "    '''\n",
    "    if word in word2tfidf:\n",
    "        return word2tfidf[word]\n",
    "    else:\n",
    "        return 0.0"
   ]
  },
  {
   "cell_type": "code",
   "execution_count": 124,
   "metadata": {},
   "outputs": [],
   "source": [
    "def get_w2v_from_word(word, dimension=100):\n",
    "    '''Return the word2vec vector for the given word. \n",
    "    If the word is not in the word2vec vocab return a fille vector of 0 the size of the dimension\n",
    "    \n",
    "    word -- a word of a sentence\n",
    "    dimension -- the dimension of the vector\n",
    "    \n",
    "    return -- The word2vec vector\n",
    "    '''\n",
    "    if word in w2vec_model.wv.vocab: \n",
    "        doc = trigram_mod[bigram_mod[[word]]]\n",
    "        return w2vec_model.wv[doc][0]\n",
    "    else :\n",
    "        return np.zeros(dimension)"
   ]
  },
  {
   "cell_type": "code",
   "execution_count": 125,
   "metadata": {},
   "outputs": [],
   "source": [
    "def sentences_to_w2v_big_vector(sentences, mode, dimension=100):\n",
    "    '''Transforms the list of passed sentences into a vector representation. The vectors here are concatenate.\n",
    "    For exemple : if the maximum sentence size is 25 and the dimension is 100. The number of vector component will be 2500.\n",
    "    \n",
    "    sentences -- list of preprocessed sentences\n",
    "    mode -- type of vectorial representation, 'concat' => concatene all the word vector in sequence,'concat_tfidf' => concatene the word vector and multiply by the tf-idf score of the word, \n",
    "    dimension -- the dimension of the vector\n",
    "\n",
    "    return -- the list of sentences in the space\n",
    "    '''\n",
    "    sentences_w2v = []\n",
    "    for sentence in sentences:  \n",
    "        \n",
    "        vectors = np.asarray([])\n",
    "        splited_sentence = sentence.split()\n",
    "        for i in range(0, max_sentence_length):\n",
    "            try :\n",
    "                word = splited_sentence[i]\n",
    "                w2v_word = get_w2v_from_word(word)\n",
    "                \n",
    "                if mode==\"concat_tfidf\":\n",
    "                    tfidf_score = get_tfidf_score(word)\n",
    "                    vectors = np.append(vectors, w2v_word*tfidf_score)\n",
    "                elif mode==\"concat\":\n",
    "                    vectors = np.append(vectors, w2v_word)\n",
    "                \n",
    "            except IndexError:\n",
    "                vectors = np.append(vectors, np.zeros(dimension))\n",
    "                \n",
    "        sentences_w2v.append(vectors)\n",
    "    return sentences_w2v"
   ]
  },
  {
   "cell_type": "code",
   "execution_count": 126,
   "metadata": {},
   "outputs": [],
   "source": [
    "def sentences_to_w2v_small_vector(sentences, mode, dimension=100):\n",
    "    '''Transforms the list of passed sentences into a vector representation. The vector is summed.\n",
    "    For exemple : if the maximum sentence size is 25 and the dimension is 100. The number of vector component will be 100.\n",
    "    \n",
    "    sentences - list of preprocessed sentences\n",
    "    mode -- type of vectorial representation, 'sum' => sum all the vector, 'sum_tfidf' => sum the vector and multiply each vector by tf_idf score, 'avg' => sum all the vector and divide by the sentence length, 'avg' => sum the vector, multiply each vector by tf_idf score and divide by sentence length\n",
    "    dimension -- the dimension of the vector\n",
    "    \n",
    "    return the list of sentences in the space\n",
    "    '''\n",
    "    sentences_w2v = []    \n",
    "    for sentence in sentences:\n",
    "        vectors = np.zeros(100)\n",
    "        \n",
    "        splited_sentence = sentence.split()\n",
    "        for word in splited_sentence:\n",
    "            w2v_word = get_w2v_from_word(word)\n",
    "            \n",
    "            if mode==\"sum_tfidf\" or mode==\"avg_tfidf\":\n",
    "                tfidf_score=get_tfidf_score(word)\n",
    "                vectors = np.add(vectors, w2v_word*tfidf_score)\n",
    "            elif mode==\"sum\" or mode==\"avg\":              \n",
    "                vectors = np.add(vectors, w2v_word)\n",
    "        \n",
    "        if mode==\"avg_tfidf\" or mode==\"avg\":    \n",
    "            if len(splited_sentence) != 0:\n",
    "                sentences_w2v.append(vectors/len(splited_sentence))\n",
    "            else :\n",
    "                sentences_w2v.append(np.zeros(dimension))\n",
    "        elif mode==\"sum\" or mode==\"sum_tfidf\":\n",
    "            sentences_w2v.append(vectors)\n",
    "    return np.asarray(sentences_w2v)"
   ]
  },
  {
   "cell_type": "markdown",
   "metadata": {},
   "source": [
    "## 10.6 Représentation des phrases dans l'espace"
   ]
  },
  {
   "cell_type": "code",
   "execution_count": 127,
   "metadata": {
    "scrolled": false
   },
   "outputs": [],
   "source": [
    "X_train_pre_w2v = sentences_to_w2v_small_vector(X_train_pre_spacy, mode=\"avg\")\n",
    "X_test_pre_w2v = sentences_to_w2v_small_vector(X_test_pre_spacy, mode=\"avg\")"
   ]
  },
  {
   "cell_type": "markdown",
   "metadata": {},
   "source": [
    "## 10.7 Entrainement des modèles"
   ]
  },
  {
   "cell_type": "code",
   "execution_count": 128,
   "metadata": {},
   "outputs": [
    {
     "name": "stdout",
     "output_type": "stream",
     "text": [
      "training finish for rfr\n",
      "training finish for lr\n"
     ]
    },
    {
     "name": "stderr",
     "output_type": "stream",
     "text": [
      "C:\\ProgramData\\Anaconda3\\lib\\site-packages\\sklearn\\svm\\base.py:193: FutureWarning: The default value of gamma will change from 'auto' to 'scale' in version 0.22 to account better for unscaled features. Set gamma explicitly to 'auto' or 'scale' to avoid this warning.\n",
      "  \"avoid this warning.\", FutureWarning)\n"
     ]
    },
    {
     "name": "stdout",
     "output_type": "stream",
     "text": [
      "training finish for svr\n"
     ]
    }
   ],
   "source": [
    "rfr_model_w2v = RandomForestRegressor(n_estimators=100, max_features=50)\n",
    "rfr_model_w2v.fit(X_train_pre_w2v, y_train)\n",
    "print(\"training finish for rfr\")\n",
    "\n",
    "lr_model_w2v = LinearRegression()\n",
    "lr_model_w2v.fit(X_train_pre_w2v, y_train)\n",
    "print(\"training finish for lr\")\n",
    "\n",
    "svr_model_w2v = SVR(kernel='poly')\n",
    "svr_model_w2v.fit(X_train_pre_w2v, y_train)\n",
    "print(\"training finish for svr\")"
   ]
  },
  {
   "cell_type": "markdown",
   "metadata": {},
   "source": [
    "## 10.8 Calcul des scores\n",
    "Cette fois si la précison et le rappel sont meilleure qu'avec gensim."
   ]
  },
  {
   "cell_type": "code",
   "execution_count": 129,
   "metadata": {
    "scrolled": true
   },
   "outputs": [
    {
     "name": "stdout",
     "output_type": "stream",
     "text": [
      "RMSE for Random forest regressor : 0.3190806378668565\n",
      "MAE for Random forest regressor : 0.24678990371008297\n",
      "Accuracy for Random forest regressor : 0.768141592920354\n",
      "Recall for Random forest regressor : 0.8798882681564246\n",
      "Precision for Random forest regressor : 0.7816377171215881\n",
      "\n",
      "\n",
      "RMSE for Linear regression : 0.3387019255006186\n",
      "MAE for Linear regression : 0.27764543717593954\n",
      "Accuracy for Linear regression : 0.7610619469026548\n",
      "Recall for Linear regression : 0.8379888268156425\n",
      "Precision for Linear regression : 0.7957559681697612\n",
      "\n",
      "\n",
      "RMSE for Support Vector Regression : 0.36014613967523057\n",
      "MAE for Support Vector Regression : 0.269443533279749\n",
      "Accuracy for Support Vector Regression : 0.7592920353982301\n",
      "Recall for Support Vector Regression : 0.9217877094972067\n",
      "Precision for Support Vector Regression : 0.7534246575342466\n"
     ]
    }
   ],
   "source": [
    "y_pred_rfr_w2v = rfr_model_w2v.predict(X_test_pre_w2v)\n",
    "print_scores('Random forest regressor', y_test, y_pred_rfr_w2v)\n",
    "print(\"\\n\")\n",
    "y_pred_lr_w2v = lr_model_w2v.predict(X_test_pre_w2v)\n",
    "print_scores('Linear regression', y_test, y_pred_lr_w2v)\n",
    "print(\"\\n\")\n",
    "y_pred_svr_w2v = svr_model_w2v.predict(X_test_pre_w2v)\n",
    "print_scores('Support Vector Regression', y_test, y_pred_svr_w2v)"
   ]
  },
  {
   "cell_type": "markdown",
   "metadata": {},
   "source": [
    "## 10.9 Entrainement du modèle avec la validation croisé\n",
    "Au vu des scores MAE on voit que le moèdle n'overfit pas trop. La MAE est similaire à celle calculé préceddement"
   ]
  },
  {
   "cell_type": "code",
   "execution_count": null,
   "metadata": {},
   "outputs": [],
   "source": [
    "scores = cross_val_score(rfr_model_w2v, X_train_pre_w2v, y_train, scoring=\"neg_mean_absolute_error\", cv=15)\n",
    "print(-scores)"
   ]
  },
  {
   "cell_type": "markdown",
   "metadata": {},
   "source": [
    "## 10.10 Représentation T-sne"
   ]
  },
  {
   "cell_type": "code",
   "execution_count": null,
   "metadata": {},
   "outputs": [],
   "source": [
    "tsne = TSNE(n_components=2, random_state=0, verbose=1)\n",
    "X_2d_financial = tsne.fit_transform(np.concatenate((X_train_pre_w2v, X_test_pre_w2v), axis=0))\n",
    "\n",
    "X_component_financial = [item[0] for item in X_2d_financial]\n",
    "Y_component_financial = [item[1] for item in X_2d_financial]\n",
    "\n",
    "sent = [\"positive\" if sent>= 0 else \"negative\" for sent in (y_train.tolist() + y_test.tolist())]\n",
    "\n",
    "df_scatter_financial = pd.DataFrame({'x_component':X_component_financial, 'y_component':Y_component_financial, 'sentiment':sent})\n",
    "plt.figure(figsize=(10,8))\n",
    "plt.title(\"2D sentence representation - personal preprocessing\")\n",
    "ax = sns.scatterplot(x='x_component', y='y_component', hue='sentiment', data=df_scatter_financial)"
   ]
  },
  {
   "cell_type": "markdown",
   "metadata": {},
   "source": [
    "# 11. Classificateur\n",
    "Entrainons maintenant uniquement des classificateurs. On commence par supprimer les phrases qui ont un sentiment compris entre -0.1 et 0.1 car ces phrases sont trop proches de 0 pour être classifié comme positive ou négative."
   ]
  },
  {
   "cell_type": "code",
   "execution_count": 95,
   "metadata": {},
   "outputs": [
    {
     "name": "stdout",
     "output_type": "stream",
     "text": [
      "size of data : 2594\n"
     ]
    }
   ],
   "source": [
    "index_to_remove = []\n",
    "for i, e in dataset.iterrows():\n",
    "    if e['sentiment'] < 0.1 and e['sentiment'] > -0.1:\n",
    "        index_to_remove.append(i)\n",
    "classification_data = dataset.drop(index_to_remove)\n",
    "print(\"size of data : {}\".format(len(classification_data)))"
   ]
  },
  {
   "cell_type": "markdown",
   "metadata": {},
   "source": [
    "## 11.1 Séparation des observations et étiquettes\n",
    "Les sentiments en dessous de 0 sont transformé en 0 et ceux en dessus de 0 en 1."
   ]
  },
  {
   "cell_type": "code",
   "execution_count": 96,
   "metadata": {},
   "outputs": [],
   "source": [
    "X_classification = classification_data['title']\n",
    "y_classfication = np.array([1 if s > 0 else 0 for s in classification_data['sentiment']])\n",
    "X_train_classification, X_test_classification, y_train_classfication, y_test_classification = train_test_split(X_classification, y_classfication, test_size=0.20, random_state=42)"
   ]
  },
  {
   "cell_type": "markdown",
   "metadata": {},
   "source": [
    "## 11.2 Prétraitement des phrases avec Gensim"
   ]
  },
  {
   "cell_type": "code",
   "execution_count": 97,
   "metadata": {},
   "outputs": [],
   "source": [
    "X_train_pre_gen_classification = [' '.join(simple_preprocess(sentence)) for sentence in X_train_classification ]\n",
    "    \n",
    "X_test_pre_gen_classification = [' '.join(simple_preprocess(sentence)) for sentence in X_test_classification ]"
   ]
  },
  {
   "cell_type": "markdown",
   "metadata": {},
   "source": [
    "## 11.3 Entrainement des modèles\n",
    "Les phrases sont converti en chiffre à l'aide de la technique du Tf-Idf."
   ]
  },
  {
   "cell_type": "code",
   "execution_count": 98,
   "metadata": {},
   "outputs": [
    {
     "name": "stderr",
     "output_type": "stream",
     "text": [
      "C:\\ProgramData\\Anaconda3\\lib\\site-packages\\sklearn\\svm\\base.py:193: FutureWarning: The default value of gamma will change from 'auto' to 'scale' in version 0.22 to account better for unscaled features. Set gamma explicitly to 'auto' or 'scale' to avoid this warning.\n",
      "  \"avoid this warning.\", FutureWarning)\n",
      "C:\\ProgramData\\Anaconda3\\lib\\site-packages\\sklearn\\linear_model\\logistic.py:432: FutureWarning: Default solver will be changed to 'lbfgs' in 0.22. Specify a solver to silence this warning.\n",
      "  FutureWarning)\n"
     ]
    },
    {
     "data": {
      "text/plain": [
       "Pipeline(memory=None,\n",
       "         steps=[('tfidf',\n",
       "                 TfidfVectorizer(analyzer='word', binary=False,\n",
       "                                 decode_error='strict',\n",
       "                                 dtype=<class 'numpy.float64'>,\n",
       "                                 encoding='utf-8', input='content',\n",
       "                                 lowercase=True, max_df=1.0, max_features=None,\n",
       "                                 min_df=1, ngram_range=(1, 1), norm='l2',\n",
       "                                 preprocessor=None, smooth_idf=True,\n",
       "                                 stop_words=None, strip_accents=None,\n",
       "                                 sublinear_tf=False,\n",
       "                                 token_pattern='(?u)\\\\b\\\\w\\\\w+\\\\b',\n",
       "                                 tokenizer=None, use_idf=True,\n",
       "                                 vocabulary=None)),\n",
       "                ('lr',\n",
       "                 LogisticRegression(C=1.0, class_weight=None, dual=False,\n",
       "                                    fit_intercept=True, intercept_scaling=1,\n",
       "                                    l1_ratio=None, max_iter=100,\n",
       "                                    multi_class='warn', n_jobs=None,\n",
       "                                    penalty='l2', random_state=None,\n",
       "                                    solver='warn', tol=0.0001, verbose=0,\n",
       "                                    warm_start=False))],\n",
       "         verbose=False)"
      ]
     },
     "execution_count": 98,
     "metadata": {},
     "output_type": "execute_result"
    }
   ],
   "source": [
    "nb_model = Pipeline([('tfidf', TfidfVectorizer()),\n",
    "                    ('nb', MultinomialNB())])\n",
    "\n",
    "svc_model = Pipeline([('tfidf', TfidfVectorizer()),\n",
    "                     ('svc', SVC())])\n",
    "\n",
    "dtc_model = Pipeline([('tfidf', TfidfVectorizer()),\n",
    "                     ('dtc', DecisionTreeClassifier())])\n",
    "\n",
    "logr_model = Pipeline([('tfidf', TfidfVectorizer()),\n",
    "                    ('lr', LogisticRegression())])\n",
    "\n",
    "nb_model.fit(X_train_pre_gen_classification, y_train_classfication)\n",
    "svc_model.fit(X_train_pre_gen_classification, y_train_classfication)\n",
    "dtc_model.fit(X_train_pre_gen_classification, y_train_classfication)\n",
    "logr_model.fit(X_train_pre_gen_classification, y_train_classfication)"
   ]
  },
  {
   "cell_type": "markdown",
   "metadata": {},
   "source": [
    "## 11.4 Evaluation des modèles\n",
    "Execpté pour le DecisionTreeClassfifier on voit que le rappel est trop haut par rapport à la précision. Il faudrait donc ajuster le seuil pour diminuer le rappel et augmenter la précision. On constate cepandant que les modèles ont quand même un bon score d'exactitude."
   ]
  },
  {
   "cell_type": "code",
   "execution_count": 99,
   "metadata": {},
   "outputs": [
    {
     "name": "stdout",
     "output_type": "stream",
     "text": [
      "Accuracy for Naive Bayes : 0.8015414258188824\n",
      "Precision for Naive Bayes : 0.7666666666666667\n",
      "Recall for Naive Bayes : 0.9847094801223242\n",
      "\n",
      "\n",
      "Accuracy for SVC : 0.630057803468208\n",
      "Precision for naive SVC : 0.630057803468208\n",
      "Recall for SVC : 1.0\n",
      "\n",
      "\n",
      "Accuracy for Decision Tree Classifier : 0.791907514450867\n",
      "Precision for Decision Tree Classifier : 0.8173913043478261\n",
      "Recall for Decision Tree Classifier : 0.8623853211009175\n",
      "\n",
      "\n",
      "Accuracy for Logistic Regression : 0.8323699421965318\n",
      "Precision for Logistic Regression : 0.8\n",
      "Recall for Decision Logistic Regression : 0.9785932721712538\n",
      "\n",
      "\n"
     ]
    }
   ],
   "source": [
    "y_pred_nb = nb_model.predict(X_test_pre_gen_classification)\n",
    "print(\"Accuracy for Naive Bayes : {}\".format(metrics.accuracy_score(y_test_classification, y_pred_nb)))\n",
    "print(\"Precision for Naive Bayes : {}\".format(metrics.precision_score(y_test_classification, y_pred_nb)))\n",
    "print(\"Recall for Naive Bayes : {}\".format(metrics.recall_score(y_test_classification, y_pred_nb)))\n",
    "print(\"\\n\")\n",
    "\n",
    "y_pred_svc = svc_model.predict(X_test_pre_gen_classification)\n",
    "print(\"Accuracy for SVC : {}\".format(metrics.accuracy_score(y_test_classification, y_pred_svc)))\n",
    "print(\"Precision for naive SVC : {}\".format(metrics.precision_score(y_test_classification, y_pred_svc)))\n",
    "print(\"Recall for SVC : {}\".format(metrics.recall_score(y_test_classification, y_pred_svc)))\n",
    "print(\"\\n\")\n",
    "\n",
    "y_pred_dtc = dtc_model.predict(X_test_pre_gen_classification)\n",
    "print(\"Accuracy for Decision Tree Classifier : {}\".format(metrics.accuracy_score(y_test_classification, y_pred_dtc)))\n",
    "print(\"Precision for Decision Tree Classifier : {}\".format(metrics.precision_score(y_test_classification, y_pred_dtc)))\n",
    "print(\"Recall for Decision Tree Classifier : {}\".format(metrics.recall_score(y_test_classification, y_pred_dtc)))\n",
    "print(\"\\n\")\n",
    "\n",
    "y_pred_logr = logr_model.predict(X_test_pre_gen_classification)\n",
    "print(\"Accuracy for Logistic Regression : {}\".format(metrics.accuracy_score(y_test_classification, y_pred_logr)))\n",
    "print(\"Precision for Logistic Regression : {}\".format(metrics.precision_score(y_test_classification, y_pred_logr)))\n",
    "print(\"Recall for Decision Logistic Regression : {}\".format(metrics.recall_score(y_test_classification, y_pred_logr)))\n",
    "print(\"\\n\")"
   ]
  },
  {
   "cell_type": "code",
   "execution_count": 67,
   "metadata": {},
   "outputs": [],
   "source": [
    "ppi_headlines = pd.read_excel(\"dataset/ppi_headlines/200_headlines_polarity.xlsx\")"
   ]
  },
  {
   "cell_type": "code",
   "execution_count": 68,
   "metadata": {},
   "outputs": [],
   "source": [
    "del ppi_headlines['Date']"
   ]
  },
  {
   "cell_type": "code",
   "execution_count": 70,
   "metadata": {},
   "outputs": [],
   "source": [
    "neutral_index = []\n",
    "for index, row in ppi_headlines.iterrows():\n",
    "    if row[\"Polarisation\"] == \"positif\":\n",
    "        ppi_headlines.iloc[index][\"Polarisation\"] = 1\n",
    "    elif row[\"Polarisation\"] == \"négatif\":\n",
    "        ppi_headlines.iloc[index][\"Polarisation\"] = 0\n",
    "    elif row[\"Polarisation\"] == \"neutre\":\n",
    "        neutral_index.append(index)"
   ]
  },
  {
   "cell_type": "code",
   "execution_count": 71,
   "metadata": {},
   "outputs": [],
   "source": [
    "ppi_headlines = ppi_headlines.drop(neutral_index)"
   ]
  },
  {
   "cell_type": "code",
   "execution_count": 131,
   "metadata": {},
   "outputs": [],
   "source": [
    "ppi_pre = tp.fit_transform(ppi_headlines['Headline'])\n",
    "ppi_pre_vectors = sentences_to_w2v_small_vector(ppi_headlines['Headline'], mode=\"avg\")"
   ]
  },
  {
   "cell_type": "code",
   "execution_count": 144,
   "metadata": {},
   "outputs": [],
   "source": [
    "y_pred_ppi = rfr_model_w2v.predict(ppi_pre_vectors)"
   ]
  },
  {
   "cell_type": "code",
   "execution_count": 145,
   "metadata": {},
   "outputs": [],
   "source": [
    "y_pred_ppi = regression_score_to_classification(y_pred_ppi, 0)"
   ]
  },
  {
   "cell_type": "code",
   "execution_count": 146,
   "metadata": {},
   "outputs": [],
   "source": [
    "y_test_ppi = ppi_headlines[\"Polarisation\"].to_list()"
   ]
  },
  {
   "cell_type": "code",
   "execution_count": 147,
   "metadata": {},
   "outputs": [
    {
     "name": "stdout",
     "output_type": "stream",
     "text": [
      "Accuracy for PPI Headlines : 0.5223880597014925\n",
      "Precision for PPI Headlines : 0.5\n",
      "Recall for PPI Headlines : 0.53125\n",
      "\n",
      "\n"
     ]
    }
   ],
   "source": [
    "print(\"Accuracy for PPI Headlines : {}\".format(metrics.accuracy_score(y_test_ppi, y_pred_ppi)))\n",
    "print(\"Precision for PPI Headlines : {}\".format(metrics.precision_score(y_test_ppi, y_pred_ppi)))\n",
    "print(\"Recall for PPI Headlines : {}\".format(metrics.recall_score(y_test_ppi, y_pred_ppi)))\n",
    "print(\"\\n\")"
   ]
  },
  {
   "cell_type": "code",
   "execution_count": null,
   "metadata": {},
   "outputs": [],
   "source": []
  }
 ],
 "metadata": {
  "kernelspec": {
   "display_name": "Python 3",
   "language": "python",
   "name": "python3"
  },
  "language_info": {
   "codemirror_mode": {
    "name": "ipython",
    "version": 3
   },
   "file_extension": ".py",
   "mimetype": "text/x-python",
   "name": "python",
   "nbconvert_exporter": "python",
   "pygments_lexer": "ipython3",
   "version": "3.7.4"
  }
 },
 "nbformat": 4,
 "nbformat_minor": 2
}
