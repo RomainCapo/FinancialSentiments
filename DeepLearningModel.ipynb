{
 "cells": [
  {
   "cell_type": "code",
   "execution_count": 1,
   "metadata": {},
   "outputs": [
    {
     "name": "stderr",
     "output_type": "stream",
     "text": [
      "Using TensorFlow backend.\n"
     ]
    }
   ],
   "source": [
    "import re\n",
    "import os\n",
    "import string\n",
    "\n",
    "import pandas as pd\n",
    "import numpy as np\n",
    "from sklearn.model_selection import train_test_split\n",
    "import matplotlib.pyplot as plt\n",
    "\n",
    "import spacy\n",
    "from spacy.lang.en.stop_words import STOP_WORDS\n",
    "from spacy.lang.en import English\n",
    "import en_core_web_sm\n",
    "import gensim\n",
    "\n",
    "from sklearn.base import BaseEstimator, TransformerMixin\n",
    "from sklearn.metrics import confusion_matrix\n",
    "from sklearn.model_selection import StratifiedShuffleSplit\n",
    "\n",
    "from tensorflow.python.keras.preprocessing.text import Tokenizer\n",
    "from tensorflow.python.keras.preprocessing.sequence import pad_sequences\n",
    "from keras.models import Sequential\n",
    "from keras.layers import Dense, Embedding, LSTM, GRU\n",
    "from keras.layers.embeddings import Embedding\n",
    "from keras.layers.convolutional import Conv1D\n",
    "from keras.layers.pooling import GlobalMaxPooling1D\n",
    "from keras.layers import Flatten\n",
    "from keras.initializers import Constant\n",
    "\n",
    "%matplotlib inline"
   ]
  },
  {
   "cell_type": "code",
   "execution_count": 2,
   "metadata": {},
   "outputs": [],
   "source": [
    "dataset = pd.read_json('dataset/financialData.json')\n",
    "dataset.drop(dataset[(dataset.sentiment >= -0.1) & (dataset.sentiment <= 0.1)].index, inplace=True)"
   ]
  },
  {
   "cell_type": "code",
   "execution_count": 3,
   "metadata": {},
   "outputs": [
    {
     "data": {
      "text/plain": [
       "2583"
      ]
     },
     "execution_count": 3,
     "metadata": {},
     "output_type": "execute_result"
    }
   ],
   "source": [
    "len(dataset)"
   ]
  },
  {
   "cell_type": "code",
   "execution_count": 4,
   "metadata": {},
   "outputs": [],
   "source": [
    "X = np.array(dataset['title'])\n",
    "y = np.asarray([1 if s >= 0 else 0 for s in dataset['sentiment']])\n",
    "X_train, X_test, y_train, y_test = train_test_split(X, y, test_size=0.2, random_state=42)"
   ]
  },
  {
   "cell_type": "code",
   "execution_count": null,
   "metadata": {},
   "outputs": [],
   "source": []
  },
  {
   "cell_type": "code",
   "execution_count": 5,
   "metadata": {},
   "outputs": [],
   "source": [
    "tokenizer_obj =  Tokenizer()\n",
    "\n",
    "tokenizer_obj.fit_on_texts(dataset['title'])\n",
    "\n",
    "max_length = max([len(s.split()) for s in dataset['title']])\n",
    "\n",
    "vocab_size = len(tokenizer_obj.word_index) + 1\n",
    "\n",
    "X_train_tokens = tokenizer_obj.texts_to_sequences(X_train)\n",
    "X_test_tokens = tokenizer_obj.texts_to_sequences(X_test)\n",
    "\n",
    "X_train_pad = pad_sequences(X_train_tokens, maxlen=max_length, padding='post')\n",
    "X_test_pad = pad_sequences(X_test_tokens, maxlen=max_length, padding='post')"
   ]
  },
  {
   "cell_type": "code",
   "execution_count": 6,
   "metadata": {},
   "outputs": [],
   "source": [
    " EMBEDDING_DIM = 100\n",
    "model = Sequential()\n",
    "model.add(Embedding(vocab_size, EMBEDDING_DIM, input_length=max_length))\n",
    "model.add(LSTM(128))\n",
    "model.add(Dense(1, activation='sigmoid'))\n",
    "\n",
    "model.compile(loss='binary_crossentropy', optimizer='adam', metrics=['accuracy'])"
   ]
  },
  {
   "cell_type": "code",
   "execution_count": 13,
   "metadata": {},
   "outputs": [
    {
     "name": "stdout",
     "output_type": "stream",
     "text": [
      "Train on 2066 samples, validate on 517 samples\n",
      "Epoch 1/25\n",
      " - 1s - loss: 0.0214 - accuracy: 0.9918 - val_loss: 0.8305 - val_accuracy: 0.7756\n",
      "Epoch 2/25\n",
      " - 1s - loss: 0.0221 - accuracy: 0.9913 - val_loss: 0.7503 - val_accuracy: 0.7795\n",
      "Epoch 3/25\n",
      " - 1s - loss: 0.0254 - accuracy: 0.9908 - val_loss: 0.9637 - val_accuracy: 0.7737\n",
      "Epoch 4/25\n",
      " - 1s - loss: 0.0229 - accuracy: 0.9913 - val_loss: 0.8942 - val_accuracy: 0.7679\n",
      "Epoch 5/25\n",
      " - 1s - loss: 0.0245 - accuracy: 0.9908 - val_loss: 0.6961 - val_accuracy: 0.7776\n",
      "Epoch 6/25\n",
      " - 1s - loss: 0.0406 - accuracy: 0.9913 - val_loss: 1.0750 - val_accuracy: 0.7756\n",
      "Epoch 7/25\n",
      " - 1s - loss: 0.0413 - accuracy: 0.9903 - val_loss: 0.9879 - val_accuracy: 0.7679\n",
      "Epoch 8/25\n",
      " - 1s - loss: 0.0417 - accuracy: 0.9923 - val_loss: 0.8902 - val_accuracy: 0.7698\n",
      "Epoch 9/25\n",
      " - 1s - loss: 0.0386 - accuracy: 0.9908 - val_loss: 0.9010 - val_accuracy: 0.7621\n",
      "Epoch 10/25\n",
      " - 1s - loss: 0.0300 - accuracy: 0.9918 - val_loss: 0.7472 - val_accuracy: 0.7640\n",
      "Epoch 11/25\n",
      " - 1s - loss: 0.0240 - accuracy: 0.9927 - val_loss: 0.8758 - val_accuracy: 0.7718\n",
      "Epoch 12/25\n",
      " - 1s - loss: 0.0201 - accuracy: 0.9923 - val_loss: 0.9602 - val_accuracy: 0.7795\n",
      "Epoch 13/25\n",
      " - 1s - loss: 0.0207 - accuracy: 0.9913 - val_loss: 0.9119 - val_accuracy: 0.7776\n",
      "Epoch 14/25\n",
      " - 1s - loss: 0.0182 - accuracy: 0.9923 - val_loss: 0.9323 - val_accuracy: 0.7737\n",
      "Epoch 15/25\n",
      " - 1s - loss: 0.0212 - accuracy: 0.9913 - val_loss: 0.8061 - val_accuracy: 0.7795\n",
      "Epoch 16/25\n",
      " - 1s - loss: 0.0175 - accuracy: 0.9918 - val_loss: 0.8799 - val_accuracy: 0.7814\n",
      "Epoch 17/25\n",
      " - 1s - loss: 0.0170 - accuracy: 0.9923 - val_loss: 0.9703 - val_accuracy: 0.7834\n",
      "Epoch 18/25\n",
      " - 1s - loss: 0.0154 - accuracy: 0.9923 - val_loss: 0.9198 - val_accuracy: 0.7853\n",
      "Epoch 19/25\n",
      " - 1s - loss: 0.0150 - accuracy: 0.9918 - val_loss: 0.9081 - val_accuracy: 0.7853\n",
      "Epoch 20/25\n",
      " - 1s - loss: 0.0140 - accuracy: 0.9918 - val_loss: 0.9162 - val_accuracy: 0.7814\n",
      "Epoch 21/25\n",
      " - 1s - loss: 0.0124 - accuracy: 0.9913 - val_loss: 1.0768 - val_accuracy: 0.7776\n",
      "Epoch 22/25\n",
      " - 1s - loss: 0.0126 - accuracy: 0.9923 - val_loss: 0.9822 - val_accuracy: 0.7756\n",
      "Epoch 23/25\n",
      " - 1s - loss: 0.0118 - accuracy: 0.9932 - val_loss: 1.2258 - val_accuracy: 0.7756\n",
      "Epoch 24/25\n",
      " - 1s - loss: 0.0139 - accuracy: 0.9918 - val_loss: 0.9108 - val_accuracy: 0.7814\n",
      "Epoch 25/25\n",
      " - 1s - loss: 0.0120 - accuracy: 0.9923 - val_loss: 1.2689 - val_accuracy: 0.7795\n"
     ]
    }
   ],
   "source": [
    "history = model.fit(X_train_pad, y_train, batch_size=128, epochs=25, verbose=2, validation_data=(X_test_pad, y_test))"
   ]
  },
  {
   "cell_type": "code",
   "execution_count": 14,
   "metadata": {},
   "outputs": [
    {
     "data": {
      "image/png": "[encoded data removed]",
      "text/plain": [
       "<Figure size 432x288 with 1 Axes>"
      ]
     },
     "metadata": {
      "needs_background": "light"
     },
     "output_type": "display_data"
    },
    {
     "data": {
      "image/png": "[encoded data removed]",
      "text/plain": [
       "<Figure size 432x288 with 1 Axes>"
      ]
     },
     "metadata": {
      "needs_background": "light"
     },
     "output_type": "display_data"
    }
   ],
   "source": [
    " plt.plot(history.history['accuracy'])\n",
    "plt.plot(history.history['val_accuracy'])\n",
    "\n",
    "plt.title('model accuracy')\n",
    "plt.ylabel('accuracy')\n",
    "plt.xlabel('epoch')\n",
    "plt.legend(['train','test'], loc = 'upper left')\n",
    "plt.show()\n",
    "\n",
    "plt.plot(history.history['loss'])\n",
    "plt.plot(history.history['val_loss'])\n",
    "\n",
    "plt.title('model loss')\n",
    "plt.ylabel('loss')\n",
    "plt.xlabel('epoch')\n",
    "plt.legend(['train','test'], loc = 'upper left')\n",
    "plt.show()"
   ]
  },
  {
   "cell_type": "code",
   "execution_count": 15,
   "metadata": {},
   "outputs": [
    {
     "data": {
      "text/plain": [
       "array([[110,  35],\n",
       "       [ 79, 293]], dtype=int64)"
      ]
     },
     "execution_count": 15,
     "metadata": {},
     "output_type": "execute_result"
    }
   ],
   "source": [
    "y_pred = model.predict_classes(X_test_pad)\n",
    "confusion_matrix(y_pred ,y_test)"
   ]
  },
  {
   "cell_type": "code",
   "execution_count": 10,
   "metadata": {},
   "outputs": [],
   "source": [
    "def getModelError(y_pred, y_test, X_test):\n",
    "    X_test_list = X_test.tolist()\n",
    "    falsePositiveSentence = []\n",
    "    falseNegativeSentence = []\n",
    "    for i in range(0,len(y_pred)):\n",
    "        if y_test[i] == 1 and y_pred[i] == 0:\n",
    "            falsePositiveSentence.append(X_test_list[i])\n",
    "        elif y_test[i] == 0 and y_pred[i] == 1:\n",
    "            falseNegativeSentence.append(X_test_list[i])\n",
    "    return (falsePositiveSentence, falseNegativeSentence)"
   ]
  },
  {
   "cell_type": "code",
   "execution_count": 11,
   "metadata": {},
   "outputs": [],
   "source": [
    "falsePositive, falseNegative = getModelError(y_pred, y_test, X_test)"
   ]
  },
  {
   "cell_type": "code",
   "execution_count": 12,
   "metadata": {},
   "outputs": [
    {
     "data": {
      "text/plain": [
       "['watch $TSLA > 34.5 ',\n",
       " 'Eli Lilly & Co. (LLY) Has Broken Out To A New High On AstraZeneca Collaboration',\n",
       " 'UK MORNING BRIEFING: Sky And Hargreaves Lansdown Bookend FTSE 100',\n",
       " \"Britain's FTSE steadies below record high, BHP gains\",\n",
       " 'lets see 14+ today ',\n",
       " 'short didnt work out ',\n",
       " '$FCX +3.53% ',\n",
       " 'ses warrants to buy $1.17B & 14.97% of AmerisourceBergen(PBR16) shares ',\n",
       " 'Institutions seem to like this class of stocks ',\n",
       " 'CompaniesUnilever sales lifted by ice cream in soft economy',\n",
       " 'hanging tough in down market due to analyst upgrades Up almost 3% ',\n",
       " 'magically bought at under a dollar ',\n",
       " 'starting to show some relative strength ',\n",
       " 'FTSE 100 movers: BG Group leads the charge as resource stocks jump',\n",
       " 'European shares fall on Chinese import data, SABMiller soars',\n",
       " \"ITV strike: Broadcaster's revenue soars but staff walkout for a piece of the action\",\n",
       " '$SPY up only 0.6% Still holding ',\n",
       " 'UPDATE: CIB, Legal & General Sell Egyptian Life Joint Venture To AXA',\n",
       " '$CAFN Cachet Financial Solutions Surging Forward today post earnings Up +13.26% ',\n",
       " 'may be ripe for a #takeover targe ',\n",
       " \"UPDATE 1-Britain's Tullow says makes new oil find in Kenya\",\n",
       " 'Cisco-Synata deal is a game-changer $CSCO ',\n",
       " 'L&G fund arm, Nikko Asset Management sign bond fund distribution deal',\n",
       " 'Daily Mail And General Trust eyeing Yahoo! ',\n",
       " 'Institutions seem to like this class of stocks ',\n",
       " 'support 212.93 no support to 209.45 ',\n",
       " 'RBI surprises Street; Sensex pares gains after hitting mount 30k',\n",
       " 'Associated British Foods helps FTSE to rebound',\n",
       " 'Going to be EPIC ',\n",
       " 'trading at all-time high strong earnings report ',\n",
       " 'Barclays signs on to Apple Pay ',\n",
       " 'Earnings will drive stock prices ',\n",
       " 'News FeedFTSE 100 movers: LSE surges as ICE says mulling offer; Ashtead and Barclays tank',\n",
       " 'mentioned as potential suitee, suitor ',\n",
       " \"Britain's FTSE steadies, supported by Dixons Carphone\",\n",
       " 'EU regulator backs approval for GSK injectable asthma drug',\n",
       " 'UPDATE 1-EU regulator backs approval for GSK injectable asthma drug',\n",
       " 'EU drops Shell, BP, Statoil from ethanol benchmark investigation',\n",
       " 'looks really interesting on drop grabbed some options and stock enough tme before earnings to grow the stock growth all sectors ',\n",
       " 'Companies Thetrainline.com announces arrival of London IPO',\n",
       " 'earnings were good ',\n",
       " 'EU drops Shell, BP, Statoil from ethanol benchmark investigation',\n",
       " 'accumulating more $BSMX on any pullback ',\n",
       " \"Tesco to 'axe 10000 jobs' in 'simplification' drive to cut costs by 30 per cent\",\n",
       " \"isn't going anywhere buying \",\n",
       " 'not selling before ',\n",
       " 'BP wins right to appeal some Gulf spill damages claims',\n",
       " 'Worldpay readies for Ã‚Â£6bn London float',\n",
       " 'need to break $4 again ',\n",
       " 'EU drops Shell, BP, Statoil from ethanol benchmark investigation',\n",
       " 'RBS invites pitches for broker role ahead of privatisation - sources',\n",
       " 'Problem for shorts every fund out there will want to buy this thing on a a pullback ']"
      ]
     },
     "execution_count": 12,
     "metadata": {},
     "output_type": "execute_result"
    }
   ],
   "source": [
    "falsePositive"
   ]
  },
  {
   "cell_type": "code",
   "execution_count": null,
   "metadata": {},
   "outputs": [],
   "source": []
  }
 ],
 "metadata": {
  "kernelspec": {
   "display_name": "Python 3",
   "language": "python",
   "name": "python3"
  },
  "language_info": {
   "codemirror_mode": {
    "name": "ipython",
    "version": 3
   },
   "file_extension": ".py",
   "mimetype": "text/x-python",
   "name": "python",
   "nbconvert_exporter": "python",
   "pygments_lexer": "ipython3",
   "version": "3.7.1"
  }
 },
 "nbformat": 4,
 "nbformat_minor": 2
}
