{
 "cells": [
  {
   "cell_type": "code",
   "execution_count": 41,
   "metadata": {},
   "outputs": [],
   "source": [
    "import pandas as pd\n",
    "import numpy as np\n",
    "from sklearn.model_selection import train_test_split\n",
    "\n",
    "from tensorflow.python.keras.preprocessing.text import Tokenizer\n",
    "from tensorflow.python.keras.preprocessing.sequence import pad_sequences\n",
    "from keras.models import Sequential\n",
    "from keras.layers import Dense, Embedding, LSTM, GRU\n",
    "from keras.layers.embeddings import Embedding\n",
    "from keras.layers.convolutional import Conv1D\n",
    "from keras.layers.pooling import GlobalMaxPooling1D\n",
    "from keras.layers import Flatten"
   ]
  },
  {
   "cell_type": "code",
   "execution_count": 42,
   "metadata": {},
   "outputs": [],
   "source": [
    "dataset = pd.read_json('dataset/financialData.json')\n",
    "X = dataset['title']\n",
    "y = np.asarray([1 if s >= 0 else 0 for s in dataset['sentiment']])\n",
    "X_train, X_test, y_train, y_test = train_test_split(X, y, test_size=0.33, random_state=42)"
   ]
  },
  {
   "cell_type": "code",
   "execution_count": 43,
   "metadata": {},
   "outputs": [],
   "source": [
    "tokenizer_obj =  Tokenizer()\n",
    "\n",
    "tokenizer_obj.fit_on_texts(dataset['title'])\n",
    "\n",
    "max_length = max([len(s.split()) for s in dataset['title']])\n",
    "\n",
    "vocab_size = len(tokenizer_obj.word_index) + 1\n",
    "\n",
    "X_train_tokens = tokenizer_obj.texts_to_sequences(X_train)\n",
    "X_test_tokens = tokenizer_obj.texts_to_sequences(X_test)\n",
    "\n",
    "X_train_pad = pad_sequences(X_train_tokens, maxlen=max_length, padding='post')\n",
    "X_test_pad = pad_sequences(X_test_tokens, maxlen=max_length, padding='post')"
   ]
  },
  {
   "cell_type": "code",
   "execution_count": 44,
   "metadata": {},
   "outputs": [],
   "source": [
    "EMBEDDING_DIM = 100\n",
    "model = Sequential()\n",
    "model.add(Embedding(vocab_size, EMBEDDING_DIM, input_length=max_length))\n",
    "model.add(LSTM(128))\n",
    "model.add(Dense(1, activation='sigmoid'))\n",
    "\n",
    "model.compile(loss='binary_crossentropy', optimizer='adam', metrics=['accuracy'])"
   ]
  },
  {
   "cell_type": "code",
   "execution_count": 45,
   "metadata": {},
   "outputs": [
    {
     "name": "stderr",
     "output_type": "stream",
     "text": [
      "C:\\ProgramData\\Anaconda3\\lib\\site-packages\\tensorflow_core\\python\\framework\\indexed_slices.py:424: UserWarning: Converting sparse IndexedSlices to a dense Tensor of unknown shape. This may consume a large amount of memory.\n",
      "  \"Converting sparse IndexedSlices to a dense Tensor of unknown shape. \"\n"
     ]
    },
    {
     "name": "stdout",
     "output_type": "stream",
     "text": [
      "Train on 1920 samples, validate on 946 samples\n",
      "Epoch 1/25\n",
      " - 1s - loss: 0.6707 - accuracy: 0.6344 - val_loss: 0.6580 - val_accuracy: 0.6374\n",
      "Epoch 2/25\n",
      " - 1s - loss: 0.6581 - accuracy: 0.6344 - val_loss: 0.6562 - val_accuracy: 0.6374\n",
      "Epoch 3/25\n",
      " - 1s - loss: 0.6568 - accuracy: 0.6344 - val_loss: 0.6533 - val_accuracy: 0.6374\n",
      "Epoch 4/25\n",
      " - 1s - loss: 0.6512 - accuracy: 0.6344 - val_loss: 0.6432 - val_accuracy: 0.6374\n",
      "Epoch 5/25\n",
      " - 1s - loss: 0.5227 - accuracy: 0.7156 - val_loss: 0.5761 - val_accuracy: 0.7664\n",
      "Epoch 6/25\n",
      " - 1s - loss: 0.2910 - accuracy: 0.8917 - val_loss: 0.6852 - val_accuracy: 0.7791\n",
      "Epoch 7/25\n",
      " - 1s - loss: 0.1789 - accuracy: 0.9438 - val_loss: 0.5347 - val_accuracy: 0.7664\n",
      "Epoch 8/25\n",
      " - 1s - loss: 0.1191 - accuracy: 0.9661 - val_loss: 0.7099 - val_accuracy: 0.7791\n",
      "Epoch 9/25\n",
      " - 1s - loss: 0.0813 - accuracy: 0.9776 - val_loss: 0.6400 - val_accuracy: 0.7822\n",
      "Epoch 10/25\n",
      " - 1s - loss: 0.0593 - accuracy: 0.9818 - val_loss: 0.8204 - val_accuracy: 0.7759\n",
      "Epoch 11/25\n",
      " - 1s - loss: 0.0545 - accuracy: 0.9807 - val_loss: 0.8634 - val_accuracy: 0.7791\n",
      "Epoch 12/25\n",
      " - 1s - loss: 0.0438 - accuracy: 0.9849 - val_loss: 0.7226 - val_accuracy: 0.7822\n",
      "Epoch 13/25\n",
      " - 1s - loss: 0.0451 - accuracy: 0.9849 - val_loss: 0.8502 - val_accuracy: 0.7896\n",
      "Epoch 14/25\n",
      " - 1s - loss: 0.0362 - accuracy: 0.9880 - val_loss: 0.7750 - val_accuracy: 0.7854\n",
      "Epoch 15/25\n",
      " - 1s - loss: 0.0335 - accuracy: 0.9865 - val_loss: 0.8864 - val_accuracy: 0.7822\n",
      "Epoch 16/25\n",
      " - 1s - loss: 0.0284 - accuracy: 0.9854 - val_loss: 1.0101 - val_accuracy: 0.7844\n",
      "Epoch 17/25\n",
      " - 1s - loss: 0.0315 - accuracy: 0.9875 - val_loss: 0.9030 - val_accuracy: 0.7706\n",
      "Epoch 18/25\n",
      " - 1s - loss: 0.0312 - accuracy: 0.9875 - val_loss: 1.0343 - val_accuracy: 0.7812\n",
      "Epoch 19/25\n",
      " - 1s - loss: 0.0381 - accuracy: 0.9880 - val_loss: 0.8480 - val_accuracy: 0.7886\n",
      "Epoch 20/25\n",
      " - 1s - loss: 0.0248 - accuracy: 0.9891 - val_loss: 0.8848 - val_accuracy: 0.7886\n",
      "Epoch 21/25\n",
      " - 1s - loss: 0.0252 - accuracy: 0.9880 - val_loss: 0.9916 - val_accuracy: 0.7833\n",
      "Epoch 22/25\n",
      " - 1s - loss: 0.0216 - accuracy: 0.9880 - val_loss: 0.9993 - val_accuracy: 0.7875\n",
      "Epoch 23/25\n",
      " - 1s - loss: 0.0226 - accuracy: 0.9891 - val_loss: 0.9372 - val_accuracy: 0.7833\n",
      "Epoch 24/25\n",
      " - 1s - loss: 0.0209 - accuracy: 0.9880 - val_loss: 1.0003 - val_accuracy: 0.7886\n",
      "Epoch 25/25\n",
      " - 1s - loss: 0.0197 - accuracy: 0.9891 - val_loss: 0.9920 - val_accuracy: 0.7844\n"
     ]
    },
    {
     "data": {
      "text/plain": [
       "<keras.callbacks.callbacks.History at 0x1d97e010f60>"
      ]
     },
     "execution_count": 45,
     "metadata": {},
     "output_type": "execute_result"
    }
   ],
   "source": [
    "model.fit(X_train_pad, y_train, batch_size=256, epochs=25, verbose=2, validation_data=(X_test_pad, y_test))"
   ]
  },
  {
   "cell_type": "code",
   "execution_count": 46,
   "metadata": {},
   "outputs": [
    {
     "name": "stdout",
     "output_type": "stream",
     "text": [
      "946/946 [==============================] - 0s 140us/step\n",
      "Test Score: 0.9919893032148575\n",
      "Test Accuracy: 0.7843551635742188\n"
     ]
    }
   ],
   "source": [
    "score = model.evaluate(X_test_pad, y_test, verbose=1)\n",
    "print(\"Test Score:\", score[0])\n",
    "print(\"Test Accuracy:\", score[1])"
   ]
  },
  {
   "cell_type": "code",
   "execution_count": null,
   "metadata": {},
   "outputs": [],
   "source": []
  }
 ],
 "metadata": {
  "kernelspec": {
   "display_name": "Python 3",
   "language": "python",
   "name": "python3"
  },
  "language_info": {
   "codemirror_mode": {
    "name": "ipython",
    "version": 3
   },
   "file_extension": ".py",
   "mimetype": "text/x-python",
   "name": "python",
   "nbconvert_exporter": "python",
   "pygments_lexer": "ipython3",
   "version": "3.7.1"
  }
 },
 "nbformat": 4,
 "nbformat_minor": 2
}
