{
 "cells": [
  {
   "cell_type": "markdown",
   "metadata": {},
   "source": [
    "# Projet P3\n",
    "\n",
    "`Auteur` : Romain Capocasale (INF3dlm-a)\n",
    "\n",
    "`Date` : 01.10.2019\n",
    "\n",
    "`Version de python` : 3.7.1\n",
    "\n",
    "`Description` : Notebook python avec les techniques de DeepLearning"
   ]
  },
  {
   "cell_type": "markdown",
   "metadata": {},
   "source": [
    "# Importation"
   ]
  },
  {
   "cell_type": "code",
   "execution_count": 42,
   "metadata": {},
   "outputs": [],
   "source": [
    "%matplotlib inline\n",
    "\n",
    "import re\n",
    "import os\n",
    "import string\n",
    "import pandas as pd\n",
    "import numpy as np\n",
    "import matplotlib.pyplot as plt\n",
    "import spacy\n",
    "from spacy.lang.en.stop_words import STOP_WORDS\n",
    "from spacy.lang.en import English\n",
    "import en_core_web_sm\n",
    "import gensim\n",
    "\n",
    "from sklearn.base import BaseEstimator, TransformerMixin\n",
    "from sklearn.metrics import confusion_matrix\n",
    "from sklearn.model_selection import StratifiedShuffleSplit\n",
    "from sklearn.model_selection import train_test_split\n",
    "\n",
    "from tensorflow.python.keras.preprocessing.text import Tokenizer\n",
    "from tensorflow.python.keras.preprocessing.sequence import pad_sequences\n",
    "from keras.models import Sequential\n",
    "from keras.layers import Dense, Embedding, LSTM, GRU\n",
    "from keras.layers.embeddings import Embedding\n",
    "from keras.layers.convolutional import Conv1D\n",
    "from keras.layers.pooling import GlobalMaxPool1D\n",
    "from keras.layers import Flatten\n",
    "from keras.initializers import Constant"
   ]
  },
  {
   "cell_type": "markdown",
   "metadata": {},
   "source": [
    "# Chragement du jeu de données"
   ]
  },
  {
   "cell_type": "code",
   "execution_count": 85,
   "metadata": {},
   "outputs": [],
   "source": [
    "dataset = pd.read_json('dataset/financialData.json')"
   ]
  },
  {
   "cell_type": "markdown",
   "metadata": {},
   "source": [
    "# Suppression des phrases avec un sentiment entre -0.1 et 0.1\n",
    "Les phrases avec un sentiment compris entre -0.1 et 0.1 influence en mal la précision. En effet, si le système prédit un sentiment de 0.05 pour une phrase alors que son sentiment réel et de -0.05 la prédiction sera considéré come fausse. Alors qu'en réalité l'erreur commise est toute petite (0.10).\n",
    "On voit que l'on perd 283 phrase a cause de ce processus."
   ]
  },
  {
   "cell_type": "code",
   "execution_count": 86,
   "metadata": {},
   "outputs": [
    {
     "name": "stdout",
     "output_type": "stream",
     "text": [
      "size before : 2866\n",
      "size after : 2583\n"
     ]
    }
   ],
   "source": [
    "print(\"size before : {}\".format(len(dataset)))\n",
    "dataset.drop(dataset[(dataset.sentiment >= -0.1) & (dataset.sentiment <= 0.1)].index, inplace=True)\n",
    "print(\"size after : {}\".format(len(dataset)))"
   ]
  },
  {
   "cell_type": "markdown",
   "metadata": {},
   "source": [
    "# Séparation des observations et des étiquettes\n",
    "Le sentiment est une valeur continue comprise entre -1 et 1. On transforme cette intervale continue en 2 valeurs discrete 0 et 1. Le modèle sera entrainé comme un classificateur, 0 pour une phrase négative et 1 pour une phrase positive."
   ]
  },
  {
   "cell_type": "code",
   "execution_count": 9,
   "metadata": {},
   "outputs": [],
   "source": [
    "X = np.array(dataset['title'])\n",
    "y = np.array([1 if s >= 0 else 0 for s in dataset['sentiment']])\n",
    "\n",
    "sss = StratifiedShuffleSplit(n_splits=1, test_size=0.2, random_state=0)\n",
    "for train_index, test_index in sss.split(X, y):\n",
    "    X_train, X_test = X[train_index], X[test_index]\n",
    "    y_train, y_test = y[train_index], y[test_index]"
   ]
  },
  {
   "cell_type": "code",
   "execution_count": 11,
   "metadata": {},
   "outputs": [
    {
     "name": "stdout",
     "output_type": "stream",
     "text": [
      "Train set\n",
      "\tSize : 2066\n",
      "\tNumber of \"pos\" : 1301 (62.97%)\n",
      "\tNumber of \"neg\" : 765 (37.03%)\n",
      "\tRatio \"pos\"/\"neg\" : 1.70065\n",
      "Test set\n",
      "\tSize : 517\n",
      "\tNumber of \"pos\" : 326 (63.06%)\n",
      "\tNumber of \"neg\" : 191 (36.94%)\n",
      "\tRatio \"pos\"/\"neg\" : 1.70681\n"
     ]
    }
   ],
   "source": [
    "size, a_size, b_size = len(X_train), list(y_train).count(1), list(y_train).count(0)\n",
    "print('Train set')\n",
    "print('\\tSize :', size)\n",
    "print(f'\\tNumber of \"pos\" : {a_size} ({\"%.2f\" % (100*a_size/size)}%)')\n",
    "print(f'\\tNumber of \"neg\" : {b_size} ({\"%.2f\" % (100*b_size/size)}%)')\n",
    "print(f'\\tRatio \"pos\"/\"neg\" : {\"%.5f\" % (a_size/b_size)}')\n",
    "\n",
    "size, a_size, b_size =  len(X_test), list(y_test).count(1), list(y_test).count(0)\n",
    "print('Test set')\n",
    "print(f'\\tSize : {size}')\n",
    "print(f'\\tNumber of \"pos\" : {a_size} ({\"%.2f\" % (100*a_size/size)}%)')\n",
    "print(f'\\tNumber of \"neg\" : {b_size} ({\"%.2f\" % (100*b_size/size)}%)')\n",
    "print(f'\\tRatio \"pos\"/\"neg\" : {\"%.5f\" % (a_size/b_size)}')"
   ]
  },
  {
   "cell_type": "markdown",
   "metadata": {},
   "source": [
    "Le découpage entre les valeurs d'entrainement et de test sont effectués de manière stratifié. Cela veut dire qu'il y aura la meme répartion de phrase positive et négative entre le jeu d'entrainement et celui de test."
   ]
  },
  {
   "cell_type": "markdown",
   "metadata": {},
   "source": [
    "# Traitement du texte\n",
    "Le traitement du texte est effectué avec la librairie spacy. Les opérations suivante sont effectués sur les phrases:\n",
    "* conservation uniquement des verbes, averbes, noms et adjectifs\n",
    "* lemmantization des mots\n",
    "* suppresion de la ponctuation\n",
    "* suppresion des mots ne contenant pas des charactère alphanumérique\n",
    "* suppresion des mots commencants par un $"
   ]
  },
  {
   "cell_type": "code",
   "execution_count": 50,
   "metadata": {},
   "outputs": [],
   "source": [
    "reg_alpha = re.compile(r\"^[A-Za-z]*$\")\n",
    "reg_remove_word_with_dollar = re.compile(r\"\\$\\S*\")\n",
    "nlp = spacy.load('en')\n",
    "good_words = ['VERB', 'ADV', 'NOUN', 'ADJ']\n",
    "\n",
    "def text_preprocessor(sentence):\n",
    "    final_sentence = []\n",
    "    for word in nlp(sentence):\n",
    "        if word.pos_ not in good_words:\n",
    "            continue \n",
    "            \n",
    "        lemma_word = word.lemma_.lower()\n",
    "        if (lemma_word not in string.punctuation) and reg_alpha.match(lemma_word) and not reg_remove_word_with_dollar.match(lemma_word):\n",
    "            final_sentence.append(lemma_word)\n",
    "    return ' '.join(final_sentence)"
   ]
  },
  {
   "cell_type": "code",
   "execution_count": 51,
   "metadata": {},
   "outputs": [],
   "source": [
    "X_train_preprocessed = []\n",
    "for sentence in X_train:\n",
    "    X_train_preprocessed.append(text_preprocessor(sentence))\n",
    "    \n",
    "X_test_preprocessed = []\n",
    "for sentence in X_test:\n",
    "    X_test_preprocessed.append(text_preprocessor(sentence))"
   ]
  },
  {
   "cell_type": "markdown",
   "metadata": {},
   "source": [
    "# Word embedding"
   ]
  },
  {
   "cell_type": "code",
   "execution_count": 52,
   "metadata": {},
   "outputs": [],
   "source": [
    "tokenizer_obj =  Tokenizer()\n",
    "\n",
    "tokenizer_obj.fit_on_texts(dataset['title'])\n",
    "\n",
    "max_length = max([len(s.split()) for s in dataset['title']])\n",
    "\n",
    "vocab_size = len(tokenizer_obj.word_index) + 1\n",
    "\n",
    "X_train_tokens = tokenizer_obj.texts_to_sequences(X_train_preprocessed)\n",
    "X_test_tokens = tokenizer_obj.texts_to_sequences(X_test_preprocessed)\n",
    "\n",
    "X_train_pad = pad_sequences(X_train_tokens, maxlen=max_length, padding='post')\n",
    "X_test_pad = pad_sequences(X_test_tokens, maxlen=max_length, padding='post')"
   ]
  },
  {
   "cell_type": "markdown",
   "metadata": {},
   "source": [
    "# Création du réseau de neuronne\n",
    "Réseau de neuronne de type LSTM inspiré du tutorial : https://towardsdatascience.com/machine-learning-word-embedding-sentiment-classification-using-keras-b83c28087456"
   ]
  },
  {
   "cell_type": "code",
   "execution_count": 89,
   "metadata": {},
   "outputs": [],
   "source": [
    "EMBEDDING_DIM = 100\n",
    "model = Sequential()\n",
    "model.add(Embedding(vocab_size, EMBEDDING_DIM, input_length=max_length))\n",
    "model.add(LSTM(128))\n",
    "model.add(Dense(1, activation='sigmoid'))\n",
    "\n",
    "model.compile(loss='binary_crossentropy', optimizer='adam', metrics=['accuracy'])"
   ]
  },
  {
   "cell_type": "markdown",
   "metadata": {},
   "source": [
    "# Entrainement du modèle\n",
    "Le modèle est entrainé avec des echantillons de 256 données, avec 25 epochs"
   ]
  },
  {
   "cell_type": "code",
   "execution_count": 90,
   "metadata": {},
   "outputs": [
    {
     "name": "stderr",
     "output_type": "stream",
     "text": [
      "C:\\ProgramData\\Anaconda3\\lib\\site-packages\\tensorflow_core\\python\\framework\\indexed_slices.py:424: UserWarning: Converting sparse IndexedSlices to a dense Tensor of unknown shape. This may consume a large amount of memory.\n",
      "  \"Converting sparse IndexedSlices to a dense Tensor of unknown shape. \"\n"
     ]
    },
    {
     "name": "stdout",
     "output_type": "stream",
     "text": [
      "Train on 2066 samples, validate on 517 samples\n",
      "Epoch 1/25\n",
      " - 1s - loss: 0.6689 - accuracy: 0.6297 - val_loss: 0.6609 - val_accuracy: 0.6306\n",
      "Epoch 2/25\n",
      " - 1s - loss: 0.6598 - accuracy: 0.6297 - val_loss: 0.6605 - val_accuracy: 0.6306\n",
      "Epoch 3/25\n",
      " - 1s - loss: 0.6592 - accuracy: 0.6297 - val_loss: 0.6602 - val_accuracy: 0.6306\n",
      "Epoch 4/25\n",
      " - 1s - loss: 0.6640 - accuracy: 0.6297 - val_loss: 0.6586 - val_accuracy: 0.6306\n",
      "Epoch 5/25\n",
      " - 1s - loss: 0.6599 - accuracy: 0.6297 - val_loss: 0.6615 - val_accuracy: 0.6306\n",
      "Epoch 6/25\n",
      " - 1s - loss: 0.6612 - accuracy: 0.6297 - val_loss: 0.6595 - val_accuracy: 0.6306\n",
      "Epoch 7/25\n",
      " - 1s - loss: 0.6592 - accuracy: 0.6297 - val_loss: 0.6581 - val_accuracy: 0.6306\n",
      "Epoch 8/25\n",
      " - 1s - loss: 0.6577 - accuracy: 0.6297 - val_loss: 0.6557 - val_accuracy: 0.6306\n",
      "Epoch 9/25\n",
      " - 1s - loss: 0.6088 - accuracy: 0.6418 - val_loss: 0.5257 - val_accuracy: 0.7369\n",
      "Epoch 10/25\n",
      " - 1s - loss: 0.4161 - accuracy: 0.8543 - val_loss: 0.5543 - val_accuracy: 0.7621\n",
      "Epoch 11/25\n",
      " - 1s - loss: 0.3113 - accuracy: 0.8863 - val_loss: 0.4957 - val_accuracy: 0.7834\n",
      "Epoch 12/25\n",
      " - 1s - loss: 0.2577 - accuracy: 0.9134 - val_loss: 0.5965 - val_accuracy: 0.7698\n",
      "Epoch 13/25\n",
      " - 1s - loss: 0.2492 - accuracy: 0.9148 - val_loss: 0.5240 - val_accuracy: 0.7950\n",
      "Epoch 14/25\n",
      " - 1s - loss: 0.1892 - accuracy: 0.9342 - val_loss: 0.6131 - val_accuracy: 0.7892\n",
      "Epoch 15/25\n",
      " - 1s - loss: 0.1794 - accuracy: 0.9371 - val_loss: 0.6013 - val_accuracy: 0.7969\n",
      "Epoch 16/25\n",
      " - 1s - loss: 0.1622 - accuracy: 0.9424 - val_loss: 0.6518 - val_accuracy: 0.7988\n",
      "Epoch 17/25\n",
      " - 1s - loss: 0.1460 - accuracy: 0.9477 - val_loss: 0.6618 - val_accuracy: 0.7911\n",
      "Epoch 18/25\n",
      " - 1s - loss: 0.1448 - accuracy: 0.9492 - val_loss: 0.6231 - val_accuracy: 0.7834\n",
      "Epoch 19/25\n",
      " - 1s - loss: 0.1267 - accuracy: 0.9521 - val_loss: 0.7102 - val_accuracy: 0.7950\n",
      "Epoch 20/25\n",
      " - 1s - loss: 0.1209 - accuracy: 0.9579 - val_loss: 0.7633 - val_accuracy: 0.7950\n",
      "Epoch 21/25\n",
      " - 1s - loss: 0.1715 - accuracy: 0.9429 - val_loss: 0.7289 - val_accuracy: 0.7872\n",
      "Epoch 22/25\n",
      " - 1s - loss: 0.1569 - accuracy: 0.9545 - val_loss: 0.7116 - val_accuracy: 0.7853\n",
      "Epoch 23/25\n",
      " - 1s - loss: 0.1249 - accuracy: 0.9613 - val_loss: 0.6843 - val_accuracy: 0.7911\n",
      "Epoch 24/25\n",
      " - 1s - loss: 0.1082 - accuracy: 0.9598 - val_loss: 0.8493 - val_accuracy: 0.7911\n",
      "Epoch 25/25\n",
      " - 1s - loss: 0.1090 - accuracy: 0.9584 - val_loss: 0.7875 - val_accuracy: 0.7911\n"
     ]
    }
   ],
   "source": [
    "history = model.fit(X_train_pad, y_train, batch_size=256, epochs=25, verbose=2, validation_data=(X_test_pad, y_test))"
   ]
  },
  {
   "cell_type": "markdown",
   "metadata": {},
   "source": [
    "# Evaluation du modèle\n",
    "On remarque que la précison sur le jeu d'entrainement est de 96 % et de 79 % sur le jeu de test. On peut donc déduire que le modéle surévalue. On peut également remarquer que la perte augemente sur le jeu de test alors qu'elle devait diminuer."
   ]
  },
  {
   "cell_type": "code",
   "execution_count": 98,
   "metadata": {},
   "outputs": [
    {
     "data": {
      "image/png": "[encoded data removed]",
      "text/plain": [
       "<Figure size 432x288 with 1 Axes>"
      ]
     },
     "metadata": {
      "needs_background": "light"
     },
     "output_type": "display_data"
    },
    {
     "data": {
      "image/png": "[encoded data removed]",
      "text/plain": [
       "<Figure size 432x288 with 1 Axes>"
      ]
     },
     "metadata": {
      "needs_background": "light"
     },
     "output_type": "display_data"
    },
    {
     "name": "stdout",
     "output_type": "stream",
     "text": [
      "Training Accuracy: 0.9632\n",
      "Testing Accuracy:  0.7911\n"
     ]
    }
   ],
   "source": [
    "plt.plot(history.history['accuracy'])\n",
    "plt.plot(history.history['val_accuracy'])\n",
    "\n",
    "plt.title('model accuracy')\n",
    "plt.ylabel('accuracy')\n",
    "plt.xlabel('epoch')\n",
    "plt.legend(['train','test'], loc = 'upper left')\n",
    "plt.show()\n",
    "\n",
    "plt.plot(history.history['loss'])\n",
    "plt.plot(history.history['val_loss'])\n",
    "\n",
    "plt.title('model loss')\n",
    "plt.ylabel('loss')\n",
    "plt.xlabel('epoch')\n",
    "plt.legend(['train','test'], loc = 'upper left')\n",
    "plt.show()\n",
    "\n",
    "loss, accuracy = model.evaluate(X_train_pad, y_train, verbose=False)\n",
    "print(\"Training Accuracy: {:.4f}\".format(accuracy))\n",
    "loss, accuracy = model.evaluate(X_test_pad, y_test, verbose=False)\n",
    "print(\"Testing Accuracy:  {:.4f}\".format(accuracy))"
   ]
  },
  {
   "cell_type": "markdown",
   "metadata": {},
   "source": [
    "## Matrice de confusion\n",
    "On peut voir que 132 phrases néagtaive on été correctement prédite, 49 phrase négative ont été incorectement prédite, 59 phrases psotive ont été incorectement prédite et 277 positive ont été corectment prédite."
   ]
  },
  {
   "cell_type": "code",
   "execution_count": 99,
   "metadata": {},
   "outputs": [
    {
     "data": {
      "text/plain": [
       "array([[132,  49],\n",
       "       [ 59, 277]], dtype=int64)"
      ]
     },
     "execution_count": 99,
     "metadata": {},
     "output_type": "execute_result"
    }
   ],
   "source": [
    "y_pred = model.predict_classes(X_test_pad)\n",
    "confusion_matrix(y_pred ,y_test)"
   ]
  },
  {
   "cell_type": "markdown",
   "metadata": {},
   "source": [
    "# Affichage des phrases incorrectement prédite\n",
    "la méthode `getModelError` retourne une liste des phrasesfaux postive et faux négative"
   ]
  },
  {
   "cell_type": "code",
   "execution_count": 102,
   "metadata": {},
   "outputs": [],
   "source": [
    "def getModelError(y_pred, y_test, X_test):\n",
    "'''\n",
    "This method return false positive sentence and false negative sentence\n",
    "\n",
    "y_pred -- predicted value\n",
    "y_test -- true test value\n",
    "X_test -- test sentence\n",
    "'''\n",
    "    X_test_list = X_test.tolist()\n",
    "    falsePositiveSentence = []\n",
    "    falseNegativeSentence = []\n",
    "    for i in range(0,len(y_pred)):\n",
    "        if y_test[i] == 1 and y_pred[i] == 0:\n",
    "            falsePositiveSentence.append(X_test_list[i])\n",
    "        elif y_test[i] == 0 and y_pred[i] == 1:\n",
    "            falseNegativeSentence.append(X_test_list[i])\n",
    "    return (falsePositiveSentence, falseNegativeSentence)"
   ]
  },
  {
   "cell_type": "code",
   "execution_count": 103,
   "metadata": {},
   "outputs": [],
   "source": [
    "falsePositive, falseNegative = getModelError(y_pred, y_test, X_test)"
   ]
  },
  {
   "cell_type": "code",
   "execution_count": 104,
   "metadata": {},
   "outputs": [
    {
     "name": "stdout",
     "output_type": "stream",
     "text": [
      "['CompaniesRBS pulls a surprise: a 27% jump in profits', 'BP wins right to appeal some Gulf spill damages claims', 'Diageo sells wine businesses for 320m pounds', 'GlaxoSmithKline beats profit forecasts despite Advair hit, lower margins', \"WPP's Sir Martin Sorrell is highest-paid FTSE 100 chief executive\", 'offers will take place until next week ', 'Friday Papers: Sir Philip Green sells BHS for Ã‚Â£1', 'amazon just signed a deal to lease 20 Boeing 767 cargo planes ', 'Travis Perkins to create 4000 jobs', 'CompaniesSanofi poaches immunology expert from AstraZeneca', 'shorts breakin flag ', 'Daily Mail And General Trust eyeing Yahoo! ', 'European shares fall on Chinese import data, SABMiller soars', 'acting tough on big volume against the tape ', 'Friday was last chance under $2 ', \"AstraZeneca's $727 million play to do away with chemotherapy\", 'Tesco share price closes higher as two more directors leave grocer', 'SSE share price: Peterhead station to supply voltage support to National Grid', 'Took a small position ', 'BHP Billiton to lower copper production costs', 'ABN Amro: Bank that brought down RBS poised for return to the market', 'Take it while you can ', \"reiterated 'Outperform' rating \", 'the selling days appear exhausted ', 'News breaks first and fastest on Twitter $TWTR ', 'Court tells states to leave $GOOG alone ', 'just about to break out to new highs lots of technicals looking great right now ', \"next resist is 64.40's \", 'weakness could be opportunity Good to sell Nov Put for re-entry ', 'buying opportunity ', 'Old Mutual share price: Wealth unit seen as blue-chip company', 'RSI is down at 20 ', 'Cures 96% of Hard-to-Treat ', 'Severn Trent profit up as customer complaints fall', 'Glencore Agrees to Sell Minority Stake in Agriculture Business', 'Expands Share Repurchase Program ', 'A Premier Retail Dividend Play ', 'reserves are in decline ', 'not dipping - testing the 200 day ma ', 'Shareholders welcome Marriott-Starwood deal ', 'Citigroup to Sell OneMain to Springleaf for $4.25 Billion', 'LSE gets Hong Kong regulatory nod to HK firms to become LSE members', '$SPY up only 0.6% Still holding ', 'next major platform ', 'breakout very likely ', \"UPDATE 1-BG Group's record output limits oil price fallout\", 'News FeedFTSE 100 movers: LSE surges as ICE says mulling offer; Ashtead and Barclays tank', 'shorts are trapped ', 'RBI surprises Street; Sensex pares gains after hitting mount 30k']\n"
     ]
    }
   ],
   "source": [
    "print(falsePositive)"
   ]
  },
  {
   "cell_type": "markdown",
   "metadata": {},
   "source": [
    "# Word2vec\n",
    "Word2vec consiste à rapprocher les mots semblables proche dans un espace de plusieurs dimension. J'ai téléchargé sur le site de glove un fichier contenant une matrice avec des valeurs précalculé pour plusieurs mots de la langues anglaises. Le code ci-dessous récupére cette matrice stocké dans le fichier `glove/glove.100d.txt` et garde seulement les mots présents dans notre jeu de données. "
   ]
  },
  {
   "cell_type": "code",
   "execution_count": 107,
   "metadata": {},
   "outputs": [],
   "source": [
    "def create_embedding_matrix(filepath, word_index, embedding_dim):\n",
    "    vocab_size = len(word_index) + 1  \n",
    "    embedding_matrix = np.zeros((vocab_size, embedding_dim))\n",
    "\n",
    "    with open(filepath,encoding='utf8') as f:\n",
    "        for line in f:\n",
    "            word, *vector = line.split()\n",
    "            if word in word_index:\n",
    "                idx = word_index[word] \n",
    "                embedding_matrix[idx] = np.array(\n",
    "                    vector, dtype=np.float32)[:embedding_dim]\n",
    "\n",
    "    return embedding_matrix"
   ]
  },
  {
   "cell_type": "code",
   "execution_count": 109,
   "metadata": {},
   "outputs": [],
   "source": [
    "embedding_matrix = create_embedding_matrix('glove/glove.6B.100d.txt', tokenizer_obj.word_index, EMBEDDING_DIM)"
   ]
  },
  {
   "cell_type": "code",
   "execution_count": 111,
   "metadata": {},
   "outputs": [
    {
     "name": "stdout",
     "output_type": "stream",
     "text": [
      "Percentage of the word of the dataset present in the matrix : 89.43323727185398\n"
     ]
    }
   ],
   "source": [
    "nonzero_elements = np.count_nonzero(np.count_nonzero(embedding_matrix, axis=1))\n",
    "print(\"Percentage of the word of the dataset present in the matrix : {} % \".format((nonzero_elements / vocab_size)*100))"
   ]
  },
  {
   "cell_type": "markdown",
   "metadata": {},
   "source": [
    "# Création du modèle\n",
    "Cette fois ci le modèle choisi est un réseau de neuronne récurrent inspiré du site : https://realpython.com/python-keras-text-classification/#what-is-a-word-embedding. La matrice de mot est également utilisé."
   ]
  },
  {
   "cell_type": "code",
   "execution_count": 118,
   "metadata": {},
   "outputs": [],
   "source": [
    "model = Sequential()\n",
    "model.add(Embedding(vocab_size, EMBEDDING_DIM, input_length=max_length, weights=[embedding_matrix]))\n",
    "model.add(GlobalMaxPool1D())\n",
    "model.add(Dense(10, activation='relu'))\n",
    "model.add(Dense(1, activation='sigmoid'))\n",
    "\n",
    "model.compile(loss='binary_crossentropy', optimizer='adam', metrics=['accuracy'])"
   ]
  },
  {
   "cell_type": "code",
   "execution_count": null,
   "metadata": {},
   "outputs": [],
   "source": []
  },
  {
   "cell_type": "code",
   "execution_count": 122,
   "metadata": {},
   "outputs": [
    {
     "name": "stdout",
     "output_type": "stream",
     "text": [
      "Train on 2066 samples, validate on 517 samples\n",
      "Epoch 1/25\n",
      " - 0s - loss: 0.0669 - accuracy: 0.9690 - val_loss: 0.6831 - val_accuracy: 0.7872\n",
      "Epoch 2/25\n",
      " - 0s - loss: 0.0665 - accuracy: 0.9710 - val_loss: 0.6912 - val_accuracy: 0.7853\n",
      "Epoch 3/25\n",
      " - 0s - loss: 0.0663 - accuracy: 0.9700 - val_loss: 0.6913 - val_accuracy: 0.7834\n",
      "Epoch 4/25\n",
      " - 0s - loss: 0.0656 - accuracy: 0.9685 - val_loss: 0.6937 - val_accuracy: 0.7853\n",
      "Epoch 5/25\n",
      " - 0s - loss: 0.0651 - accuracy: 0.9700 - val_loss: 0.6936 - val_accuracy: 0.7872\n",
      "Epoch 6/25\n",
      " - 0s - loss: 0.0644 - accuracy: 0.9700 - val_loss: 0.7021 - val_accuracy: 0.7853\n",
      "Epoch 7/25\n",
      " - 0s - loss: 0.0637 - accuracy: 0.9705 - val_loss: 0.7045 - val_accuracy: 0.7872\n",
      "Epoch 8/25\n",
      " - 0s - loss: 0.0629 - accuracy: 0.9695 - val_loss: 0.7080 - val_accuracy: 0.7853\n",
      "Epoch 9/25\n",
      " - 0s - loss: 0.0628 - accuracy: 0.9710 - val_loss: 0.7144 - val_accuracy: 0.7814\n",
      "Epoch 10/25\n",
      " - 0s - loss: 0.0622 - accuracy: 0.9710 - val_loss: 0.7113 - val_accuracy: 0.7814\n",
      "Epoch 11/25\n",
      " - 0s - loss: 0.0617 - accuracy: 0.9700 - val_loss: 0.7142 - val_accuracy: 0.7814\n",
      "Epoch 12/25\n",
      " - 0s - loss: 0.0613 - accuracy: 0.9719 - val_loss: 0.7220 - val_accuracy: 0.7795\n",
      "Epoch 13/25\n",
      " - 0s - loss: 0.0614 - accuracy: 0.9714 - val_loss: 0.7210 - val_accuracy: 0.7853\n",
      "Epoch 14/25\n",
      " - 0s - loss: 0.0607 - accuracy: 0.9710 - val_loss: 0.7214 - val_accuracy: 0.7814\n",
      "Epoch 15/25\n",
      " - 0s - loss: 0.0606 - accuracy: 0.9714 - val_loss: 0.7248 - val_accuracy: 0.7814\n",
      "Epoch 16/25\n",
      " - 0s - loss: 0.0596 - accuracy: 0.9710 - val_loss: 0.7304 - val_accuracy: 0.7853\n",
      "Epoch 17/25\n",
      " - 0s - loss: 0.0594 - accuracy: 0.9710 - val_loss: 0.7346 - val_accuracy: 0.7872\n",
      "Epoch 18/25\n",
      " - 0s - loss: 0.0591 - accuracy: 0.9705 - val_loss: 0.7416 - val_accuracy: 0.7814\n",
      "Epoch 19/25\n",
      " - 0s - loss: 0.0599 - accuracy: 0.9710 - val_loss: 0.7632 - val_accuracy: 0.7834\n",
      "Epoch 20/25\n",
      " - 0s - loss: 0.0611 - accuracy: 0.9710 - val_loss: 0.7460 - val_accuracy: 0.7814\n",
      "Epoch 21/25\n",
      " - 0s - loss: 0.0589 - accuracy: 0.9705 - val_loss: 0.7427 - val_accuracy: 0.7834\n",
      "Epoch 22/25\n",
      " - 0s - loss: 0.0585 - accuracy: 0.9700 - val_loss: 0.7443 - val_accuracy: 0.7892\n",
      "Epoch 23/25\n",
      " - 0s - loss: 0.0582 - accuracy: 0.9710 - val_loss: 0.7469 - val_accuracy: 0.7911\n",
      "Epoch 24/25\n",
      " - 0s - loss: 0.0577 - accuracy: 0.9710 - val_loss: 0.7512 - val_accuracy: 0.7930\n",
      "Epoch 25/25\n",
      " - 0s - loss: 0.0574 - accuracy: 0.9700 - val_loss: 0.7557 - val_accuracy: 0.7911\n"
     ]
    }
   ],
   "source": [
    "history = model.fit(X_train_pad, y_train,epochs=25,verbose=2,validation_data=(X_test_pad, y_test),batch_size=256)"
   ]
  },
  {
   "cell_type": "code",
   "execution_count": 123,
   "metadata": {},
   "outputs": [
    {
     "data": {
      "image/png": "[encoded data removed]",
      "text/plain": [
       "<Figure size 432x288 with 1 Axes>"
      ]
     },
     "metadata": {
      "needs_background": "light"
     },
     "output_type": "display_data"
    },
    {
     "data": {
      "image/png": "[encoded data removed]",
      "text/plain": [
       "<Figure size 432x288 with 1 Axes>"
      ]
     },
     "metadata": {
      "needs_background": "light"
     },
     "output_type": "display_data"
    },
    {
     "name": "stdout",
     "output_type": "stream",
     "text": [
      "Training Accuracy: 0.9710\n",
      "Testing Accuracy:  0.7911\n"
     ]
    }
   ],
   "source": [
    "plt.plot(history.history['accuracy'])\n",
    "plt.plot(history.history['val_accuracy'])\n",
    "\n",
    "plt.title('model accuracy')\n",
    "plt.ylabel('accuracy')\n",
    "plt.xlabel('epoch')\n",
    "plt.legend(['train','test'], loc = 'upper left')\n",
    "plt.show()\n",
    "\n",
    "plt.plot(history.history['loss'])\n",
    "plt.plot(history.history['val_loss'])\n",
    "\n",
    "plt.title('model loss')\n",
    "plt.ylabel('loss')\n",
    "plt.xlabel('epoch')\n",
    "plt.legend(['train','test'], loc = 'upper left')\n",
    "plt.show()\n",
    "\n",
    "loss, accuracy = model.evaluate(X_train_pad, y_train, verbose=False)\n",
    "print(\"Training Accuracy: {:.4f}\".format(accuracy))\n",
    "loss, accuracy = model.evaluate(X_test_pad, y_test, verbose=False)\n",
    "print(\"Testing Accuracy:  {:.4f}\".format(accuracy))"
   ]
  },
  {
   "cell_type": "code",
   "execution_count": null,
   "metadata": {},
   "outputs": [],
   "source": []
  }
 ],
 "metadata": {
  "kernelspec": {
   "display_name": "Python 3",
   "language": "python",
   "name": "python3"
  },
  "language_info": {
   "codemirror_mode": {
    "name": "ipython",
    "version": 3
   },
   "file_extension": ".py",
   "mimetype": "text/x-python",
   "name": "python",
   "nbconvert_exporter": "python",
   "pygments_lexer": "ipython3",
   "version": "3.7.1"
  }
 },
 "nbformat": 4,
 "nbformat_minor": 2
}
