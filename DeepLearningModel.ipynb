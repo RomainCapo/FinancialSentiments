{
 "cells": [
  {
   "cell_type": "code",
   "execution_count": 122,
   "metadata": {},
   "outputs": [],
   "source": [
    "import pandas as pd\n",
    "import numpy as np\n",
    "from sklearn.model_selection import train_test_split\n",
    "import matplotlib.pyplot as plt\n",
    "%matplotlib inline\n",
    "\n",
    "import string\n",
    "from spacy.lang.en.stop_words import STOP_WORDS\n",
    "from spacy.lang.en import English\n",
    "import en_core_web_sm\n",
    "import spacy\n",
    "from sklearn.base import BaseEstimator, TransformerMixin\n",
    "\n",
    "from tensorflow.python.keras.preprocessing.text import Tokenizer\n",
    "from tensorflow.python.keras.preprocessing.sequence import pad_sequences\n",
    "from keras.models import Sequential\n",
    "from keras.layers import Dense, Embedding, LSTM, GRU\n",
    "from keras.layers.embeddings import Embedding\n",
    "from keras.layers.convolutional import Conv1D\n",
    "from keras.layers.pooling import GlobalMaxPooling1D\n",
    "from keras.layers import Flatten\n",
    "from sklearn.metrics import confusion_matrix"
   ]
  },
  {
   "cell_type": "code",
   "execution_count": 123,
   "metadata": {},
   "outputs": [],
   "source": [
    "dataset = pd.read_json('dataset/financialData.json')\n",
    "dataset.drop(dataset[(dataset.sentiment >= -0.1) & (dataset.sentiment <= 0.1)].index, inplace=True)"
   ]
  },
  {
   "cell_type": "code",
   "execution_count": 124,
   "metadata": {},
   "outputs": [
    {
     "data": {
      "text/plain": [
       "2583"
      ]
     },
     "execution_count": 124,
     "metadata": {},
     "output_type": "execute_result"
    }
   ],
   "source": [
    "len(dataset)"
   ]
  },
  {
   "cell_type": "code",
   "execution_count": 125,
   "metadata": {},
   "outputs": [],
   "source": [
    "X = dataset['title']\n",
    "y = np.asarray([1 if s >= 0 else 0 for s in dataset['sentiment']])\n",
    "X_train, X_test, y_train, y_test = train_test_split(X, y, test_size=0.2, random_state=42)"
   ]
  },
  {
   "cell_type": "code",
   "execution_count": 126,
   "metadata": {},
   "outputs": [],
   "source": [
    "import re\n",
    "def text_preprocess(sentence):\n",
    "    sentence = re.sub('[^a-zA-Z]', ' ', sentence)\n",
    "    \n",
    "    #sentence = re.sub('\\$\\S*', ' ', sentence)\n",
    "\n",
    "    sentence = re.sub(r\"\\s+[a-zA-Z]\\s+\", ' ', sentence)\n",
    "\n",
    "    sentence = re.sub(r'\\s+', ' ', sentence)\n",
    "    return sentence"
   ]
  },
  {
   "cell_type": "code",
   "execution_count": null,
   "metadata": {},
   "outputs": [],
   "source": []
  },
  {
   "cell_type": "code",
   "execution_count": 127,
   "metadata": {},
   "outputs": [
    {
     "data": {
      "text/plain": [
       "656    Downbeaten stocks may be ripe for buys \n",
       "Name: title, dtype: object"
      ]
     },
     "execution_count": 127,
     "metadata": {},
     "output_type": "execute_result"
    }
   ],
   "source": [
    "X_train[:1]"
   ]
  },
  {
   "cell_type": "code",
   "execution_count": 128,
   "metadata": {},
   "outputs": [],
   "source": [
    "tokenizer_obj =  Tokenizer()\n",
    "\n",
    "tokenizer_obj.fit_on_texts(dataset['title'])\n",
    "\n",
    "max_length = max([len(s.split()) for s in dataset['title']])\n",
    "\n",
    "vocab_size = len(tokenizer_obj.word_index) + 1\n",
    "\n",
    "X_train_tokens = tokenizer_obj.texts_to_sequences(X_train)\n",
    "X_test_tokens = tokenizer_obj.texts_to_sequences(X_test)\n",
    "\n",
    "X_train_pad = pad_sequences(X_train_tokens, maxlen=max_length, padding='post')\n",
    "X_test_pad = pad_sequences(X_test_tokens, maxlen=max_length, padding='post')"
   ]
  },
  {
   "cell_type": "code",
   "execution_count": 129,
   "metadata": {},
   "outputs": [],
   "source": [
    "EMBEDDING_DIM = 100\n",
    "model = Sequential()\n",
    "model.add(Embedding(vocab_size, EMBEDDING_DIM, input_length=max_length))\n",
    "model.add(LSTM(128))\n",
    "model.add(Dense(1, activation='sigmoid'))\n",
    "\n",
    "model.compile(loss='binary_crossentropy', optimizer='adam', metrics=['accuracy'])"
   ]
  },
  {
   "cell_type": "code",
   "execution_count": 130,
   "metadata": {},
   "outputs": [
    {
     "name": "stderr",
     "output_type": "stream",
     "text": [
      "C:\\ProgramData\\Anaconda3\\lib\\site-packages\\tensorflow_core\\python\\framework\\indexed_slices.py:424: UserWarning: Converting sparse IndexedSlices to a dense Tensor of unknown shape. This may consume a large amount of memory.\n",
      "  \"Converting sparse IndexedSlices to a dense Tensor of unknown shape. \"\n"
     ]
    },
    {
     "name": "stdout",
     "output_type": "stream",
     "text": [
      "Train on 2066 samples, validate on 517 samples\n",
      "Epoch 1/30\n",
      " - 2s - loss: 0.6688 - accuracy: 0.6288 - val_loss: 0.6573 - val_accuracy: 0.6344\n",
      "Epoch 2/30\n",
      " - 1s - loss: 0.6621 - accuracy: 0.6288 - val_loss: 0.6592 - val_accuracy: 0.6344\n",
      "Epoch 3/30\n",
      " - 1s - loss: 0.6624 - accuracy: 0.6288 - val_loss: 0.6586 - val_accuracy: 0.6344\n",
      "Epoch 4/30\n",
      " - 1s - loss: 0.6571 - accuracy: 0.6288 - val_loss: 0.6523 - val_accuracy: 0.6344\n",
      "Epoch 5/30\n",
      " - 1s - loss: 0.5751 - accuracy: 0.6733 - val_loss: 0.5375 - val_accuracy: 0.7582\n",
      "Epoch 6/30\n",
      " - 1s - loss: 0.2824 - accuracy: 0.9046 - val_loss: 0.6784 - val_accuracy: 0.7911\n",
      "Epoch 7/30\n",
      " - 1s - loss: 0.1683 - accuracy: 0.9477 - val_loss: 0.5991 - val_accuracy: 0.7718\n",
      "Epoch 8/30\n",
      " - 1s - loss: 0.1376 - accuracy: 0.9603 - val_loss: 0.7762 - val_accuracy: 0.7718\n",
      "Epoch 9/30\n",
      " - 1s - loss: 0.0884 - accuracy: 0.9758 - val_loss: 0.9046 - val_accuracy: 0.7892\n",
      "Epoch 10/30\n",
      " - 1s - loss: 0.0635 - accuracy: 0.9826 - val_loss: 0.7837 - val_accuracy: 0.7795\n",
      "Epoch 11/30\n",
      " - 1s - loss: 0.0497 - accuracy: 0.9874 - val_loss: 0.7667 - val_accuracy: 0.7776\n",
      "Epoch 12/30\n",
      " - 1s - loss: 0.0393 - accuracy: 0.9898 - val_loss: 0.7048 - val_accuracy: 0.7834\n",
      "Epoch 13/30\n",
      " - 1s - loss: 0.0349 - accuracy: 0.9913 - val_loss: 0.8610 - val_accuracy: 0.7776\n",
      "Epoch 14/30\n",
      " - 1s - loss: 0.0307 - accuracy: 0.9913 - val_loss: 1.0346 - val_accuracy: 0.7795\n",
      "Epoch 15/30\n",
      " - 1s - loss: 0.0381 - accuracy: 0.9889 - val_loss: 0.6859 - val_accuracy: 0.7776\n",
      "Epoch 16/30\n",
      " - 1s - loss: 0.0356 - accuracy: 0.9918 - val_loss: 0.9819 - val_accuracy: 0.7698\n",
      "Epoch 17/30\n",
      " - 1s - loss: 0.0364 - accuracy: 0.9898 - val_loss: 0.9487 - val_accuracy: 0.7776\n",
      "Epoch 18/30\n",
      " - 1s - loss: 0.0308 - accuracy: 0.9903 - val_loss: 0.8068 - val_accuracy: 0.7776\n",
      "Epoch 19/30\n",
      " - 1s - loss: 0.0270 - accuracy: 0.9913 - val_loss: 0.8328 - val_accuracy: 0.7756\n",
      "Epoch 20/30\n",
      " - 1s - loss: 0.0284 - accuracy: 0.9923 - val_loss: 0.7842 - val_accuracy: 0.7853\n",
      "Epoch 21/30\n",
      " - 1s - loss: 0.0323 - accuracy: 0.9913 - val_loss: 0.8804 - val_accuracy: 0.7834\n",
      "Epoch 22/30\n",
      " - 1s - loss: 0.0493 - accuracy: 0.9894 - val_loss: 0.8942 - val_accuracy: 0.7872\n",
      "Epoch 23/30\n",
      " - 1s - loss: 0.0386 - accuracy: 0.9884 - val_loss: 0.9834 - val_accuracy: 0.7640\n",
      "Epoch 24/30\n",
      " - 1s - loss: 0.0314 - accuracy: 0.9923 - val_loss: 0.8655 - val_accuracy: 0.7814\n",
      "Epoch 25/30\n",
      " - 1s - loss: 0.0405 - accuracy: 0.9913 - val_loss: 0.6262 - val_accuracy: 0.7892\n",
      "Epoch 26/30\n",
      " - 1s - loss: 0.0448 - accuracy: 0.9913 - val_loss: 0.9819 - val_accuracy: 0.7814\n",
      "Epoch 27/30\n",
      " - 1s - loss: 0.0390 - accuracy: 0.9908 - val_loss: 1.1828 - val_accuracy: 0.7872\n",
      "Epoch 28/30\n",
      " - 1s - loss: 0.0361 - accuracy: 0.9918 - val_loss: 0.9763 - val_accuracy: 0.7834\n",
      "Epoch 29/30\n",
      " - 1s - loss: 0.0319 - accuracy: 0.9927 - val_loss: 0.8061 - val_accuracy: 0.7969\n",
      "Epoch 30/30\n",
      " - 2s - loss: 0.0304 - accuracy: 0.9918 - val_loss: 0.8331 - val_accuracy: 0.7814\n"
     ]
    }
   ],
   "source": [
    "history = model.fit(X_train_pad, y_train, batch_size=256, epochs=30, verbose=2, validation_data=(X_test_pad, y_test))"
   ]
  },
  {
   "cell_type": "code",
   "execution_count": 132,
   "metadata": {},
   "outputs": [
    {
     "data": {
      "image/png": "[encoded data removed]",
      "text/plain": [
       "<Figure size 432x288 with 1 Axes>"
      ]
     },
     "metadata": {
      "needs_background": "light"
     },
     "output_type": "display_data"
    },
    {
     "data": {
      "image/png": "[encoded data removed]",
      "text/plain": [
       "<Figure size 432x288 with 1 Axes>"
      ]
     },
     "metadata": {
      "needs_background": "light"
     },
     "output_type": "display_data"
    }
   ],
   "source": [
    "plt.plot(history.history['accuracy'])\n",
    "plt.plot(history.history['val_accuracy'])\n",
    "\n",
    "plt.title('model accuracy')\n",
    "plt.ylabel('accuracy')\n",
    "plt.xlabel('epoch')\n",
    "plt.legend(['train','test'], loc = 'upper left')\n",
    "plt.show()\n",
    "\n",
    "plt.plot(history.history['loss'])\n",
    "plt.plot(history.history['val_loss'])\n",
    "\n",
    "plt.title('model loss')\n",
    "plt.ylabel('loss')\n",
    "plt.xlabel('epoch')\n",
    "plt.legend(['train','test'], loc = 'upper left')\n",
    "plt.show()"
   ]
  },
  {
   "cell_type": "code",
   "execution_count": 133,
   "metadata": {},
   "outputs": [
    {
     "data": {
      "text/plain": [
       "array([[111,  35],\n",
       "       [ 78, 293]], dtype=int64)"
      ]
     },
     "execution_count": 133,
     "metadata": {},
     "output_type": "execute_result"
    }
   ],
   "source": [
    "y_pred = model.predict_classes(X_test_pad)\n",
    "confusion_matrix(y_pred ,y_test)"
   ]
  },
  {
   "cell_type": "code",
   "execution_count": 134,
   "metadata": {},
   "outputs": [],
   "source": [
    "def getModelError(y_pred, y_test, X_test):\n",
    "    X_test_list = X_test.tolist()\n",
    "    falsePositiveSentence = []\n",
    "    falseNegativeSentence = []\n",
    "    for i in range(0,len(y_pred)):\n",
    "        if y_test[i] == 1 and y_pred[i] == 0:\n",
    "            falsePositiveSentence.append(X_test_list[i])\n",
    "        elif y_test[i] == 0 and y_pred[i] == 1:\n",
    "            falseNegativeSentence.append(X_test_list[i])\n",
    "    return (falsePositiveSentence, falseNegativeSentence)"
   ]
  },
  {
   "cell_type": "code",
   "execution_count": 135,
   "metadata": {},
   "outputs": [],
   "source": [
    "falsePositive, falseNegative = getModelError(y_pred, y_test, X_test)"
   ]
  },
  {
   "cell_type": "code",
   "execution_count": 136,
   "metadata": {},
   "outputs": [
    {
     "data": {
      "text/plain": [
       "['watch $TSLA > 34.5 ',\n",
       " 'Eli Lilly & Co. (LLY) Has Broken Out To A New High On AstraZeneca Collaboration',\n",
       " 'UK MORNING BRIEFING: Sky And Hargreaves Lansdown Bookend FTSE 100',\n",
       " \"Britain's FTSE steadies below record high, BHP gains\",\n",
       " 'lets see 14+ today ',\n",
       " 'short didnt work out ',\n",
       " 'weakness could be opportunity Good to sell Nov Put for re-entry ',\n",
       " 'hanging tough in down market due to analyst upgrades Up almost 3% ',\n",
       " 'FTSE 100 movers: BG Group leads the charge as resource stocks jump',\n",
       " 'European shares fall on Chinese import data, SABMiller soars',\n",
       " '$SPY up only 0.6% Still holding ',\n",
       " 'UPDATE: CIB, Legal & General Sell Egyptian Life Joint Venture To AXA',\n",
       " 'may be ripe for a #takeover targe ',\n",
       " 'Tesco boss urges rethink on minimum wage and business rates',\n",
       " \"UPDATE 1-Britain's Tullow says makes new oil find in Kenya\",\n",
       " 'Cisco-Synata deal is a game-changer $CSCO ',\n",
       " 'L&G fund arm, Nikko Asset Management sign bond fund distribution deal',\n",
       " 'Daily Mail And General Trust eyeing Yahoo! ',\n",
       " 'RBI surprises Street; Sensex pares gains after hitting mount 30k',\n",
       " 'Barclays signs on to Apple Pay ',\n",
       " 'News FeedFTSE 100 movers: LSE surges as ICE says mulling offer; Ashtead and Barclays tank',\n",
       " \"Britain's FTSE steadies, supported by Dixons Carphone\",\n",
       " 'EU drops Shell, BP, Statoil from ethanol benchmark investigation',\n",
       " 'looks really interesting on drop grabbed some options and stock enough tme before earnings to grow the stock growth all sectors ',\n",
       " 'Companies Thetrainline.com announces arrival of London IPO',\n",
       " 'earnings were good ',\n",
       " 'EU drops Shell, BP, Statoil from ethanol benchmark investigation',\n",
       " \"Tesco to 'axe 10000 jobs' in 'simplification' drive to cut costs by 30 per cent\",\n",
       " \"isn't going anywhere buying \",\n",
       " 'not selling before ',\n",
       " 'Severn Trent profit up as customer complaints fall',\n",
       " 'BP wins right to appeal some Gulf spill damages claims',\n",
       " 'Worldpay readies for Ã‚Â£6bn London float',\n",
       " 'EU drops Shell, BP, Statoil from ethanol benchmark investigation',\n",
       " 'RBS invites pitches for broker role ahead of privatisation - sources']"
      ]
     },
     "execution_count": 136,
     "metadata": {},
     "output_type": "execute_result"
    }
   ],
   "source": [
    "falsePositive"
   ]
  },
  {
   "cell_type": "code",
   "execution_count": null,
   "metadata": {},
   "outputs": [],
   "source": []
  }
 ],
 "metadata": {
  "kernelspec": {
   "display_name": "Python 3",
   "language": "python",
   "name": "python3"
  },
  "language_info": {
   "codemirror_mode": {
    "name": "ipython",
    "version": 3
   },
   "file_extension": ".py",
   "mimetype": "text/x-python",
   "name": "python",
   "nbconvert_exporter": "python",
   "pygments_lexer": "ipython3",
   "version": "3.7.4"
  }
 },
 "nbformat": 4,
 "nbformat_minor": 2
}
